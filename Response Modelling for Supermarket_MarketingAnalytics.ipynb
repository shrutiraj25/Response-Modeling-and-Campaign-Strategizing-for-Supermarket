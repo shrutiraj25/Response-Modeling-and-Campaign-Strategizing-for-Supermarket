{
 "cells": [
  {
   "cell_type": "markdown",
   "id": "11ae45e0",
   "metadata": {},
   "source": [
    "## Problem Statement:\n",
    "A supermarket chain runs marketing campaigns with multiple offers on different products and services to boost sales.The data science team must build a response model to achieve the following strategic objectives for\n",
    "the supermarket's marketing campaigns.\n",
    "\n",
    "## Objectives:\n",
    "\n",
    "To improve responses.The supermarket is actually looking to get more responses from their marketing campaigns.\n",
    "\n",
    "To maximise the profit, maximise the return on investment made towards these marketing campaigns.`"
   ]
  },
  {
   "cell_type": "markdown",
   "id": "efc96d82",
   "metadata": {},
   "source": [
    "### Importing the libraries"
   ]
  },
  {
   "cell_type": "code",
   "execution_count": 79,
   "id": "8574df1f",
   "metadata": {},
   "outputs": [],
   "source": [
    "import numpy as np\n",
    "import pandas as pd\n",
    "import matplotlib.pyplot as plt\n",
    "import seaborn as sns"
   ]
  },
  {
   "cell_type": "markdown",
   "id": "3c0ea16e",
   "metadata": {},
   "source": [
    "#### Warning Suppression"
   ]
  },
  {
   "cell_type": "code",
   "execution_count": 80,
   "id": "92388b25",
   "metadata": {},
   "outputs": [],
   "source": [
    "import warnings\n",
    "warnings.filterwarnings('ignore')"
   ]
  },
  {
   "cell_type": "markdown",
   "id": "6d1487a5",
   "metadata": {},
   "source": [
    "### Importing the data"
   ]
  },
  {
   "cell_type": "code",
   "execution_count": 81,
   "id": "71bf1e64",
   "metadata": {},
   "outputs": [],
   "source": [
    "df=pd.read_excel('marketing_campaign.xlsx')"
   ]
  },
  {
   "cell_type": "markdown",
   "id": "4407447a",
   "metadata": {},
   "source": [
    "#### Setting Display options to ensure feature name visibility"
   ]
  },
  {
   "cell_type": "code",
   "execution_count": 82,
   "id": "23fb141e",
   "metadata": {},
   "outputs": [],
   "source": [
    "pd.set_option('display.max_columns',None)"
   ]
  },
  {
   "cell_type": "markdown",
   "id": "1e3014ee",
   "metadata": {},
   "source": [
    "### Data Preprocessing"
   ]
  },
  {
   "cell_type": "code",
   "execution_count": 83,
   "id": "5d1896e1",
   "metadata": {},
   "outputs": [
    {
     "data": {
      "text/plain": [
       "(2240, 29)"
      ]
     },
     "execution_count": 83,
     "metadata": {},
     "output_type": "execute_result"
    }
   ],
   "source": [
    "df.shape "
   ]
  },
  {
   "cell_type": "code",
   "execution_count": 84,
   "id": "fe52efec",
   "metadata": {},
   "outputs": [
    {
     "data": {
      "text/html": [
       "<div>\n",
       "<style scoped>\n",
       "    .dataframe tbody tr th:only-of-type {\n",
       "        vertical-align: middle;\n",
       "    }\n",
       "\n",
       "    .dataframe tbody tr th {\n",
       "        vertical-align: top;\n",
       "    }\n",
       "\n",
       "    .dataframe thead th {\n",
       "        text-align: right;\n",
       "    }\n",
       "</style>\n",
       "<table border=\"1\" class=\"dataframe\">\n",
       "  <thead>\n",
       "    <tr style=\"text-align: right;\">\n",
       "      <th></th>\n",
       "      <th>ID</th>\n",
       "      <th>Year_Birth</th>\n",
       "      <th>Education</th>\n",
       "      <th>Marital_Status</th>\n",
       "      <th>Income</th>\n",
       "      <th>Kidhome</th>\n",
       "      <th>Teenhome</th>\n",
       "      <th>Dt_Customer</th>\n",
       "      <th>Recency</th>\n",
       "      <th>MntWines</th>\n",
       "      <th>MntFruits</th>\n",
       "      <th>MntMeatProducts</th>\n",
       "      <th>MntFishProducts</th>\n",
       "      <th>MntSweetProducts</th>\n",
       "      <th>MntGoldProds</th>\n",
       "      <th>NumDealsPurchases</th>\n",
       "      <th>NumWebPurchases</th>\n",
       "      <th>NumCatalogPurchases</th>\n",
       "      <th>NumStorePurchases</th>\n",
       "      <th>NumWebVisitsMonth</th>\n",
       "      <th>AcceptedCmp3</th>\n",
       "      <th>AcceptedCmp4</th>\n",
       "      <th>AcceptedCmp5</th>\n",
       "      <th>AcceptedCmp1</th>\n",
       "      <th>AcceptedCmp2</th>\n",
       "      <th>Complain</th>\n",
       "      <th>Z_CostContact</th>\n",
       "      <th>Z_Revenue</th>\n",
       "      <th>Response</th>\n",
       "    </tr>\n",
       "  </thead>\n",
       "  <tbody>\n",
       "    <tr>\n",
       "      <th>0</th>\n",
       "      <td>5524</td>\n",
       "      <td>1957</td>\n",
       "      <td>Graduation</td>\n",
       "      <td>Single</td>\n",
       "      <td>58138.0</td>\n",
       "      <td>0</td>\n",
       "      <td>0</td>\n",
       "      <td>2012-09-04</td>\n",
       "      <td>58</td>\n",
       "      <td>635</td>\n",
       "      <td>88</td>\n",
       "      <td>546</td>\n",
       "      <td>172</td>\n",
       "      <td>88</td>\n",
       "      <td>88</td>\n",
       "      <td>3</td>\n",
       "      <td>8</td>\n",
       "      <td>10</td>\n",
       "      <td>4</td>\n",
       "      <td>7</td>\n",
       "      <td>0</td>\n",
       "      <td>0</td>\n",
       "      <td>0</td>\n",
       "      <td>0</td>\n",
       "      <td>0</td>\n",
       "      <td>0</td>\n",
       "      <td>3</td>\n",
       "      <td>11</td>\n",
       "      <td>1</td>\n",
       "    </tr>\n",
       "    <tr>\n",
       "      <th>1</th>\n",
       "      <td>2174</td>\n",
       "      <td>1954</td>\n",
       "      <td>Graduation</td>\n",
       "      <td>Single</td>\n",
       "      <td>46344.0</td>\n",
       "      <td>1</td>\n",
       "      <td>1</td>\n",
       "      <td>2014-03-08</td>\n",
       "      <td>38</td>\n",
       "      <td>11</td>\n",
       "      <td>1</td>\n",
       "      <td>6</td>\n",
       "      <td>2</td>\n",
       "      <td>1</td>\n",
       "      <td>6</td>\n",
       "      <td>2</td>\n",
       "      <td>1</td>\n",
       "      <td>1</td>\n",
       "      <td>2</td>\n",
       "      <td>5</td>\n",
       "      <td>0</td>\n",
       "      <td>0</td>\n",
       "      <td>0</td>\n",
       "      <td>0</td>\n",
       "      <td>0</td>\n",
       "      <td>0</td>\n",
       "      <td>3</td>\n",
       "      <td>11</td>\n",
       "      <td>0</td>\n",
       "    </tr>\n",
       "    <tr>\n",
       "      <th>2</th>\n",
       "      <td>4141</td>\n",
       "      <td>1965</td>\n",
       "      <td>Graduation</td>\n",
       "      <td>Together</td>\n",
       "      <td>71613.0</td>\n",
       "      <td>0</td>\n",
       "      <td>0</td>\n",
       "      <td>2013-08-21</td>\n",
       "      <td>26</td>\n",
       "      <td>426</td>\n",
       "      <td>49</td>\n",
       "      <td>127</td>\n",
       "      <td>111</td>\n",
       "      <td>21</td>\n",
       "      <td>42</td>\n",
       "      <td>1</td>\n",
       "      <td>8</td>\n",
       "      <td>2</td>\n",
       "      <td>10</td>\n",
       "      <td>4</td>\n",
       "      <td>0</td>\n",
       "      <td>0</td>\n",
       "      <td>0</td>\n",
       "      <td>0</td>\n",
       "      <td>0</td>\n",
       "      <td>0</td>\n",
       "      <td>3</td>\n",
       "      <td>11</td>\n",
       "      <td>0</td>\n",
       "    </tr>\n",
       "    <tr>\n",
       "      <th>3</th>\n",
       "      <td>6182</td>\n",
       "      <td>1984</td>\n",
       "      <td>Graduation</td>\n",
       "      <td>Together</td>\n",
       "      <td>26646.0</td>\n",
       "      <td>1</td>\n",
       "      <td>0</td>\n",
       "      <td>2014-02-10</td>\n",
       "      <td>26</td>\n",
       "      <td>11</td>\n",
       "      <td>4</td>\n",
       "      <td>20</td>\n",
       "      <td>10</td>\n",
       "      <td>3</td>\n",
       "      <td>5</td>\n",
       "      <td>2</td>\n",
       "      <td>2</td>\n",
       "      <td>0</td>\n",
       "      <td>4</td>\n",
       "      <td>6</td>\n",
       "      <td>0</td>\n",
       "      <td>0</td>\n",
       "      <td>0</td>\n",
       "      <td>0</td>\n",
       "      <td>0</td>\n",
       "      <td>0</td>\n",
       "      <td>3</td>\n",
       "      <td>11</td>\n",
       "      <td>0</td>\n",
       "    </tr>\n",
       "    <tr>\n",
       "      <th>4</th>\n",
       "      <td>5324</td>\n",
       "      <td>1981</td>\n",
       "      <td>PhD</td>\n",
       "      <td>Married</td>\n",
       "      <td>58293.0</td>\n",
       "      <td>1</td>\n",
       "      <td>0</td>\n",
       "      <td>2014-01-19</td>\n",
       "      <td>94</td>\n",
       "      <td>173</td>\n",
       "      <td>43</td>\n",
       "      <td>118</td>\n",
       "      <td>46</td>\n",
       "      <td>27</td>\n",
       "      <td>15</td>\n",
       "      <td>5</td>\n",
       "      <td>5</td>\n",
       "      <td>3</td>\n",
       "      <td>6</td>\n",
       "      <td>5</td>\n",
       "      <td>0</td>\n",
       "      <td>0</td>\n",
       "      <td>0</td>\n",
       "      <td>0</td>\n",
       "      <td>0</td>\n",
       "      <td>0</td>\n",
       "      <td>3</td>\n",
       "      <td>11</td>\n",
       "      <td>0</td>\n",
       "    </tr>\n",
       "  </tbody>\n",
       "</table>\n",
       "</div>"
      ],
      "text/plain": [
       "     ID  Year_Birth   Education Marital_Status   Income  Kidhome  Teenhome  \\\n",
       "0  5524        1957  Graduation         Single  58138.0        0         0   \n",
       "1  2174        1954  Graduation         Single  46344.0        1         1   \n",
       "2  4141        1965  Graduation       Together  71613.0        0         0   \n",
       "3  6182        1984  Graduation       Together  26646.0        1         0   \n",
       "4  5324        1981         PhD        Married  58293.0        1         0   \n",
       "\n",
       "  Dt_Customer  Recency  MntWines  MntFruits  MntMeatProducts  MntFishProducts  \\\n",
       "0  2012-09-04       58       635         88              546              172   \n",
       "1  2014-03-08       38        11          1                6                2   \n",
       "2  2013-08-21       26       426         49              127              111   \n",
       "3  2014-02-10       26        11          4               20               10   \n",
       "4  2014-01-19       94       173         43              118               46   \n",
       "\n",
       "   MntSweetProducts  MntGoldProds  NumDealsPurchases  NumWebPurchases  \\\n",
       "0                88            88                  3                8   \n",
       "1                 1             6                  2                1   \n",
       "2                21            42                  1                8   \n",
       "3                 3             5                  2                2   \n",
       "4                27            15                  5                5   \n",
       "\n",
       "   NumCatalogPurchases  NumStorePurchases  NumWebVisitsMonth  AcceptedCmp3  \\\n",
       "0                   10                  4                  7             0   \n",
       "1                    1                  2                  5             0   \n",
       "2                    2                 10                  4             0   \n",
       "3                    0                  4                  6             0   \n",
       "4                    3                  6                  5             0   \n",
       "\n",
       "   AcceptedCmp4  AcceptedCmp5  AcceptedCmp1  AcceptedCmp2  Complain  \\\n",
       "0             0             0             0             0         0   \n",
       "1             0             0             0             0         0   \n",
       "2             0             0             0             0         0   \n",
       "3             0             0             0             0         0   \n",
       "4             0             0             0             0         0   \n",
       "\n",
       "   Z_CostContact  Z_Revenue  Response  \n",
       "0              3         11         1  \n",
       "1              3         11         0  \n",
       "2              3         11         0  \n",
       "3              3         11         0  \n",
       "4              3         11         0  "
      ]
     },
     "execution_count": 84,
     "metadata": {},
     "output_type": "execute_result"
    }
   ],
   "source": [
    "df.head()"
   ]
  },
  {
   "cell_type": "markdown",
   "id": "d19bd9ca",
   "metadata": {},
   "source": [
    "ID: Unique identifier for each customer\n",
    "\n",
    "Year_Birth: The birth year of the customer\n",
    "\n",
    "Education: The educational background of the customer\n",
    "\n",
    "Marital_Status: The marital status of the customer\n",
    "\n",
    "Income: The annual income of the customer\n",
    "\n",
    "Kidhome: The number of small children in the customer's household\n",
    "\n",
    "Teenhome: The number of teenagers in the customer's household\n",
    "\n",
    "Dt_Customer: The date when the customer was enrolled as a customer\n",
    "\n",
    "Recency: The number of days since the last purchase made by the customer\n",
    "\n",
    "MntWines: The amount spent by the customer on wine products\n",
    "\n",
    "MntFruits: The amount spent by the customer on fruit products\n",
    "\n",
    "MntMeatProducts: The amount spent by the customer on meat products\n",
    "\n",
    "MntFishProducts: The amount spent by the customer on fish products\n",
    "\n",
    "MntSweetProducts: The amount spent by the customer on sweet products\n",
    "\n",
    "MntGoldProds: The amount spent by the customer on gold products\n",
    "\n",
    "NumDealsPurchases: The number of purchases made by the customer with a discount\n",
    "\n",
    "NumWebPurchases: The number of purchases made by the customer through the website\n",
    "\n",
    "NumCatalogPurchases: The number of purchases made by the customer through catalog\n",
    "\n",
    "NumStorePurchases: The number of purchases made by the customer directly from the store\n",
    "\n",
    "NumWebVisitsMonth: The number of website visits made by the customer in a month\n",
    "\n",
    "AcceptedCmp3-5: Flags indicating whether the customer accepted marketing campaigns 3 to 5\n",
    "\n",
    "AcceptedCmp1-2: Flags indicating whether the customer accepted marketing campaigns 1 and 2\n",
    "\n",
    "Complain: Flag indicating whether the customer has made any complaints\n",
    "\n",
    "Z_CostContact: The cost of contacting the customer\n",
    "\n",
    "Z_Revenue: The revenue generated from contacting the customer\n",
    "\n",
    "Response: The target variable indicating whether the customer responded to the marketing campaign (1 = Yes, 0 = No)"
   ]
  },
  {
   "cell_type": "markdown",
   "id": "612e068c",
   "metadata": {},
   "source": [
    "#### Dropping ID column "
   ]
  },
  {
   "cell_type": "markdown",
   "id": "b208a5c1",
   "metadata": {},
   "source": [
    "As ID column is not important as it does not provide any meaningful information so we will be dropping the ID column "
   ]
  },
  {
   "cell_type": "code",
   "execution_count": 85,
   "id": "7e94cb68",
   "metadata": {},
   "outputs": [
    {
     "name": "stdout",
     "output_type": "stream",
     "text": [
      "   Year_Birth   Education Marital_Status   Income  Kidhome  Teenhome  \\\n",
      "0        1957  Graduation         Single  58138.0        0         0   \n",
      "1        1954  Graduation         Single  46344.0        1         1   \n",
      "2        1965  Graduation       Together  71613.0        0         0   \n",
      "3        1984  Graduation       Together  26646.0        1         0   \n",
      "4        1981         PhD        Married  58293.0        1         0   \n",
      "\n",
      "  Dt_Customer  Recency  MntWines  MntFruits  MntMeatProducts  MntFishProducts  \\\n",
      "0  2012-09-04       58       635         88              546              172   \n",
      "1  2014-03-08       38        11          1                6                2   \n",
      "2  2013-08-21       26       426         49              127              111   \n",
      "3  2014-02-10       26        11          4               20               10   \n",
      "4  2014-01-19       94       173         43              118               46   \n",
      "\n",
      "   MntSweetProducts  MntGoldProds  NumDealsPurchases  NumWebPurchases  \\\n",
      "0                88            88                  3                8   \n",
      "1                 1             6                  2                1   \n",
      "2                21            42                  1                8   \n",
      "3                 3             5                  2                2   \n",
      "4                27            15                  5                5   \n",
      "\n",
      "   NumCatalogPurchases  NumStorePurchases  NumWebVisitsMonth  AcceptedCmp3  \\\n",
      "0                   10                  4                  7             0   \n",
      "1                    1                  2                  5             0   \n",
      "2                    2                 10                  4             0   \n",
      "3                    0                  4                  6             0   \n",
      "4                    3                  6                  5             0   \n",
      "\n",
      "   AcceptedCmp4  AcceptedCmp5  AcceptedCmp1  AcceptedCmp2  Complain  \\\n",
      "0             0             0             0             0         0   \n",
      "1             0             0             0             0         0   \n",
      "2             0             0             0             0         0   \n",
      "3             0             0             0             0         0   \n",
      "4             0             0             0             0         0   \n",
      "\n",
      "   Z_CostContact  Z_Revenue  Response  \n",
      "0              3         11         1  \n",
      "1              3         11         0  \n",
      "2              3         11         0  \n",
      "3              3         11         0  \n",
      "4              3         11         0  \n"
     ]
    }
   ],
   "source": [
    "df = df.drop(columns=['ID'], axis=1)\n",
    "print(df.head())"
   ]
  },
  {
   "cell_type": "markdown",
   "id": "7fb13e82",
   "metadata": {},
   "source": [
    "###  Defining Target and Independent Features"
   ]
  },
  {
   "cell_type": "code",
   "execution_count": 86,
   "id": "36c164e4",
   "metadata": {},
   "outputs": [],
   "source": [
    "Y=df[['Response']]  \n",
    "X=df.drop(['Response'],axis=1) "
   ]
  },
  {
   "cell_type": "markdown",
   "id": "9c9e0a4a",
   "metadata": {},
   "source": [
    "### Getting the Response Rate"
   ]
  },
  {
   "cell_type": "code",
   "execution_count": 87,
   "id": "5667791c",
   "metadata": {},
   "outputs": [
    {
     "data": {
      "text/plain": [
       "Response    0.149107\n",
       "dtype: float64"
      ]
     },
     "execution_count": 87,
     "metadata": {},
     "output_type": "execute_result"
    }
   ],
   "source": [
    "Y.mean()"
   ]
  },
  {
   "cell_type": "markdown",
   "id": "bf7e0b40",
   "metadata": {},
   "source": [
    "The average response rate is near about 15%. So, 15 customers out of 100 customers are responding to the marketing campaign right now."
   ]
  },
  {
   "cell_type": "markdown",
   "id": "9704b3f0",
   "metadata": {},
   "source": [
    "### Building Derived Features - Customer Age and Tenure"
   ]
  },
  {
   "cell_type": "markdown",
   "id": "41b0d925",
   "metadata": {},
   "source": [
    "From the given columns 'Year_Birth' and 'Dt_Customer' we can find 'Age' and 'Cust_Tenure' (Customer Tenure) by taking it's difference  from the reference date."
   ]
  },
  {
   "cell_type": "code",
   "execution_count": 88,
   "id": "a67b1dae",
   "metadata": {},
   "outputs": [
    {
     "name": "stdout",
     "output_type": "stream",
     "text": [
      "2023-04-22 00:00:00\n"
     ]
    }
   ],
   "source": [
    "import datetime\n",
    "reference_date=datetime.datetime(2023,4,22)\n",
    "print(reference_date)"
   ]
  },
  {
   "cell_type": "code",
   "execution_count": 89,
   "id": "c08eb191",
   "metadata": {},
   "outputs": [],
   "source": [
    "X['Year_Birth']=pd.to_datetime(df['Year_Birth'], format='%Y')\n",
    "X['Age'] = (reference_date- X['Year_Birth']).astype('timedelta64[Y]')\n",
    "\n",
    "X['Dt_Customer']=pd.to_datetime(X['Dt_Customer'])\n",
    "X['Cust_Tenure'] = (reference_date- X['Dt_Customer']).astype('timedelta64[Y]')"
   ]
  },
  {
   "cell_type": "markdown",
   "id": "0d87f595",
   "metadata": {},
   "source": [
    "As we got 'Age' and 'Cust_Tenure' we don't need Year_Birth and Dt_Customer columns, we drop the Year_Birth and Dt_Customer columns"
   ]
  },
  {
   "cell_type": "code",
   "execution_count": 90,
   "id": "b61cbcc2",
   "metadata": {},
   "outputs": [],
   "source": [
    "X=X.drop(['Year_Birth','Dt_Customer'],axis=1)"
   ]
  },
  {
   "cell_type": "code",
   "execution_count": 91,
   "id": "cf452d55",
   "metadata": {},
   "outputs": [
    {
     "data": {
      "text/html": [
       "<div>\n",
       "<style scoped>\n",
       "    .dataframe tbody tr th:only-of-type {\n",
       "        vertical-align: middle;\n",
       "    }\n",
       "\n",
       "    .dataframe tbody tr th {\n",
       "        vertical-align: top;\n",
       "    }\n",
       "\n",
       "    .dataframe thead th {\n",
       "        text-align: right;\n",
       "    }\n",
       "</style>\n",
       "<table border=\"1\" class=\"dataframe\">\n",
       "  <thead>\n",
       "    <tr style=\"text-align: right;\">\n",
       "      <th></th>\n",
       "      <th>Age</th>\n",
       "      <th>Cust_Tenure</th>\n",
       "    </tr>\n",
       "  </thead>\n",
       "  <tbody>\n",
       "    <tr>\n",
       "      <th>0</th>\n",
       "      <td>66.0</td>\n",
       "      <td>10.0</td>\n",
       "    </tr>\n",
       "    <tr>\n",
       "      <th>1</th>\n",
       "      <td>69.0</td>\n",
       "      <td>9.0</td>\n",
       "    </tr>\n",
       "    <tr>\n",
       "      <th>2</th>\n",
       "      <td>58.0</td>\n",
       "      <td>9.0</td>\n",
       "    </tr>\n",
       "    <tr>\n",
       "      <th>3</th>\n",
       "      <td>39.0</td>\n",
       "      <td>9.0</td>\n",
       "    </tr>\n",
       "    <tr>\n",
       "      <th>4</th>\n",
       "      <td>42.0</td>\n",
       "      <td>9.0</td>\n",
       "    </tr>\n",
       "  </tbody>\n",
       "</table>\n",
       "</div>"
      ],
      "text/plain": [
       "    Age  Cust_Tenure\n",
       "0  66.0         10.0\n",
       "1  69.0          9.0\n",
       "2  58.0          9.0\n",
       "3  39.0          9.0\n",
       "4  42.0          9.0"
      ]
     },
     "execution_count": 91,
     "metadata": {},
     "output_type": "execute_result"
    }
   ],
   "source": [
    "X[['Age','Cust_Tenure']].head() #adding to dependent variables dataframe "
   ]
  },
  {
   "cell_type": "markdown",
   "id": "c30ff9b8",
   "metadata": {},
   "source": [
    "### Split features into Numerical and Categorical"
   ]
  },
  {
   "cell_type": "code",
   "execution_count": 92,
   "id": "2bea2fef",
   "metadata": {
    "scrolled": true
   },
   "outputs": [
    {
     "name": "stdout",
     "output_type": "stream",
     "text": [
      "       Income  Kidhome  Teenhome  Recency  MntWines  MntFruits  \\\n",
      "0     58138.0        0         0       58       635         88   \n",
      "1     46344.0        1         1       38        11          1   \n",
      "2     71613.0        0         0       26       426         49   \n",
      "3     26646.0        1         0       26        11          4   \n",
      "4     58293.0        1         0       94       173         43   \n",
      "...       ...      ...       ...      ...       ...        ...   \n",
      "2235  61223.0        0         1       46       709         43   \n",
      "2236  64014.0        2         1       56       406          0   \n",
      "2237  56981.0        0         0       91       908         48   \n",
      "2238  69245.0        0         1        8       428         30   \n",
      "2239  52869.0        1         1       40        84          3   \n",
      "\n",
      "      MntMeatProducts  MntFishProducts  MntSweetProducts  MntGoldProds  \\\n",
      "0                 546              172                88            88   \n",
      "1                   6                2                 1             6   \n",
      "2                 127              111                21            42   \n",
      "3                  20               10                 3             5   \n",
      "4                 118               46                27            15   \n",
      "...               ...              ...               ...           ...   \n",
      "2235              182               42               118           247   \n",
      "2236               30                0                 0             8   \n",
      "2237              217               32                12            24   \n",
      "2238              214               80                30            61   \n",
      "2239               61                2                 1            21   \n",
      "\n",
      "      NumDealsPurchases  NumWebPurchases  NumCatalogPurchases  \\\n",
      "0                     3                8                   10   \n",
      "1                     2                1                    1   \n",
      "2                     1                8                    2   \n",
      "3                     2                2                    0   \n",
      "4                     5                5                    3   \n",
      "...                 ...              ...                  ...   \n",
      "2235                  2                9                    3   \n",
      "2236                  7                8                    2   \n",
      "2237                  1                2                    3   \n",
      "2238                  2                6                    5   \n",
      "2239                  3                3                    1   \n",
      "\n",
      "      NumStorePurchases  NumWebVisitsMonth  AcceptedCmp3  AcceptedCmp4  \\\n",
      "0                     4                  7             0             0   \n",
      "1                     2                  5             0             0   \n",
      "2                    10                  4             0             0   \n",
      "3                     4                  6             0             0   \n",
      "4                     6                  5             0             0   \n",
      "...                 ...                ...           ...           ...   \n",
      "2235                  4                  5             0             0   \n",
      "2236                  5                  7             0             0   \n",
      "2237                 13                  6             0             1   \n",
      "2238                 10                  3             0             0   \n",
      "2239                  4                  7             0             0   \n",
      "\n",
      "      AcceptedCmp5  AcceptedCmp1  AcceptedCmp2  Complain  Z_CostContact  \\\n",
      "0                0             0             0         0              3   \n",
      "1                0             0             0         0              3   \n",
      "2                0             0             0         0              3   \n",
      "3                0             0             0         0              3   \n",
      "4                0             0             0         0              3   \n",
      "...            ...           ...           ...       ...            ...   \n",
      "2235             0             0             0         0              3   \n",
      "2236             0             1             0         0              3   \n",
      "2237             0             0             0         0              3   \n",
      "2238             0             0             0         0              3   \n",
      "2239             0             0             0         0              3   \n",
      "\n",
      "      Z_Revenue   Age  Cust_Tenure  \n",
      "0            11  66.0         10.0  \n",
      "1            11  69.0          9.0  \n",
      "2            11  58.0          9.0  \n",
      "3            11  39.0          9.0  \n",
      "4            11  42.0          9.0  \n",
      "...         ...   ...          ...  \n",
      "2235         11  56.0          9.0  \n",
      "2236         11  77.0          8.0  \n",
      "2237         11  42.0          9.0  \n",
      "2238         11  67.0          9.0  \n",
      "2239         11  69.0         10.0  \n",
      "\n",
      "[2240 rows x 25 columns]\n",
      "       Education Marital_Status\n",
      "0     Graduation         Single\n",
      "1     Graduation         Single\n",
      "2     Graduation       Together\n",
      "3     Graduation       Together\n",
      "4            PhD        Married\n",
      "...          ...            ...\n",
      "2235  Graduation        Married\n",
      "2236         PhD       Together\n",
      "2237  Graduation       Divorced\n",
      "2238      Master       Together\n",
      "2239         PhD        Married\n",
      "\n",
      "[2240 rows x 2 columns]\n"
     ]
    }
   ],
   "source": [
    "num=X.select_dtypes(include=\"number\")\n",
    "char=X.select_dtypes(include=\"object\")\n",
    "print(num)\n",
    "print(char)"
   ]
  },
  {
   "cell_type": "markdown",
   "id": "cfba5e82",
   "metadata": {},
   "source": [
    "#### Finding unique levels in 'num' (Numerical Features)"
   ]
  },
  {
   "cell_type": "markdown",
   "id": "2f1c3c5d",
   "metadata": {},
   "source": [
    "Some numeric features like Kidhome, Teenhome have only 3 unique levels , even though it has been captured in a way where feature appears to be 'number' but we need to see if these features are continuous or not.\n",
    "These features although they are numerical but the nature of the feature is that of a categorical feature.\n",
    "We recognize these anomalies in the data by using a function called unique levels."
   ]
  },
  {
   "cell_type": "code",
   "execution_count": 93,
   "id": "7b43df76",
   "metadata": {},
   "outputs": [],
   "source": [
    "def unique_levels(x):\n",
    "    x=x.value_counts().count()\n",
    "    return(x)\n",
    "df_value_counts=pd.DataFrame(num.apply(lambda x : unique_levels(x)))"
   ]
  },
  {
   "cell_type": "code",
   "execution_count": 94,
   "id": "94f19a71",
   "metadata": {
    "scrolled": true
   },
   "outputs": [
    {
     "data": {
      "text/html": [
       "<div>\n",
       "<style scoped>\n",
       "    .dataframe tbody tr th:only-of-type {\n",
       "        vertical-align: middle;\n",
       "    }\n",
       "\n",
       "    .dataframe tbody tr th {\n",
       "        vertical-align: top;\n",
       "    }\n",
       "\n",
       "    .dataframe thead th {\n",
       "        text-align: right;\n",
       "    }\n",
       "</style>\n",
       "<table border=\"1\" class=\"dataframe\">\n",
       "  <thead>\n",
       "    <tr style=\"text-align: right;\">\n",
       "      <th></th>\n",
       "      <th>feature_levels</th>\n",
       "    </tr>\n",
       "  </thead>\n",
       "  <tbody>\n",
       "    <tr>\n",
       "      <th>Income</th>\n",
       "      <td>1974</td>\n",
       "    </tr>\n",
       "    <tr>\n",
       "      <th>Kidhome</th>\n",
       "      <td>3</td>\n",
       "    </tr>\n",
       "    <tr>\n",
       "      <th>Teenhome</th>\n",
       "      <td>3</td>\n",
       "    </tr>\n",
       "    <tr>\n",
       "      <th>Recency</th>\n",
       "      <td>100</td>\n",
       "    </tr>\n",
       "    <tr>\n",
       "      <th>MntWines</th>\n",
       "      <td>776</td>\n",
       "    </tr>\n",
       "  </tbody>\n",
       "</table>\n",
       "</div>"
      ],
      "text/plain": [
       "          feature_levels\n",
       "Income              1974\n",
       "Kidhome                3\n",
       "Teenhome               3\n",
       "Recency              100\n",
       "MntWines             776"
      ]
     },
     "execution_count": 94,
     "metadata": {},
     "output_type": "execute_result"
    }
   ],
   "source": [
    "df_value_counts.columns=['feature_levels']\n",
    "df_value_counts.head()"
   ]
  },
  {
   "cell_type": "markdown",
   "id": "70bdf959",
   "metadata": {},
   "source": [
    "We establish a threshold. For numerical features having feature_levels < 20 will be added to categorical feature"
   ]
  },
  {
   "cell_type": "code",
   "execution_count": 95,
   "id": "0551fcf4",
   "metadata": {},
   "outputs": [
    {
     "data": {
      "text/plain": [
       "Kidhome                  int64\n",
       "Teenhome                 int64\n",
       "NumDealsPurchases        int64\n",
       "NumWebPurchases          int64\n",
       "NumCatalogPurchases      int64\n",
       "NumStorePurchases        int64\n",
       "NumWebVisitsMonth        int64\n",
       "AcceptedCmp3             int64\n",
       "AcceptedCmp4             int64\n",
       "AcceptedCmp5             int64\n",
       "AcceptedCmp1             int64\n",
       "AcceptedCmp2             int64\n",
       "Complain                 int64\n",
       "Z_CostContact            int64\n",
       "Z_Revenue                int64\n",
       "Cust_Tenure            float64\n",
       "dtype: object"
      ]
     },
     "execution_count": 95,
     "metadata": {},
     "output_type": "execute_result"
    }
   ],
   "source": [
    "slice1=df_value_counts.loc[df_value_counts['feature_levels']<=20]\n",
    "cat_list=slice1.index\n",
    "cat=num.loc[:,cat_list]\n",
    "cat.dtypes"
   ]
  },
  {
   "cell_type": "markdown",
   "id": "6f936308",
   "metadata": {},
   "source": [
    "As the features datatype is still integer, we need to convert the datatype into character so that they can be treated as the categorical variables and be merged back into the dataframe 'char'"
   ]
  },
  {
   "cell_type": "code",
   "execution_count": 96,
   "id": "843882a0",
   "metadata": {},
   "outputs": [
    {
     "data": {
      "text/plain": [
       "Kidhome                object\n",
       "Teenhome               object\n",
       "NumDealsPurchases      object\n",
       "NumWebPurchases        object\n",
       "NumCatalogPurchases    object\n",
       "NumStorePurchases      object\n",
       "NumWebVisitsMonth      object\n",
       "AcceptedCmp3           object\n",
       "AcceptedCmp4           object\n",
       "AcceptedCmp5           object\n",
       "AcceptedCmp1           object\n",
       "AcceptedCmp2           object\n",
       "Complain               object\n",
       "Z_CostContact          object\n",
       "Z_Revenue              object\n",
       "Cust_Tenure            object\n",
       "dtype: object"
      ]
     },
     "execution_count": 96,
     "metadata": {},
     "output_type": "execute_result"
    }
   ],
   "source": [
    "def data_type_converter(x):\n",
    "    x=x.astype('object')\n",
    "    return(x)\n",
    "cat=cat.apply(lambda x : data_type_converter(x))\n",
    "cat.dtypes"
   ]
  },
  {
   "cell_type": "markdown",
   "id": "1dc00c16",
   "metadata": {},
   "source": [
    "For numerical features having feature_levels > 20 will be added to numerical feature"
   ]
  },
  {
   "cell_type": "code",
   "execution_count": 97,
   "id": "9bd444e8",
   "metadata": {},
   "outputs": [
    {
     "data": {
      "text/html": [
       "<div>\n",
       "<style scoped>\n",
       "    .dataframe tbody tr th:only-of-type {\n",
       "        vertical-align: middle;\n",
       "    }\n",
       "\n",
       "    .dataframe tbody tr th {\n",
       "        vertical-align: top;\n",
       "    }\n",
       "\n",
       "    .dataframe thead th {\n",
       "        text-align: right;\n",
       "    }\n",
       "</style>\n",
       "<table border=\"1\" class=\"dataframe\">\n",
       "  <thead>\n",
       "    <tr style=\"text-align: right;\">\n",
       "      <th></th>\n",
       "      <th>Income</th>\n",
       "      <th>Recency</th>\n",
       "      <th>MntWines</th>\n",
       "      <th>MntFruits</th>\n",
       "      <th>MntMeatProducts</th>\n",
       "      <th>MntFishProducts</th>\n",
       "      <th>MntSweetProducts</th>\n",
       "      <th>MntGoldProds</th>\n",
       "      <th>Age</th>\n",
       "    </tr>\n",
       "  </thead>\n",
       "  <tbody>\n",
       "    <tr>\n",
       "      <th>0</th>\n",
       "      <td>58138.0</td>\n",
       "      <td>58</td>\n",
       "      <td>635</td>\n",
       "      <td>88</td>\n",
       "      <td>546</td>\n",
       "      <td>172</td>\n",
       "      <td>88</td>\n",
       "      <td>88</td>\n",
       "      <td>66.0</td>\n",
       "    </tr>\n",
       "    <tr>\n",
       "      <th>1</th>\n",
       "      <td>46344.0</td>\n",
       "      <td>38</td>\n",
       "      <td>11</td>\n",
       "      <td>1</td>\n",
       "      <td>6</td>\n",
       "      <td>2</td>\n",
       "      <td>1</td>\n",
       "      <td>6</td>\n",
       "      <td>69.0</td>\n",
       "    </tr>\n",
       "    <tr>\n",
       "      <th>2</th>\n",
       "      <td>71613.0</td>\n",
       "      <td>26</td>\n",
       "      <td>426</td>\n",
       "      <td>49</td>\n",
       "      <td>127</td>\n",
       "      <td>111</td>\n",
       "      <td>21</td>\n",
       "      <td>42</td>\n",
       "      <td>58.0</td>\n",
       "    </tr>\n",
       "    <tr>\n",
       "      <th>3</th>\n",
       "      <td>26646.0</td>\n",
       "      <td>26</td>\n",
       "      <td>11</td>\n",
       "      <td>4</td>\n",
       "      <td>20</td>\n",
       "      <td>10</td>\n",
       "      <td>3</td>\n",
       "      <td>5</td>\n",
       "      <td>39.0</td>\n",
       "    </tr>\n",
       "    <tr>\n",
       "      <th>4</th>\n",
       "      <td>58293.0</td>\n",
       "      <td>94</td>\n",
       "      <td>173</td>\n",
       "      <td>43</td>\n",
       "      <td>118</td>\n",
       "      <td>46</td>\n",
       "      <td>27</td>\n",
       "      <td>15</td>\n",
       "      <td>42.0</td>\n",
       "    </tr>\n",
       "    <tr>\n",
       "      <th>...</th>\n",
       "      <td>...</td>\n",
       "      <td>...</td>\n",
       "      <td>...</td>\n",
       "      <td>...</td>\n",
       "      <td>...</td>\n",
       "      <td>...</td>\n",
       "      <td>...</td>\n",
       "      <td>...</td>\n",
       "      <td>...</td>\n",
       "    </tr>\n",
       "    <tr>\n",
       "      <th>2235</th>\n",
       "      <td>61223.0</td>\n",
       "      <td>46</td>\n",
       "      <td>709</td>\n",
       "      <td>43</td>\n",
       "      <td>182</td>\n",
       "      <td>42</td>\n",
       "      <td>118</td>\n",
       "      <td>247</td>\n",
       "      <td>56.0</td>\n",
       "    </tr>\n",
       "    <tr>\n",
       "      <th>2236</th>\n",
       "      <td>64014.0</td>\n",
       "      <td>56</td>\n",
       "      <td>406</td>\n",
       "      <td>0</td>\n",
       "      <td>30</td>\n",
       "      <td>0</td>\n",
       "      <td>0</td>\n",
       "      <td>8</td>\n",
       "      <td>77.0</td>\n",
       "    </tr>\n",
       "    <tr>\n",
       "      <th>2237</th>\n",
       "      <td>56981.0</td>\n",
       "      <td>91</td>\n",
       "      <td>908</td>\n",
       "      <td>48</td>\n",
       "      <td>217</td>\n",
       "      <td>32</td>\n",
       "      <td>12</td>\n",
       "      <td>24</td>\n",
       "      <td>42.0</td>\n",
       "    </tr>\n",
       "    <tr>\n",
       "      <th>2238</th>\n",
       "      <td>69245.0</td>\n",
       "      <td>8</td>\n",
       "      <td>428</td>\n",
       "      <td>30</td>\n",
       "      <td>214</td>\n",
       "      <td>80</td>\n",
       "      <td>30</td>\n",
       "      <td>61</td>\n",
       "      <td>67.0</td>\n",
       "    </tr>\n",
       "    <tr>\n",
       "      <th>2239</th>\n",
       "      <td>52869.0</td>\n",
       "      <td>40</td>\n",
       "      <td>84</td>\n",
       "      <td>3</td>\n",
       "      <td>61</td>\n",
       "      <td>2</td>\n",
       "      <td>1</td>\n",
       "      <td>21</td>\n",
       "      <td>69.0</td>\n",
       "    </tr>\n",
       "  </tbody>\n",
       "</table>\n",
       "<p>2240 rows × 9 columns</p>\n",
       "</div>"
      ],
      "text/plain": [
       "       Income  Recency  MntWines  MntFruits  MntMeatProducts  MntFishProducts  \\\n",
       "0     58138.0       58       635         88              546              172   \n",
       "1     46344.0       38        11          1                6                2   \n",
       "2     71613.0       26       426         49              127              111   \n",
       "3     26646.0       26        11          4               20               10   \n",
       "4     58293.0       94       173         43              118               46   \n",
       "...       ...      ...       ...        ...              ...              ...   \n",
       "2235  61223.0       46       709         43              182               42   \n",
       "2236  64014.0       56       406          0               30                0   \n",
       "2237  56981.0       91       908         48              217               32   \n",
       "2238  69245.0        8       428         30              214               80   \n",
       "2239  52869.0       40        84          3               61                2   \n",
       "\n",
       "      MntSweetProducts  MntGoldProds   Age  \n",
       "0                   88            88  66.0  \n",
       "1                    1             6  69.0  \n",
       "2                   21            42  58.0  \n",
       "3                    3             5  39.0  \n",
       "4                   27            15  42.0  \n",
       "...                ...           ...   ...  \n",
       "2235               118           247  56.0  \n",
       "2236                 0             8  77.0  \n",
       "2237                12            24  42.0  \n",
       "2238                30            61  67.0  \n",
       "2239                 1            21  69.0  \n",
       "\n",
       "[2240 rows x 9 columns]"
      ]
     },
     "execution_count": 97,
     "metadata": {},
     "output_type": "execute_result"
    }
   ],
   "source": [
    "slice2=df_value_counts.loc[df_value_counts['feature_levels']>20]\n",
    "num_list=slice2.index\n",
    "num=num.loc[:,num_list]\n",
    "num"
   ]
  },
  {
   "cell_type": "code",
   "execution_count": 98,
   "id": "de0b66ce",
   "metadata": {},
   "outputs": [],
   "source": [
    "char=pd.concat([char,cat],axis=1,join=\"inner\")"
   ]
  },
  {
   "cell_type": "code",
   "execution_count": 99,
   "id": "5a2707b9",
   "metadata": {},
   "outputs": [
    {
     "name": "stdout",
     "output_type": "stream",
     "text": [
      "The shape of numerical dataframe : (2240, 9)\n",
      "The shape of categorical datafrme : (2240, 18)\n"
     ]
    }
   ],
   "source": [
    "print (\"The shape of numerical dataframe :\",num.shape)\n",
    "print (\"The shape of categorical datafrme :\",char.shape)"
   ]
  },
  {
   "cell_type": "markdown",
   "id": "cf3433f0",
   "metadata": {},
   "source": [
    "### Outlier Analysis of Numerical Features"
   ]
  },
  {
   "cell_type": "markdown",
   "id": "7619f585",
   "metadata": {},
   "source": [
    "We used percentile with the describe() to give a better sense of percentile wise distribution. There might be extreme values between min and 1st percentile and the max and 99th percentile "
   ]
  },
  {
   "cell_type": "code",
   "execution_count": 100,
   "id": "0b3e56d1",
   "metadata": {
    "scrolled": true
   },
   "outputs": [
    {
     "data": {
      "text/html": [
       "<div>\n",
       "<style scoped>\n",
       "    .dataframe tbody tr th:only-of-type {\n",
       "        vertical-align: middle;\n",
       "    }\n",
       "\n",
       "    .dataframe tbody tr th {\n",
       "        vertical-align: top;\n",
       "    }\n",
       "\n",
       "    .dataframe thead th {\n",
       "        text-align: right;\n",
       "    }\n",
       "</style>\n",
       "<table border=\"1\" class=\"dataframe\">\n",
       "  <thead>\n",
       "    <tr style=\"text-align: right;\">\n",
       "      <th></th>\n",
       "      <th>Income</th>\n",
       "      <th>Recency</th>\n",
       "      <th>MntWines</th>\n",
       "      <th>MntFruits</th>\n",
       "      <th>MntMeatProducts</th>\n",
       "      <th>MntFishProducts</th>\n",
       "      <th>MntSweetProducts</th>\n",
       "      <th>MntGoldProds</th>\n",
       "      <th>Age</th>\n",
       "    </tr>\n",
       "  </thead>\n",
       "  <tbody>\n",
       "    <tr>\n",
       "      <th>count</th>\n",
       "      <td>2216.000000</td>\n",
       "      <td>2240.000000</td>\n",
       "      <td>2240.000000</td>\n",
       "      <td>2240.000000</td>\n",
       "      <td>2240.000000</td>\n",
       "      <td>2240.000000</td>\n",
       "      <td>2240.000000</td>\n",
       "      <td>2240.000000</td>\n",
       "      <td>2240.000000</td>\n",
       "    </tr>\n",
       "    <tr>\n",
       "      <th>mean</th>\n",
       "      <td>52247.251354</td>\n",
       "      <td>49.109375</td>\n",
       "      <td>303.935714</td>\n",
       "      <td>26.302232</td>\n",
       "      <td>166.950000</td>\n",
       "      <td>37.525446</td>\n",
       "      <td>27.062946</td>\n",
       "      <td>44.021875</td>\n",
       "      <td>54.194196</td>\n",
       "    </tr>\n",
       "    <tr>\n",
       "      <th>std</th>\n",
       "      <td>25173.076661</td>\n",
       "      <td>28.962453</td>\n",
       "      <td>336.597393</td>\n",
       "      <td>39.773434</td>\n",
       "      <td>225.715373</td>\n",
       "      <td>54.628979</td>\n",
       "      <td>41.280498</td>\n",
       "      <td>52.167439</td>\n",
       "      <td>11.984069</td>\n",
       "    </tr>\n",
       "    <tr>\n",
       "      <th>min</th>\n",
       "      <td>1730.000000</td>\n",
       "      <td>0.000000</td>\n",
       "      <td>0.000000</td>\n",
       "      <td>0.000000</td>\n",
       "      <td>0.000000</td>\n",
       "      <td>0.000000</td>\n",
       "      <td>0.000000</td>\n",
       "      <td>0.000000</td>\n",
       "      <td>27.000000</td>\n",
       "    </tr>\n",
       "    <tr>\n",
       "      <th>1%</th>\n",
       "      <td>7579.200000</td>\n",
       "      <td>0.000000</td>\n",
       "      <td>1.000000</td>\n",
       "      <td>0.000000</td>\n",
       "      <td>2.000000</td>\n",
       "      <td>0.000000</td>\n",
       "      <td>0.000000</td>\n",
       "      <td>0.000000</td>\n",
       "      <td>31.000000</td>\n",
       "    </tr>\n",
       "    <tr>\n",
       "      <th>5%</th>\n",
       "      <td>18985.500000</td>\n",
       "      <td>4.000000</td>\n",
       "      <td>3.000000</td>\n",
       "      <td>0.000000</td>\n",
       "      <td>4.000000</td>\n",
       "      <td>0.000000</td>\n",
       "      <td>0.000000</td>\n",
       "      <td>1.000000</td>\n",
       "      <td>35.000000</td>\n",
       "    </tr>\n",
       "    <tr>\n",
       "      <th>10%</th>\n",
       "      <td>24117.500000</td>\n",
       "      <td>9.000000</td>\n",
       "      <td>6.000000</td>\n",
       "      <td>0.000000</td>\n",
       "      <td>7.000000</td>\n",
       "      <td>0.000000</td>\n",
       "      <td>0.000000</td>\n",
       "      <td>3.000000</td>\n",
       "      <td>39.000000</td>\n",
       "    </tr>\n",
       "    <tr>\n",
       "      <th>25%</th>\n",
       "      <td>35303.000000</td>\n",
       "      <td>24.000000</td>\n",
       "      <td>23.750000</td>\n",
       "      <td>1.000000</td>\n",
       "      <td>16.000000</td>\n",
       "      <td>3.000000</td>\n",
       "      <td>1.000000</td>\n",
       "      <td>9.000000</td>\n",
       "      <td>46.000000</td>\n",
       "    </tr>\n",
       "    <tr>\n",
       "      <th>50%</th>\n",
       "      <td>51381.500000</td>\n",
       "      <td>49.000000</td>\n",
       "      <td>173.500000</td>\n",
       "      <td>8.000000</td>\n",
       "      <td>67.000000</td>\n",
       "      <td>12.000000</td>\n",
       "      <td>8.000000</td>\n",
       "      <td>24.000000</td>\n",
       "      <td>53.000000</td>\n",
       "    </tr>\n",
       "    <tr>\n",
       "      <th>75%</th>\n",
       "      <td>68522.000000</td>\n",
       "      <td>74.000000</td>\n",
       "      <td>504.250000</td>\n",
       "      <td>33.000000</td>\n",
       "      <td>232.000000</td>\n",
       "      <td>50.000000</td>\n",
       "      <td>33.000000</td>\n",
       "      <td>56.000000</td>\n",
       "      <td>64.000000</td>\n",
       "    </tr>\n",
       "    <tr>\n",
       "      <th>85%</th>\n",
       "      <td>75744.750000</td>\n",
       "      <td>84.000000</td>\n",
       "      <td>693.000000</td>\n",
       "      <td>61.000000</td>\n",
       "      <td>396.150000</td>\n",
       "      <td>90.000000</td>\n",
       "      <td>61.000000</td>\n",
       "      <td>92.000000</td>\n",
       "      <td>68.000000</td>\n",
       "    </tr>\n",
       "    <tr>\n",
       "      <th>90%</th>\n",
       "      <td>79844.000000</td>\n",
       "      <td>89.000000</td>\n",
       "      <td>822.100000</td>\n",
       "      <td>83.000000</td>\n",
       "      <td>499.000000</td>\n",
       "      <td>120.000000</td>\n",
       "      <td>89.000000</td>\n",
       "      <td>122.000000</td>\n",
       "      <td>71.000000</td>\n",
       "    </tr>\n",
       "    <tr>\n",
       "      <th>99%</th>\n",
       "      <td>94458.800000</td>\n",
       "      <td>98.000000</td>\n",
       "      <td>1285.000000</td>\n",
       "      <td>172.000000</td>\n",
       "      <td>915.000000</td>\n",
       "      <td>226.220000</td>\n",
       "      <td>177.220000</td>\n",
       "      <td>227.000000</td>\n",
       "      <td>78.000000</td>\n",
       "    </tr>\n",
       "    <tr>\n",
       "      <th>max</th>\n",
       "      <td>666666.000000</td>\n",
       "      <td>99.000000</td>\n",
       "      <td>1493.000000</td>\n",
       "      <td>199.000000</td>\n",
       "      <td>1725.000000</td>\n",
       "      <td>259.000000</td>\n",
       "      <td>263.000000</td>\n",
       "      <td>362.000000</td>\n",
       "      <td>130.000000</td>\n",
       "    </tr>\n",
       "  </tbody>\n",
       "</table>\n",
       "</div>"
      ],
      "text/plain": [
       "              Income      Recency     MntWines    MntFruits  MntMeatProducts  \\\n",
       "count    2216.000000  2240.000000  2240.000000  2240.000000      2240.000000   \n",
       "mean    52247.251354    49.109375   303.935714    26.302232       166.950000   \n",
       "std     25173.076661    28.962453   336.597393    39.773434       225.715373   \n",
       "min      1730.000000     0.000000     0.000000     0.000000         0.000000   \n",
       "1%       7579.200000     0.000000     1.000000     0.000000         2.000000   \n",
       "5%      18985.500000     4.000000     3.000000     0.000000         4.000000   \n",
       "10%     24117.500000     9.000000     6.000000     0.000000         7.000000   \n",
       "25%     35303.000000    24.000000    23.750000     1.000000        16.000000   \n",
       "50%     51381.500000    49.000000   173.500000     8.000000        67.000000   \n",
       "75%     68522.000000    74.000000   504.250000    33.000000       232.000000   \n",
       "85%     75744.750000    84.000000   693.000000    61.000000       396.150000   \n",
       "90%     79844.000000    89.000000   822.100000    83.000000       499.000000   \n",
       "99%     94458.800000    98.000000  1285.000000   172.000000       915.000000   \n",
       "max    666666.000000    99.000000  1493.000000   199.000000      1725.000000   \n",
       "\n",
       "       MntFishProducts  MntSweetProducts  MntGoldProds          Age  \n",
       "count      2240.000000       2240.000000   2240.000000  2240.000000  \n",
       "mean         37.525446         27.062946     44.021875    54.194196  \n",
       "std          54.628979         41.280498     52.167439    11.984069  \n",
       "min           0.000000          0.000000      0.000000    27.000000  \n",
       "1%            0.000000          0.000000      0.000000    31.000000  \n",
       "5%            0.000000          0.000000      1.000000    35.000000  \n",
       "10%           0.000000          0.000000      3.000000    39.000000  \n",
       "25%           3.000000          1.000000      9.000000    46.000000  \n",
       "50%          12.000000          8.000000     24.000000    53.000000  \n",
       "75%          50.000000         33.000000     56.000000    64.000000  \n",
       "85%          90.000000         61.000000     92.000000    68.000000  \n",
       "90%         120.000000         89.000000    122.000000    71.000000  \n",
       "99%         226.220000        177.220000    227.000000    78.000000  \n",
       "max         259.000000        263.000000    362.000000   130.000000  "
      ]
     },
     "execution_count": 100,
     "metadata": {},
     "output_type": "execute_result"
    }
   ],
   "source": [
    "num.describe(percentiles=[0.01,0.05,0.10,0.25,0.50,0.75,0.85,0.9,0.99])"
   ]
  },
  {
   "cell_type": "markdown",
   "id": "939f0347",
   "metadata": {},
   "source": [
    "Here we can see for Age column, 99% of customers are upto 76 years or lower . 1% of case of customer is 127 years which is a higher extreme values."
   ]
  },
  {
   "cell_type": "markdown",
   "id": "4437d505",
   "metadata": {},
   "source": [
    "### Capping and Flooring of outliers"
   ]
  },
  {
   "cell_type": "code",
   "execution_count": 101,
   "id": "4b0408e6",
   "metadata": {},
   "outputs": [],
   "source": [
    "def outlier_cap(x):\n",
    "    x=x.clip(lower=x.quantile(0.01))\n",
    "    x=x.clip(upper=x.quantile(0.99))\n",
    "    return(x)"
   ]
  },
  {
   "cell_type": "code",
   "execution_count": 102,
   "id": "346bc505",
   "metadata": {},
   "outputs": [],
   "source": [
    "num=num.apply(lambda x : outlier_cap(x))"
   ]
  },
  {
   "cell_type": "code",
   "execution_count": 103,
   "id": "2ff0228e",
   "metadata": {
    "scrolled": true
   },
   "outputs": [
    {
     "data": {
      "text/html": [
       "<div>\n",
       "<style scoped>\n",
       "    .dataframe tbody tr th:only-of-type {\n",
       "        vertical-align: middle;\n",
       "    }\n",
       "\n",
       "    .dataframe tbody tr th {\n",
       "        vertical-align: top;\n",
       "    }\n",
       "\n",
       "    .dataframe thead th {\n",
       "        text-align: right;\n",
       "    }\n",
       "</style>\n",
       "<table border=\"1\" class=\"dataframe\">\n",
       "  <thead>\n",
       "    <tr style=\"text-align: right;\">\n",
       "      <th></th>\n",
       "      <th>Income</th>\n",
       "      <th>Recency</th>\n",
       "      <th>MntWines</th>\n",
       "      <th>MntFruits</th>\n",
       "      <th>MntMeatProducts</th>\n",
       "      <th>MntFishProducts</th>\n",
       "      <th>MntSweetProducts</th>\n",
       "      <th>MntGoldProds</th>\n",
       "      <th>Age</th>\n",
       "    </tr>\n",
       "  </thead>\n",
       "  <tbody>\n",
       "    <tr>\n",
       "      <th>count</th>\n",
       "      <td>2216.000000</td>\n",
       "      <td>2240.000000</td>\n",
       "      <td>2240.000000</td>\n",
       "      <td>2240.000000</td>\n",
       "      <td>2240.000000</td>\n",
       "      <td>2240.000000</td>\n",
       "      <td>2240.000000</td>\n",
       "      <td>2240.000000</td>\n",
       "      <td>2240.000000</td>\n",
       "    </tr>\n",
       "    <tr>\n",
       "      <th>mean</th>\n",
       "      <td>51770.277076</td>\n",
       "      <td>49.101786</td>\n",
       "      <td>302.909821</td>\n",
       "      <td>26.158482</td>\n",
       "      <td>165.075446</td>\n",
       "      <td>37.351366</td>\n",
       "      <td>26.873688</td>\n",
       "      <td>43.770089</td>\n",
       "      <td>54.132143</td>\n",
       "    </tr>\n",
       "    <tr>\n",
       "      <th>std</th>\n",
       "      <td>20728.704775</td>\n",
       "      <td>28.949501</td>\n",
       "      <td>333.316827</td>\n",
       "      <td>39.208270</td>\n",
       "      <td>216.547373</td>\n",
       "      <td>53.985910</td>\n",
       "      <td>40.484302</td>\n",
       "      <td>51.118104</td>\n",
       "      <td>11.666094</td>\n",
       "    </tr>\n",
       "    <tr>\n",
       "      <th>min</th>\n",
       "      <td>7579.200000</td>\n",
       "      <td>0.000000</td>\n",
       "      <td>1.000000</td>\n",
       "      <td>0.000000</td>\n",
       "      <td>2.000000</td>\n",
       "      <td>0.000000</td>\n",
       "      <td>0.000000</td>\n",
       "      <td>0.000000</td>\n",
       "      <td>31.000000</td>\n",
       "    </tr>\n",
       "    <tr>\n",
       "      <th>1%</th>\n",
       "      <td>7646.520000</td>\n",
       "      <td>0.000000</td>\n",
       "      <td>1.000000</td>\n",
       "      <td>0.000000</td>\n",
       "      <td>2.000000</td>\n",
       "      <td>0.000000</td>\n",
       "      <td>0.000000</td>\n",
       "      <td>0.000000</td>\n",
       "      <td>31.000000</td>\n",
       "    </tr>\n",
       "    <tr>\n",
       "      <th>5%</th>\n",
       "      <td>18985.500000</td>\n",
       "      <td>4.000000</td>\n",
       "      <td>3.000000</td>\n",
       "      <td>0.000000</td>\n",
       "      <td>4.000000</td>\n",
       "      <td>0.000000</td>\n",
       "      <td>0.000000</td>\n",
       "      <td>1.000000</td>\n",
       "      <td>35.000000</td>\n",
       "    </tr>\n",
       "    <tr>\n",
       "      <th>10%</th>\n",
       "      <td>24117.500000</td>\n",
       "      <td>9.000000</td>\n",
       "      <td>6.000000</td>\n",
       "      <td>0.000000</td>\n",
       "      <td>7.000000</td>\n",
       "      <td>0.000000</td>\n",
       "      <td>0.000000</td>\n",
       "      <td>3.000000</td>\n",
       "      <td>39.000000</td>\n",
       "    </tr>\n",
       "    <tr>\n",
       "      <th>25%</th>\n",
       "      <td>35303.000000</td>\n",
       "      <td>24.000000</td>\n",
       "      <td>23.750000</td>\n",
       "      <td>1.000000</td>\n",
       "      <td>16.000000</td>\n",
       "      <td>3.000000</td>\n",
       "      <td>1.000000</td>\n",
       "      <td>9.000000</td>\n",
       "      <td>46.000000</td>\n",
       "    </tr>\n",
       "    <tr>\n",
       "      <th>50%</th>\n",
       "      <td>51381.500000</td>\n",
       "      <td>49.000000</td>\n",
       "      <td>173.500000</td>\n",
       "      <td>8.000000</td>\n",
       "      <td>67.000000</td>\n",
       "      <td>12.000000</td>\n",
       "      <td>8.000000</td>\n",
       "      <td>24.000000</td>\n",
       "      <td>53.000000</td>\n",
       "    </tr>\n",
       "    <tr>\n",
       "      <th>75%</th>\n",
       "      <td>68522.000000</td>\n",
       "      <td>74.000000</td>\n",
       "      <td>504.250000</td>\n",
       "      <td>33.000000</td>\n",
       "      <td>232.000000</td>\n",
       "      <td>50.000000</td>\n",
       "      <td>33.000000</td>\n",
       "      <td>56.000000</td>\n",
       "      <td>64.000000</td>\n",
       "    </tr>\n",
       "    <tr>\n",
       "      <th>85%</th>\n",
       "      <td>75744.750000</td>\n",
       "      <td>84.000000</td>\n",
       "      <td>693.000000</td>\n",
       "      <td>61.000000</td>\n",
       "      <td>396.150000</td>\n",
       "      <td>90.000000</td>\n",
       "      <td>61.000000</td>\n",
       "      <td>92.000000</td>\n",
       "      <td>68.000000</td>\n",
       "    </tr>\n",
       "    <tr>\n",
       "      <th>90%</th>\n",
       "      <td>79844.000000</td>\n",
       "      <td>89.000000</td>\n",
       "      <td>822.100000</td>\n",
       "      <td>83.000000</td>\n",
       "      <td>499.000000</td>\n",
       "      <td>120.000000</td>\n",
       "      <td>89.000000</td>\n",
       "      <td>122.000000</td>\n",
       "      <td>71.000000</td>\n",
       "    </tr>\n",
       "    <tr>\n",
       "      <th>99%</th>\n",
       "      <td>94447.580000</td>\n",
       "      <td>98.000000</td>\n",
       "      <td>1285.000000</td>\n",
       "      <td>172.000000</td>\n",
       "      <td>915.000000</td>\n",
       "      <td>225.744200</td>\n",
       "      <td>176.744200</td>\n",
       "      <td>227.000000</td>\n",
       "      <td>78.000000</td>\n",
       "    </tr>\n",
       "    <tr>\n",
       "      <th>max</th>\n",
       "      <td>94458.800000</td>\n",
       "      <td>98.000000</td>\n",
       "      <td>1285.000000</td>\n",
       "      <td>172.000000</td>\n",
       "      <td>915.000000</td>\n",
       "      <td>226.220000</td>\n",
       "      <td>177.220000</td>\n",
       "      <td>227.000000</td>\n",
       "      <td>78.000000</td>\n",
       "    </tr>\n",
       "  </tbody>\n",
       "</table>\n",
       "</div>"
      ],
      "text/plain": [
       "             Income      Recency     MntWines    MntFruits  MntMeatProducts  \\\n",
       "count   2216.000000  2240.000000  2240.000000  2240.000000      2240.000000   \n",
       "mean   51770.277076    49.101786   302.909821    26.158482       165.075446   \n",
       "std    20728.704775    28.949501   333.316827    39.208270       216.547373   \n",
       "min     7579.200000     0.000000     1.000000     0.000000         2.000000   \n",
       "1%      7646.520000     0.000000     1.000000     0.000000         2.000000   \n",
       "5%     18985.500000     4.000000     3.000000     0.000000         4.000000   \n",
       "10%    24117.500000     9.000000     6.000000     0.000000         7.000000   \n",
       "25%    35303.000000    24.000000    23.750000     1.000000        16.000000   \n",
       "50%    51381.500000    49.000000   173.500000     8.000000        67.000000   \n",
       "75%    68522.000000    74.000000   504.250000    33.000000       232.000000   \n",
       "85%    75744.750000    84.000000   693.000000    61.000000       396.150000   \n",
       "90%    79844.000000    89.000000   822.100000    83.000000       499.000000   \n",
       "99%    94447.580000    98.000000  1285.000000   172.000000       915.000000   \n",
       "max    94458.800000    98.000000  1285.000000   172.000000       915.000000   \n",
       "\n",
       "       MntFishProducts  MntSweetProducts  MntGoldProds          Age  \n",
       "count      2240.000000       2240.000000   2240.000000  2240.000000  \n",
       "mean         37.351366         26.873688     43.770089    54.132143  \n",
       "std          53.985910         40.484302     51.118104    11.666094  \n",
       "min           0.000000          0.000000      0.000000    31.000000  \n",
       "1%            0.000000          0.000000      0.000000    31.000000  \n",
       "5%            0.000000          0.000000      1.000000    35.000000  \n",
       "10%           0.000000          0.000000      3.000000    39.000000  \n",
       "25%           3.000000          1.000000      9.000000    46.000000  \n",
       "50%          12.000000          8.000000     24.000000    53.000000  \n",
       "75%          50.000000         33.000000     56.000000    64.000000  \n",
       "85%          90.000000         61.000000     92.000000    68.000000  \n",
       "90%         120.000000         89.000000    122.000000    71.000000  \n",
       "99%         225.744200        176.744200    227.000000    78.000000  \n",
       "max         226.220000        177.220000    227.000000    78.000000  "
      ]
     },
     "execution_count": 103,
     "metadata": {},
     "output_type": "execute_result"
    }
   ],
   "source": [
    "num.describe(percentiles=[0.01,0.05,0.10,0.25,0.50,0.75,0.85,0.9,0.99])"
   ]
  },
  {
   "cell_type": "markdown",
   "id": "1a3d97c7",
   "metadata": {},
   "source": [
    "There was a gap between the 99th percentile and max, but there is no such gap between them.Age for that 1% customer here now is also 78 years  "
   ]
  },
  {
   "cell_type": "markdown",
   "id": "4a0c97b6",
   "metadata": {},
   "source": [
    "### Missing Value Handling - Numerical Features"
   ]
  },
  {
   "cell_type": "markdown",
   "id": "919f1352",
   "metadata": {},
   "source": [
    "Now, that we have taken care of outlier we can use mean to handle the missing values. As arithmetic mean is extremely susceptible to outliers."
   ]
  },
  {
   "cell_type": "code",
   "execution_count": 104,
   "id": "d6d2daff",
   "metadata": {},
   "outputs": [
    {
     "data": {
      "text/plain": [
       "Income              0.010714\n",
       "Recency             0.000000\n",
       "MntWines            0.000000\n",
       "MntFruits           0.000000\n",
       "MntMeatProducts     0.000000\n",
       "MntFishProducts     0.000000\n",
       "MntSweetProducts    0.000000\n",
       "MntGoldProds        0.000000\n",
       "Age                 0.000000\n",
       "dtype: float64"
      ]
     },
     "execution_count": 104,
     "metadata": {},
     "output_type": "execute_result"
    }
   ],
   "source": [
    "num.isnull().mean()"
   ]
  },
  {
   "cell_type": "markdown",
   "id": "e019777e",
   "metadata": {},
   "source": [
    "### Missing Value Handling - Numerical Features (Imputation with Mean)¶"
   ]
  },
  {
   "cell_type": "markdown",
   "id": "75cf1569",
   "metadata": {},
   "source": [
    "Here, we are using fillna() to fill in the missing values with the mean "
   ]
  },
  {
   "cell_type": "code",
   "execution_count": 105,
   "id": "55ca2fbc",
   "metadata": {
    "scrolled": true
   },
   "outputs": [],
   "source": [
    "num['Income'] = num['Income'].fillna(num['Income'].mean())"
   ]
  },
  {
   "cell_type": "code",
   "execution_count": 106,
   "id": "18f11e62",
   "metadata": {
    "scrolled": true
   },
   "outputs": [
    {
     "data": {
      "text/plain": [
       "Income              0.0\n",
       "Recency             0.0\n",
       "MntWines            0.0\n",
       "MntFruits           0.0\n",
       "MntMeatProducts     0.0\n",
       "MntFishProducts     0.0\n",
       "MntSweetProducts    0.0\n",
       "MntGoldProds        0.0\n",
       "Age                 0.0\n",
       "dtype: float64"
      ]
     },
     "execution_count": 106,
     "metadata": {},
     "output_type": "execute_result"
    }
   ],
   "source": [
    "num.isnull().mean()"
   ]
  },
  {
   "cell_type": "markdown",
   "id": "eb6e74a5",
   "metadata": {},
   "source": [
    "### Missing Value Handling - Categorical Features "
   ]
  },
  {
   "cell_type": "code",
   "execution_count": 107,
   "id": "845ec201",
   "metadata": {},
   "outputs": [
    {
     "data": {
      "text/plain": [
       "Education              0.0\n",
       "Marital_Status         0.0\n",
       "Kidhome                0.0\n",
       "Teenhome               0.0\n",
       "NumDealsPurchases      0.0\n",
       "NumWebPurchases        0.0\n",
       "NumCatalogPurchases    0.0\n",
       "NumStorePurchases      0.0\n",
       "NumWebVisitsMonth      0.0\n",
       "AcceptedCmp3           0.0\n",
       "AcceptedCmp4           0.0\n",
       "AcceptedCmp5           0.0\n",
       "AcceptedCmp1           0.0\n",
       "AcceptedCmp2           0.0\n",
       "Complain               0.0\n",
       "Z_CostContact          0.0\n",
       "Z_Revenue              0.0\n",
       "Cust_Tenure            0.0\n",
       "dtype: float64"
      ]
     },
     "execution_count": 107,
     "metadata": {},
     "output_type": "execute_result"
    }
   ],
   "source": [
    "char.isnull().mean()"
   ]
  },
  {
   "cell_type": "markdown",
   "id": "cb264ecb",
   "metadata": {},
   "source": [
    "Here there are no missing values in the categorical features."
   ]
  },
  {
   "cell_type": "markdown",
   "id": "c16b7656",
   "metadata": {},
   "source": [
    "### Feature Selection - Numerical Features"
   ]
  },
  {
   "cell_type": "markdown",
   "id": "0e99376b",
   "metadata": {},
   "source": [
    "#### Remove Features with 0 Variance-Variance Threshold\n",
    "When a feature has 0 variance, it means that all the values in that feature are the same, providing no useful information for the analysis."
   ]
  },
  {
   "cell_type": "code",
   "execution_count": 108,
   "id": "68343346",
   "metadata": {},
   "outputs": [],
   "source": [
    "from sklearn.feature_selection import VarianceThreshold\n",
    "\n",
    "varselector= VarianceThreshold(threshold=0)\n",
    "varselector.fit_transform(num)\n",
    "# Get columns to keep and create new dataframe with those only\n",
    "cols = varselector.get_support(indices=True)\n",
    "num1 = num.iloc[:,cols]"
   ]
  },
  {
   "cell_type": "code",
   "execution_count": 109,
   "id": "57132871",
   "metadata": {},
   "outputs": [
    {
     "data": {
      "text/plain": [
       "Income              58138.0\n",
       "Recency                58.0\n",
       "MntWines              635.0\n",
       "MntFruits              88.0\n",
       "MntMeatProducts       546.0\n",
       "MntFishProducts       172.0\n",
       "MntSweetProducts       88.0\n",
       "MntGoldProds           88.0\n",
       "Age                    66.0\n",
       "Name: 0, dtype: float64"
      ]
     },
     "execution_count": 109,
     "metadata": {},
     "output_type": "execute_result"
    }
   ],
   "source": [
    "num1.iloc[0]"
   ]
  },
  {
   "cell_type": "markdown",
   "id": "735bf514",
   "metadata": {},
   "source": [
    "As there were no feature with 0 variance, all the features gets selected."
   ]
  },
  {
   "cell_type": "markdown",
   "id": "58b43c1d",
   "metadata": {},
   "source": [
    "### Bivariate Analysis (Feature Discretization)\n",
    "\n"
   ]
  },
  {
   "cell_type": "markdown",
   "id": "6fa315a0",
   "metadata": {},
   "source": [
    "By binning the numerical values, you are dividing them into discrete categories or intervals. This allows you to analyze \n",
    "the relationship between these categories and the response rate. Binning can help identify any patterns or \n",
    "trends in the response rate based on different ranges or levels of the binned feature."
   ]
  },
  {
   "cell_type": "code",
   "execution_count": 110,
   "id": "ace82870",
   "metadata": {},
   "outputs": [
    {
     "data": {
      "text/html": [
       "<div>\n",
       "<style scoped>\n",
       "    .dataframe tbody tr th:only-of-type {\n",
       "        vertical-align: middle;\n",
       "    }\n",
       "\n",
       "    .dataframe tbody tr th {\n",
       "        vertical-align: top;\n",
       "    }\n",
       "\n",
       "    .dataframe thead th {\n",
       "        text-align: right;\n",
       "    }\n",
       "</style>\n",
       "<table border=\"1\" class=\"dataframe\">\n",
       "  <thead>\n",
       "    <tr style=\"text-align: right;\">\n",
       "      <th></th>\n",
       "      <th>Income_Rank</th>\n",
       "      <th>Recency_Rank</th>\n",
       "      <th>MntWines_Rank</th>\n",
       "      <th>MntFruits_Rank</th>\n",
       "      <th>MntMeatProducts_Rank</th>\n",
       "      <th>MntFishProducts_Rank</th>\n",
       "      <th>MntSweetProducts_Rank</th>\n",
       "      <th>MntGoldProds_Rank</th>\n",
       "      <th>Age_Rank</th>\n",
       "    </tr>\n",
       "  </thead>\n",
       "  <tbody>\n",
       "    <tr>\n",
       "      <th>0</th>\n",
       "      <td>5.0</td>\n",
       "      <td>5.0</td>\n",
       "      <td>8.0</td>\n",
       "      <td>8.0</td>\n",
       "      <td>9.0</td>\n",
       "      <td>8.0</td>\n",
       "      <td>7.0</td>\n",
       "      <td>8.0</td>\n",
       "      <td>8.0</td>\n",
       "    </tr>\n",
       "    <tr>\n",
       "      <th>1</th>\n",
       "      <td>4.0</td>\n",
       "      <td>3.0</td>\n",
       "      <td>1.0</td>\n",
       "      <td>1.0</td>\n",
       "      <td>0.0</td>\n",
       "      <td>1.0</td>\n",
       "      <td>1.0</td>\n",
       "      <td>2.0</td>\n",
       "      <td>8.0</td>\n",
       "    </tr>\n",
       "    <tr>\n",
       "      <th>2</th>\n",
       "      <td>7.0</td>\n",
       "      <td>2.0</td>\n",
       "      <td>7.0</td>\n",
       "      <td>7.0</td>\n",
       "      <td>6.0</td>\n",
       "      <td>7.0</td>\n",
       "      <td>5.0</td>\n",
       "      <td>6.0</td>\n",
       "      <td>6.0</td>\n",
       "    </tr>\n",
       "    <tr>\n",
       "      <th>3</th>\n",
       "      <td>1.0</td>\n",
       "      <td>2.0</td>\n",
       "      <td>1.0</td>\n",
       "      <td>3.0</td>\n",
       "      <td>3.0</td>\n",
       "      <td>3.0</td>\n",
       "      <td>2.0</td>\n",
       "      <td>1.0</td>\n",
       "      <td>1.0</td>\n",
       "    </tr>\n",
       "    <tr>\n",
       "      <th>4</th>\n",
       "      <td>6.0</td>\n",
       "      <td>9.0</td>\n",
       "      <td>4.0</td>\n",
       "      <td>6.0</td>\n",
       "      <td>6.0</td>\n",
       "      <td>6.0</td>\n",
       "      <td>6.0</td>\n",
       "      <td>3.0</td>\n",
       "      <td>1.0</td>\n",
       "    </tr>\n",
       "  </tbody>\n",
       "</table>\n",
       "</div>"
      ],
      "text/plain": [
       "   Income_Rank  Recency_Rank  MntWines_Rank  MntFruits_Rank  \\\n",
       "0          5.0           5.0            8.0             8.0   \n",
       "1          4.0           3.0            1.0             1.0   \n",
       "2          7.0           2.0            7.0             7.0   \n",
       "3          1.0           2.0            1.0             3.0   \n",
       "4          6.0           9.0            4.0             6.0   \n",
       "\n",
       "   MntMeatProducts_Rank  MntFishProducts_Rank  MntSweetProducts_Rank  \\\n",
       "0                   9.0                   8.0                    7.0   \n",
       "1                   0.0                   1.0                    1.0   \n",
       "2                   6.0                   7.0                    5.0   \n",
       "3                   3.0                   3.0                    2.0   \n",
       "4                   6.0                   6.0                    6.0   \n",
       "\n",
       "   MntGoldProds_Rank  Age_Rank  \n",
       "0                8.0       8.0  \n",
       "1                2.0       8.0  \n",
       "2                6.0       6.0  \n",
       "3                1.0       1.0  \n",
       "4                3.0       1.0  "
      ]
     },
     "execution_count": 110,
     "metadata": {},
     "output_type": "execute_result"
    }
   ],
   "source": [
    "from sklearn.preprocessing import KBinsDiscretizer\n",
    "discrete=KBinsDiscretizer(n_bins=10,encode='ordinal', strategy='quantile')\n",
    "num_binned=pd.DataFrame(discrete.fit_transform(num1),index=num1.index, columns=num1.columns).add_suffix('_Rank')\n",
    "num_binned.head()"
   ]
  },
  {
   "cell_type": "code",
   "execution_count": 111,
   "id": "f45dd106",
   "metadata": {},
   "outputs": [
    {
     "data": {
      "image/png": "[encoded data removed]",
      "text/plain": [
       "<Figure size 640x480 with 1 Axes>"
      ]
     },
     "metadata": {},
     "output_type": "display_data"
    },
    {
     "data": {
      "image/png": "[encoded data removed]",
      "text/plain": [
       "<Figure size 640x480 with 1 Axes>"
      ]
     },
     "metadata": {},
     "output_type": "display_data"
    },
    {
     "data": {
      "image/png": "[encoded data removed]",
      "text/plain": [
       "<Figure size 640x480 with 1 Axes>"
      ]
     },
     "metadata": {},
     "output_type": "display_data"
    },
    {
     "data": {
      "image/png": "[encoded data removed]",
      "text/plain": [
       "<Figure size 640x480 with 1 Axes>"
      ]
     },
     "metadata": {},
     "output_type": "display_data"
    },
    {
     "data": {
      "image/png": "[encoded data removed]",
      "text/plain": [
       "<Figure size 640x480 with 1 Axes>"
      ]
     },
     "metadata": {},
     "output_type": "display_data"
    },
    {
     "data": {
      "image/png": "[encoded data removed]",
      "text/plain": [
       "<Figure size 640x480 with 1 Axes>"
      ]
     },
     "metadata": {},
     "output_type": "display_data"
    },
    {
     "data": {
      "image/png": "[encoded data removed]",
      "text/plain": [
       "<Figure size 640x480 with 1 Axes>"
      ]
     },
     "metadata": {},
     "output_type": "display_data"
    },
    {
     "data": {
      "image/png": "[encoded data removed]",
      "text/plain": [
       "<Figure size 640x480 with 1 Axes>"
      ]
     },
     "metadata": {},
     "output_type": "display_data"
    },
    {
     "data": {
      "image/png": "[encoded data removed]",
      "text/plain": [
       "<Figure size 640x480 with 1 Axes>"
      ]
     },
     "metadata": {},
     "output_type": "display_data"
    }
   ],
   "source": [
    "X_bin_combined=pd.concat([Y,num_binned],axis=1,join='inner')\n",
    "\n",
    "from numpy import mean\n",
    "for col in (num_binned.columns):\n",
    "    plt.figure()\n",
    "    sns.lineplot(x=col,y=X_bin_combined['Response'].mean(),data=X_bin_combined,color='red')\n",
    "    sns.barplot(x=col, y=\"Response\",data=X_bin_combined, estimator=mean )\n",
    "plt.show()"
   ]
  },
  {
   "cell_type": "markdown",
   "id": "7e55a9e8",
   "metadata": {},
   "source": [
    "Apart from age , all others are good predictors"
   ]
  },
  {
   "cell_type": "code",
   "execution_count": 112,
   "id": "fbd5d3e7",
   "metadata": {},
   "outputs": [
    {
     "data": {
      "text/plain": [
       "(2240, 8)"
      ]
     },
     "execution_count": 112,
     "metadata": {},
     "output_type": "execute_result"
    }
   ],
   "source": [
    "num_droplist=['Age']\n",
    "num1=num1.drop(num_droplist,axis=1)\n",
    "num1.shape"
   ]
  },
  {
   "cell_type": "code",
   "execution_count": 113,
   "id": "63f40e24",
   "metadata": {},
   "outputs": [],
   "source": [
    "    from sklearn.feature_selection import SelectKBest, mutual_info_classif\n",
    "    selector = SelectKBest(mutual_info_classif,k=6)\n",
    "    selector.fit_transform(num1, Y)\n",
    "    # Get columns to keep and create new dataframe with those only\n",
    "    cols = selector.get_support(indices=True)\n",
    "    select_features_df_num = num1.iloc[:,cols]"
   ]
  },
  {
   "cell_type": "code",
   "execution_count": 114,
   "id": "4a534bbf",
   "metadata": {},
   "outputs": [
    {
     "data": {
      "text/plain": [
       "Income             58138.0\n",
       "MntWines             635.0\n",
       "MntFruits             88.0\n",
       "MntMeatProducts      546.0\n",
       "MntFishProducts      172.0\n",
       "MntGoldProds          88.0\n",
       "Name: 0, dtype: float64"
      ]
     },
     "execution_count": 114,
     "metadata": {},
     "output_type": "execute_result"
    }
   ],
   "source": [
    "select_features_df_num.iloc[0]"
   ]
  },
  {
   "cell_type": "markdown",
   "id": "434ed9b8",
   "metadata": {},
   "source": [
    "### Feature Selection - Categorical Features "
   ]
  },
  {
   "cell_type": "code",
   "execution_count": 115,
   "id": "19b1f6b5",
   "metadata": {},
   "outputs": [
    {
     "data": {
      "text/plain": [
       "Education              object\n",
       "Marital_Status         object\n",
       "Kidhome                object\n",
       "Teenhome               object\n",
       "NumDealsPurchases      object\n",
       "NumWebPurchases        object\n",
       "NumCatalogPurchases    object\n",
       "NumStorePurchases      object\n",
       "NumWebVisitsMonth      object\n",
       "AcceptedCmp3           object\n",
       "AcceptedCmp4           object\n",
       "AcceptedCmp5           object\n",
       "AcceptedCmp1           object\n",
       "AcceptedCmp2           object\n",
       "Complain               object\n",
       "Z_CostContact          object\n",
       "Z_Revenue              object\n",
       "Cust_Tenure            object\n",
       "dtype: object"
      ]
     },
     "execution_count": 115,
     "metadata": {},
     "output_type": "execute_result"
    }
   ],
   "source": [
    "char.dtypes"
   ]
  },
  {
   "cell_type": "code",
   "execution_count": 116,
   "id": "189775d8",
   "metadata": {},
   "outputs": [],
   "source": [
    "def unique_levels(x):\n",
    "    x=x.value_counts().count()\n",
    "    return(x)\n",
    "char_unique_levels=pd.DataFrame(char.apply(lambda x : unique_levels(x)))"
   ]
  },
  {
   "cell_type": "code",
   "execution_count": 117,
   "id": "3e867f99",
   "metadata": {},
   "outputs": [
    {
     "data": {
      "text/html": [
       "<div>\n",
       "<style scoped>\n",
       "    .dataframe tbody tr th:only-of-type {\n",
       "        vertical-align: middle;\n",
       "    }\n",
       "\n",
       "    .dataframe tbody tr th {\n",
       "        vertical-align: top;\n",
       "    }\n",
       "\n",
       "    .dataframe thead th {\n",
       "        text-align: right;\n",
       "    }\n",
       "</style>\n",
       "<table border=\"1\" class=\"dataframe\">\n",
       "  <thead>\n",
       "    <tr style=\"text-align: right;\">\n",
       "      <th></th>\n",
       "      <th>0</th>\n",
       "    </tr>\n",
       "  </thead>\n",
       "  <tbody>\n",
       "    <tr>\n",
       "      <th>Education</th>\n",
       "      <td>5</td>\n",
       "    </tr>\n",
       "    <tr>\n",
       "      <th>Marital_Status</th>\n",
       "      <td>8</td>\n",
       "    </tr>\n",
       "    <tr>\n",
       "      <th>Kidhome</th>\n",
       "      <td>3</td>\n",
       "    </tr>\n",
       "    <tr>\n",
       "      <th>Teenhome</th>\n",
       "      <td>3</td>\n",
       "    </tr>\n",
       "    <tr>\n",
       "      <th>NumDealsPurchases</th>\n",
       "      <td>15</td>\n",
       "    </tr>\n",
       "    <tr>\n",
       "      <th>NumWebPurchases</th>\n",
       "      <td>15</td>\n",
       "    </tr>\n",
       "    <tr>\n",
       "      <th>NumCatalogPurchases</th>\n",
       "      <td>14</td>\n",
       "    </tr>\n",
       "    <tr>\n",
       "      <th>NumStorePurchases</th>\n",
       "      <td>14</td>\n",
       "    </tr>\n",
       "    <tr>\n",
       "      <th>NumWebVisitsMonth</th>\n",
       "      <td>16</td>\n",
       "    </tr>\n",
       "    <tr>\n",
       "      <th>AcceptedCmp3</th>\n",
       "      <td>2</td>\n",
       "    </tr>\n",
       "    <tr>\n",
       "      <th>AcceptedCmp4</th>\n",
       "      <td>2</td>\n",
       "    </tr>\n",
       "    <tr>\n",
       "      <th>AcceptedCmp5</th>\n",
       "      <td>2</td>\n",
       "    </tr>\n",
       "    <tr>\n",
       "      <th>AcceptedCmp1</th>\n",
       "      <td>2</td>\n",
       "    </tr>\n",
       "    <tr>\n",
       "      <th>AcceptedCmp2</th>\n",
       "      <td>2</td>\n",
       "    </tr>\n",
       "    <tr>\n",
       "      <th>Complain</th>\n",
       "      <td>2</td>\n",
       "    </tr>\n",
       "    <tr>\n",
       "      <th>Z_CostContact</th>\n",
       "      <td>1</td>\n",
       "    </tr>\n",
       "    <tr>\n",
       "      <th>Z_Revenue</th>\n",
       "      <td>1</td>\n",
       "    </tr>\n",
       "    <tr>\n",
       "      <th>Cust_Tenure</th>\n",
       "      <td>3</td>\n",
       "    </tr>\n",
       "  </tbody>\n",
       "</table>\n",
       "</div>"
      ],
      "text/plain": [
       "                      0\n",
       "Education             5\n",
       "Marital_Status        8\n",
       "Kidhome               3\n",
       "Teenhome              3\n",
       "NumDealsPurchases    15\n",
       "NumWebPurchases      15\n",
       "NumCatalogPurchases  14\n",
       "NumStorePurchases    14\n",
       "NumWebVisitsMonth    16\n",
       "AcceptedCmp3          2\n",
       "AcceptedCmp4          2\n",
       "AcceptedCmp5          2\n",
       "AcceptedCmp1          2\n",
       "AcceptedCmp2          2\n",
       "Complain              2\n",
       "Z_CostContact         1\n",
       "Z_Revenue             1\n",
       "Cust_Tenure           3"
      ]
     },
     "execution_count": 117,
     "metadata": {},
     "output_type": "execute_result"
    }
   ],
   "source": [
    "char_unique_levels"
   ]
  },
  {
   "cell_type": "code",
   "execution_count": 118,
   "id": "b6e4b60f",
   "metadata": {},
   "outputs": [],
   "source": [
    "char_unique_levels.columns=['feature_levels']\n",
    "slice1=char_unique_levels.loc[char_unique_levels['feature_levels']>1]\n",
    "cat_list=slice1.index\n",
    "char=char.loc[:,cat_list]"
   ]
  },
  {
   "cell_type": "markdown",
   "id": "1f3f360b",
   "metadata": {},
   "source": [
    "### Feature Selection - Categorical Features"
   ]
  },
  {
   "cell_type": "markdown",
   "id": "38cbcac8",
   "metadata": {},
   "source": [
    "### Part 1 - Bi Variate Analysis"
   ]
  },
  {
   "cell_type": "code",
   "execution_count": 119,
   "id": "4620e355",
   "metadata": {
    "scrolled": false
   },
   "outputs": [
    {
     "data": {
      "image/png": "[encoded data removed]",
      "text/plain": [
       "<Figure size 640x480 with 1 Axes>"
      ]
     },
     "metadata": {},
     "output_type": "display_data"
    },
    {
     "data": {
      "image/png": "[encoded data removed]",
      "text/plain": [
       "<Figure size 640x480 with 1 Axes>"
      ]
     },
     "metadata": {},
     "output_type": "display_data"
    },
    {
     "data": {
      "image/png": "[encoded data removed]",
      "text/plain": [
       "<Figure size 640x480 with 1 Axes>"
      ]
     },
     "metadata": {},
     "output_type": "display_data"
    },
    {
     "data": {
      "image/png": "[encoded data removed]",
      "text/plain": [
       "<Figure size 640x480 with 1 Axes>"
      ]
     },
     "metadata": {},
     "output_type": "display_data"
    },
    {
     "data": {
      "image/png": "[encoded data removed]",
      "text/plain": [
       "<Figure size 640x480 with 1 Axes>"
      ]
     },
     "metadata": {},
     "output_type": "display_data"
    },
    {
     "data": {
      "image/png": "[encoded data removed]",
      "text/plain": [
       "<Figure size 640x480 with 1 Axes>"
      ]
     },
     "metadata": {},
     "output_type": "display_data"
    },
    {
     "data": {
      "image/png": "[encoded data removed]",
      "text/plain": [
       "<Figure size 640x480 with 1 Axes>"
      ]
     },
     "metadata": {},
     "output_type": "display_data"
    },
    {
     "data": {
      "image/png": "[encoded data removed]",
      "text/plain": [
       "<Figure size 640x480 with 1 Axes>"
      ]
     },
     "metadata": {},
     "output_type": "display_data"
    },
    {
     "data": {
      "image/png": "[encoded data removed]",
      "text/plain": [
       "<Figure size 640x480 with 1 Axes>"
      ]
     },
     "metadata": {},
     "output_type": "display_data"
    },
    {
     "data": {
      "image/png": "[encoded data removed]",
      "text/plain": [
       "<Figure size 640x480 with 1 Axes>"
      ]
     },
     "metadata": {},
     "output_type": "display_data"
    },
    {
     "data": {
      "image/png": "[encoded data removed]",
      "text/plain": [
       "<Figure size 640x480 with 1 Axes>"
      ]
     },
     "metadata": {},
     "output_type": "display_data"
    },
    {
     "data": {
      "image/png": "[encoded data removed]",
      "text/plain": [
       "<Figure size 640x480 with 1 Axes>"
      ]
     },
     "metadata": {},
     "output_type": "display_data"
    },
    {
     "data": {
      "image/png": "[encoded data removed]",
      "text/plain": [
       "<Figure size 640x480 with 1 Axes>"
      ]
     },
     "metadata": {},
     "output_type": "display_data"
    },
    {
     "data": {
      "image/png": "[encoded data removed]",
      "text/plain": [
       "<Figure size 640x480 with 1 Axes>"
      ]
     },
     "metadata": {},
     "output_type": "display_data"
    },
    {
     "data": {
      "image/png": "[encoded data removed]",
      "text/plain": [
       "<Figure size 640x480 with 1 Axes>"
      ]
     },
     "metadata": {},
     "output_type": "display_data"
    },
    {
     "data": {
      "image/png": "[encoded data removed]",
      "text/plain": [
       "<Figure size 640x480 with 1 Axes>"
      ]
     },
     "metadata": {},
     "output_type": "display_data"
    }
   ],
   "source": [
    "import matplotlib.pyplot as plt\n",
    "import seaborn as sns\n",
    "X_char_merged=pd.concat([Y,char],axis=1,join='inner')\n",
    "\n",
    "from numpy import mean\n",
    "for col in (char.columns):\n",
    "    plt.figure()\n",
    "    sns.lineplot(x=col,y=X_char_merged['Response'].mean(),data=X_char_merged,color='red')\n",
    "    sns.barplot(x=col, y=\"Response\",data=X_char_merged, estimator=mean )\n",
    "plt.show()"
   ]
  },
  {
   "cell_type": "code",
   "execution_count": 120,
   "id": "31ada408",
   "metadata": {},
   "outputs": [
    {
     "data": {
      "text/plain": [
       "Education              object\n",
       "Marital_Status         object\n",
       "Kidhome                object\n",
       "Teenhome               object\n",
       "NumDealsPurchases      object\n",
       "NumWebPurchases        object\n",
       "NumCatalogPurchases    object\n",
       "NumStorePurchases      object\n",
       "NumWebVisitsMonth      object\n",
       "AcceptedCmp3           object\n",
       "AcceptedCmp4           object\n",
       "AcceptedCmp5           object\n",
       "AcceptedCmp1           object\n",
       "AcceptedCmp2           object\n",
       "Complain               object\n",
       "Cust_Tenure            object\n",
       "dtype: object"
      ]
     },
     "execution_count": 120,
     "metadata": {},
     "output_type": "execute_result"
    }
   ],
   "source": [
    "char.dtypes"
   ]
  },
  {
   "cell_type": "code",
   "execution_count": 121,
   "id": "e2da4060",
   "metadata": {},
   "outputs": [
    {
     "data": {
      "text/plain": [
       "(2240, 13)"
      ]
     },
     "execution_count": 121,
     "metadata": {},
     "output_type": "execute_result"
    }
   ],
   "source": [
    "char_droplist=['Education','NumStorePurchases','Complain']\n",
    "char=char.drop(char_droplist,axis=1)\n",
    "char.shape"
   ]
  },
  {
   "cell_type": "code",
   "execution_count": 122,
   "id": "ee164abe",
   "metadata": {},
   "outputs": [
    {
     "data": {
      "text/plain": [
       "(2240, 74)"
      ]
     },
     "execution_count": 122,
     "metadata": {},
     "output_type": "execute_result"
    }
   ],
   "source": [
    "# Create dummy features with n-1 levels\n",
    "X_char_dum = pd.get_dummies(char, drop_first = True)\n",
    "X_char_dum.shape"
   ]
  },
  {
   "cell_type": "markdown",
   "id": "81f8fc88",
   "metadata": {},
   "source": [
    "### Part 2 - Select K Best"
   ]
  },
  {
   "cell_type": "code",
   "execution_count": 123,
   "id": "226896b6",
   "metadata": {},
   "outputs": [],
   "source": [
    "# Select K Best for Categorical Features\n",
    "from sklearn.feature_selection import SelectKBest, chi2\n",
    "selector = SelectKBest(chi2, k=70)\n",
    "selector.fit_transform(X_char_dum, Y)\n",
    "# Get columns to keep and create new dataframe with those only\n",
    "cols = selector.get_support(indices=True)\n",
    "select_features_df_char = X_char_dum.iloc[:,cols]"
   ]
  },
  {
   "cell_type": "code",
   "execution_count": 124,
   "id": "d92d2df0",
   "metadata": {},
   "outputs": [
    {
     "data": {
      "text/plain": [
       "Marital_Status_Alone       uint8\n",
       "Marital_Status_Divorced    uint8\n",
       "Marital_Status_Married     uint8\n",
       "Marital_Status_Single      uint8\n",
       "Marital_Status_Together    uint8\n",
       "                           ...  \n",
       "AcceptedCmp5_1             uint8\n",
       "AcceptedCmp1_1             uint8\n",
       "AcceptedCmp2_1             uint8\n",
       "Cust_Tenure_9.0            uint8\n",
       "Cust_Tenure_10.0           uint8\n",
       "Length: 70, dtype: object"
      ]
     },
     "execution_count": 124,
     "metadata": {},
     "output_type": "execute_result"
    }
   ],
   "source": [
    "select_features_df_char.dtypes"
   ]
  },
  {
   "cell_type": "code",
   "execution_count": 125,
   "id": "089cb9f5",
   "metadata": {},
   "outputs": [],
   "source": [
    "X_all=pd.concat([select_features_df_char,select_features_df_num],axis=1,join=\"inner\")"
   ]
  },
  {
   "cell_type": "markdown",
   "id": "faee0003",
   "metadata": {},
   "source": [
    "## Model Building"
   ]
  },
  {
   "cell_type": "markdown",
   "id": "0340febb",
   "metadata": {},
   "source": [
    "### Train Test Split"
   ]
  },
  {
   "cell_type": "code",
   "execution_count": 126,
   "id": "54c628b7",
   "metadata": {},
   "outputs": [],
   "source": [
    "from sklearn.model_selection import train_test_split\n",
    "X_train, X_test, y_train, y_test=train_test_split(X_all, Y, test_size=0.3, random_state=20)"
   ]
  },
  {
   "cell_type": "code",
   "execution_count": 127,
   "id": "e724a952",
   "metadata": {},
   "outputs": [
    {
     "name": "stdout",
     "output_type": "stream",
     "text": [
      "Shape of Training Data (1568, 76)\n",
      "Shape of Testing Data (672, 76)\n",
      "Response Rate in Training Data Response    0.149872\n",
      "dtype: float64\n",
      "Response Rate in Testing Data Response    0.147321\n",
      "dtype: float64\n"
     ]
    }
   ],
   "source": [
    "print(\"Shape of Training Data\",X_train.shape)\n",
    "print(\"Shape of Testing Data\",X_test.shape)\n",
    "print(\"Response Rate in Training Data\",y_train.mean())\n",
    "print(\"Response Rate in Testing Data\",y_test.mean())"
   ]
  },
  {
   "cell_type": "markdown",
   "id": "accdd3f1",
   "metadata": {},
   "source": [
    "### Building Logistic Regression Model"
   ]
  },
  {
   "cell_type": "code",
   "execution_count": 128,
   "id": "de5baba1",
   "metadata": {},
   "outputs": [
    {
     "data": {
      "text/plain": [
       "LogisticRegression(random_state=20)"
      ]
     },
     "execution_count": 128,
     "metadata": {},
     "output_type": "execute_result"
    }
   ],
   "source": [
    "from sklearn.linear_model import LogisticRegression\n",
    "logreg=LogisticRegression(random_state=20)\n",
    "logreg.fit(X_train,y_train)"
   ]
  },
  {
   "cell_type": "markdown",
   "id": "a326f340",
   "metadata": {},
   "source": [
    "### Building Decision Tree Model"
   ]
  },
  {
   "cell_type": "code",
   "execution_count": 129,
   "id": "9b7e298f",
   "metadata": {},
   "outputs": [],
   "source": [
    "from sklearn.tree import DecisionTreeClassifier\n",
    "dtree=DecisionTreeClassifier(criterion='gini',random_state=20)"
   ]
  },
  {
   "cell_type": "markdown",
   "id": "1caab344",
   "metadata": {},
   "source": [
    "### Grid Search for Model Optimization"
   ]
  },
  {
   "cell_type": "code",
   "execution_count": 130,
   "id": "a1b6de8e",
   "metadata": {},
   "outputs": [
    {
     "name": "stdout",
     "output_type": "stream",
     "text": [
      "Best Parameters using grid search: \n",
      " {'max_depth': 3, 'min_samples_split': 75}\n"
     ]
    }
   ],
   "source": [
    "# Min_Samples_Split starting from 5% of training base\n",
    "from sklearn.model_selection import GridSearchCV\n",
    "param_dist = {'max_depth': [3, 5, 6, 7], 'min_samples_split': [75,100,125,150] }\n",
    "tree_grid = GridSearchCV(dtree, cv = 10, param_grid=param_dist,n_jobs = 3)\n",
    "tree_grid.fit(X_train,y_train) \n",
    "print('Best Parameters using grid search: \\n', tree_grid.best_params_)"
   ]
  },
  {
   "cell_type": "code",
   "execution_count": 131,
   "id": "67a7de92",
   "metadata": {},
   "outputs": [
    {
     "data": {
      "text/plain": [
       "DecisionTreeClassifier(max_depth=5, min_samples_split=75, random_state=20)"
      ]
     },
     "execution_count": 131,
     "metadata": {},
     "output_type": "execute_result"
    }
   ],
   "source": [
    "dtree=DecisionTreeClassifier(criterion='gini',random_state=20,max_depth=5,min_samples_split=75)\n",
    "dtree.fit(X_train,y_train)"
   ]
  },
  {
   "cell_type": "markdown",
   "id": "a334c504",
   "metadata": {},
   "source": [
    "### Building Random Forest Model"
   ]
  },
  {
   "cell_type": "code",
   "execution_count": 132,
   "id": "e9006a41",
   "metadata": {},
   "outputs": [
    {
     "data": {
      "text/plain": [
       "RandomForestClassifier(max_depth=5, min_samples_split=75, random_state=20)"
      ]
     },
     "execution_count": 132,
     "metadata": {},
     "output_type": "execute_result"
    }
   ],
   "source": [
    "from sklearn.ensemble import RandomForestClassifier\n",
    "rf=RandomForestClassifier(criterion='gini',random_state=20,max_depth=5,min_samples_split=75)\n",
    "rf.fit(X_train,y_train)"
   ]
  },
  {
   "cell_type": "markdown",
   "id": "c020b649",
   "metadata": {},
   "source": [
    "### Building Gradient Boosting Model"
   ]
  },
  {
   "cell_type": "code",
   "execution_count": 133,
   "id": "063ac1a9",
   "metadata": {},
   "outputs": [
    {
     "data": {
      "text/plain": [
       "GradientBoostingClassifier(criterion='mse', max_depth=5, min_samples_split=75,\n",
       "                           random_state=20)"
      ]
     },
     "execution_count": 133,
     "metadata": {},
     "output_type": "execute_result"
    }
   ],
   "source": [
    "from sklearn.ensemble import GradientBoostingClassifier\n",
    "gbm=GradientBoostingClassifier(criterion='mse',random_state=20,max_depth=5,min_samples_split=75)\n",
    "gbm.fit(X_train,y_train)"
   ]
  },
  {
   "cell_type": "markdown",
   "id": "b969b407",
   "metadata": {},
   "source": [
    "## Model Evaluation"
   ]
  },
  {
   "cell_type": "code",
   "execution_count": 134,
   "id": "483fd06d",
   "metadata": {},
   "outputs": [],
   "source": [
    "from sklearn import metrics\n",
    "from sklearn.metrics import confusion_matrix"
   ]
  },
  {
   "cell_type": "code",
   "execution_count": 135,
   "id": "fc5b32af",
   "metadata": {},
   "outputs": [],
   "source": [
    "y_pred_logreg=logreg.predict(X_test)\n",
    "y_pred_tree=dtree.predict(X_test)\n",
    "y_pred_rf=rf.predict(X_test)\n",
    "y_pred_gbm=gbm.predict(X_test)"
   ]
  },
  {
   "cell_type": "code",
   "execution_count": 136,
   "id": "cf1dd6f9",
   "metadata": {},
   "outputs": [
    {
     "name": "stdout",
     "output_type": "stream",
     "text": [
      "Accuracy from Logistic Regression Model : 0.8571428571428571\n",
      "Precision from Logistic Regression Model : 0.6666666666666666\n",
      "Recall from Logistic Regression Model : 0.06060606060606061\n",
      "f1_score from Logistic Regression Model : 0.1111111111111111\n",
      "Area under ROC Curve from Logistic Regression Model : 0.5276852292559099\n",
      "Gini from the Logistic Regression Model : 0.055370458511819765\n"
     ]
    }
   ],
   "source": [
    "print(\"Accuracy from Logistic Regression Model :\",metrics.accuracy_score(y_test, y_pred_logreg))\n",
    "print(\"Precision from Logistic Regression Model :\",metrics.precision_score(y_test,y_pred_logreg))\n",
    "print(\"Recall from Logistic Regression Model :\",metrics.recall_score(y_test,y_pred_logreg))\n",
    "print(\"f1_score from Logistic Regression Model :\",metrics.f1_score(y_test,y_pred_logreg))\n",
    "print(\"Area under ROC Curve from Logistic Regression Model :\",metrics.roc_auc_score(y_test,y_pred_logreg))\n",
    "print(\"Gini from the Logistic Regression Model :\",2*metrics.roc_auc_score(y_test,y_pred_logreg)-1)"
   ]
  },
  {
   "cell_type": "code",
   "execution_count": 137,
   "id": "c2178ec6",
   "metadata": {},
   "outputs": [
    {
     "data": {
      "text/plain": [
       "<sklearn.metrics._plot.confusion_matrix.ConfusionMatrixDisplay at 0x153ad6dd9d0>"
      ]
     },
     "execution_count": 137,
     "metadata": {},
     "output_type": "execute_result"
    },
    {
     "data": {
      "image/png": "[encoded data removed]",
      "text/plain": [
       "<Figure size 640x480 with 2 Axes>"
      ]
     },
     "metadata": {},
     "output_type": "display_data"
    }
   ],
   "source": [
    "metrics.plot_confusion_matrix(logreg,X_all,Y)"
   ]
  },
  {
   "cell_type": "code",
   "execution_count": 138,
   "id": "b9c50ebb",
   "metadata": {
    "scrolled": true
   },
   "outputs": [
    {
     "name": "stdout",
     "output_type": "stream",
     "text": [
      "Accuracy from Decision Tree Model : 0.8779761904761905\n",
      "Precision from Decision Tree Model : 0.7428571428571429\n",
      "Recall from Decision Tree Model : 0.26262626262626265\n",
      "f1_score from Decision Tree Model : 0.3880597014925374\n",
      "Area under ROC Curve from Decision Tree Model : 0.6234597281717701\n",
      "Gini from the Decision Tree Model : 0.24691945634354018\n"
     ]
    }
   ],
   "source": [
    "print(\"Accuracy from Decision Tree Model :\",metrics.accuracy_score(y_test, y_pred_tree))\n",
    "print(\"Precision from Decision Tree Model :\",metrics.precision_score(y_test,y_pred_tree))\n",
    "print(\"Recall from Decision Tree Model :\",metrics.recall_score(y_test,y_pred_tree))\n",
    "print(\"f1_score from Decision Tree Model :\",metrics.f1_score(y_test,y_pred_tree))\n",
    "print(\"Area under ROC Curve from Decision Tree Model :\",metrics.roc_auc_score(y_test,y_pred_tree))\n",
    "print(\"Gini from the Decision Tree Model :\",2*metrics.roc_auc_score(y_test,y_pred_tree)-1)"
   ]
  },
  {
   "cell_type": "code",
   "execution_count": 139,
   "id": "ee86f2cc",
   "metadata": {},
   "outputs": [
    {
     "data": {
      "text/plain": [
       "<sklearn.metrics._plot.confusion_matrix.ConfusionMatrixDisplay at 0x153ad1e72e0>"
      ]
     },
     "execution_count": 139,
     "metadata": {},
     "output_type": "execute_result"
    },
    {
     "data": {
      "image/png": "[encoded data removed]",
      "text/plain": [
       "<Figure size 640x480 with 2 Axes>"
      ]
     },
     "metadata": {},
     "output_type": "display_data"
    }
   ],
   "source": [
    "metrics.plot_confusion_matrix(dtree,X_all,Y)"
   ]
  },
  {
   "cell_type": "code",
   "execution_count": 140,
   "id": "091ddb08",
   "metadata": {},
   "outputs": [
    {
     "name": "stdout",
     "output_type": "stream",
     "text": [
      "Accuracy from Random Forest Model : 0.8571428571428571\n",
      "Precision from Random Forest Model : 1.0\n",
      "Recall from Random Forest Model : 0.030303030303030304\n",
      "f1_score from Random Forest Model : 0.05882352941176471\n",
      "Area under ROC Curve from Random Forest Model : 0.5151515151515151\n",
      "Gini from the Random Forest Model : 0.030303030303030276\n"
     ]
    }
   ],
   "source": [
    "print(\"Accuracy from Random Forest Model :\",metrics.accuracy_score(y_test, y_pred_rf))\n",
    "print(\"Precision from Random Forest Model :\",metrics.precision_score(y_test,y_pred_rf))\n",
    "print(\"Recall from Random Forest Model :\",metrics.recall_score(y_test,y_pred_rf))\n",
    "print(\"f1_score from Random Forest Model :\",metrics.f1_score(y_test,y_pred_rf))\n",
    "print(\"Area under ROC Curve from Random Forest Model :\",metrics.roc_auc_score(y_test,y_pred_rf))\n",
    "print(\"Gini from the Random Forest Model :\",2*metrics.roc_auc_score(y_test,y_pred_rf)-1)"
   ]
  },
  {
   "cell_type": "code",
   "execution_count": 141,
   "id": "8176c854",
   "metadata": {
    "scrolled": true
   },
   "outputs": [
    {
     "data": {
      "text/plain": [
       "<sklearn.metrics._plot.confusion_matrix.ConfusionMatrixDisplay at 0x153aead0760>"
      ]
     },
     "execution_count": 141,
     "metadata": {},
     "output_type": "execute_result"
    },
    {
     "data": {
      "image/png": "[encoded data removed]",
      "text/plain": [
       "<Figure size 640x480 with 2 Axes>"
      ]
     },
     "metadata": {},
     "output_type": "display_data"
    }
   ],
   "source": [
    "metrics.plot_confusion_matrix(rf,X_all,Y)"
   ]
  },
  {
   "cell_type": "code",
   "execution_count": 142,
   "id": "55cc8997",
   "metadata": {},
   "outputs": [
    {
     "name": "stdout",
     "output_type": "stream",
     "text": [
      "Accuracy from GBM Model : 0.8869047619047619\n",
      "Precision from GBM Model : 0.6949152542372882\n",
      "Recall from GBM Model : 0.41414141414141414\n",
      "f1_score from GBM Model : 0.5189873417721519\n",
      "Area under ROC Curve from GBM Model : 0.6913639007879846\n",
      "Gini from the GBM Model : 0.3827278015759692\n"
     ]
    }
   ],
   "source": [
    "print(\"Accuracy from GBM Model :\",metrics.accuracy_score(y_test, y_pred_gbm))\n",
    "print(\"Precision from GBM Model :\",metrics.precision_score(y_test,y_pred_gbm))\n",
    "print(\"Recall from GBM Model :\",metrics.recall_score(y_test,y_pred_gbm))\n",
    "print(\"f1_score from GBM Model :\",metrics.f1_score(y_test,y_pred_gbm))\n",
    "print(\"Area under ROC Curve from GBM Model :\",metrics.roc_auc_score(y_test,y_pred_gbm))\n",
    "print(\"Gini from the GBM Model :\",2*metrics.roc_auc_score(y_test,y_pred_gbm)-1)"
   ]
  },
  {
   "cell_type": "code",
   "execution_count": 143,
   "id": "982cbc0d",
   "metadata": {
    "scrolled": true
   },
   "outputs": [
    {
     "data": {
      "text/plain": [
       "<sklearn.metrics._plot.confusion_matrix.ConfusionMatrixDisplay at 0x153aeab76d0>"
      ]
     },
     "execution_count": 143,
     "metadata": {},
     "output_type": "execute_result"
    },
    {
     "data": {
      "image/png": "[encoded data removed]",
      "text/plain": [
       "<Figure size 640x480 with 2 Axes>"
      ]
     },
     "metadata": {},
     "output_type": "display_data"
    }
   ],
   "source": [
    "metrics.plot_confusion_matrix(gbm,X_all,Y)"
   ]
  },
  {
   "cell_type": "markdown",
   "id": "27c80f48",
   "metadata": {},
   "source": [
    "## Project Conclusion :-\n",
    "\n",
    "#### F1 Score for GBM model is greater than the others, so GBM has performed better than the other models and will be used for campaign strategizing"
   ]
  },
  {
   "cell_type": "markdown",
   "id": "cf570ea5",
   "metadata": {},
   "source": [
    "## Extracting Feature Importance from the best model"
   ]
  },
  {
   "cell_type": "code",
   "execution_count": 144,
   "id": "c29a7356",
   "metadata": {},
   "outputs": [
    {
     "data": {
      "text/plain": [
       "(76, 1)"
      ]
     },
     "execution_count": 144,
     "metadata": {},
     "output_type": "execute_result"
    }
   ],
   "source": [
    "import pandas as pd\n",
    "feature_importances=pd.DataFrame(gbm.feature_importances_,\n",
    "                                 index=X_train.columns,\n",
    "                                 columns=['importance']).sort_values('importance',ascending=False)\n",
    "feature_importances.shape"
   ]
  },
  {
   "cell_type": "markdown",
   "id": "2a67e473",
   "metadata": {},
   "source": [
    "## Extracting the Top 10 Important Model Features"
   ]
  },
  {
   "cell_type": "code",
   "execution_count": 145,
   "id": "e93a6464",
   "metadata": {},
   "outputs": [
    {
     "data": {
      "text/html": [
       "<div>\n",
       "<style scoped>\n",
       "    .dataframe tbody tr th:only-of-type {\n",
       "        vertical-align: middle;\n",
       "    }\n",
       "\n",
       "    .dataframe tbody tr th {\n",
       "        vertical-align: top;\n",
       "    }\n",
       "\n",
       "    .dataframe thead th {\n",
       "        text-align: right;\n",
       "    }\n",
       "</style>\n",
       "<table border=\"1\" class=\"dataframe\">\n",
       "  <thead>\n",
       "    <tr style=\"text-align: right;\">\n",
       "      <th></th>\n",
       "      <th>importance</th>\n",
       "    </tr>\n",
       "  </thead>\n",
       "  <tbody>\n",
       "    <tr>\n",
       "      <th>AcceptedCmp5_1</th>\n",
       "      <td>0.165531</td>\n",
       "    </tr>\n",
       "    <tr>\n",
       "      <th>MntMeatProducts</th>\n",
       "      <td>0.106050</td>\n",
       "    </tr>\n",
       "    <tr>\n",
       "      <th>MntWines</th>\n",
       "      <td>0.095464</td>\n",
       "    </tr>\n",
       "    <tr>\n",
       "      <th>AcceptedCmp3_1</th>\n",
       "      <td>0.082863</td>\n",
       "    </tr>\n",
       "    <tr>\n",
       "      <th>Income</th>\n",
       "      <td>0.065514</td>\n",
       "    </tr>\n",
       "    <tr>\n",
       "      <th>Cust_Tenure_10.0</th>\n",
       "      <td>0.048512</td>\n",
       "    </tr>\n",
       "    <tr>\n",
       "      <th>AcceptedCmp1_1</th>\n",
       "      <td>0.047333</td>\n",
       "    </tr>\n",
       "    <tr>\n",
       "      <th>MntGoldProds</th>\n",
       "      <td>0.043065</td>\n",
       "    </tr>\n",
       "    <tr>\n",
       "      <th>MntFishProducts</th>\n",
       "      <td>0.040559</td>\n",
       "    </tr>\n",
       "    <tr>\n",
       "      <th>MntFruits</th>\n",
       "      <td>0.035198</td>\n",
       "    </tr>\n",
       "  </tbody>\n",
       "</table>\n",
       "</div>"
      ],
      "text/plain": [
       "                  importance\n",
       "AcceptedCmp5_1      0.165531\n",
       "MntMeatProducts     0.106050\n",
       "MntWines            0.095464\n",
       "AcceptedCmp3_1      0.082863\n",
       "Income              0.065514\n",
       "Cust_Tenure_10.0    0.048512\n",
       "AcceptedCmp1_1      0.047333\n",
       "MntGoldProds        0.043065\n",
       "MntFishProducts     0.040559\n",
       "MntFruits           0.035198"
      ]
     },
     "execution_count": 145,
     "metadata": {},
     "output_type": "execute_result"
    }
   ],
   "source": [
    "feature_importances.iloc[0:10]"
   ]
  },
  {
   "cell_type": "markdown",
   "id": "85dd11c2",
   "metadata": {},
   "source": [
    "# Plotting the top 10 feature importances in a Horizontal Bar Plot"
   ]
  },
  {
   "cell_type": "code",
   "execution_count": 146,
   "id": "4bab6fea",
   "metadata": {},
   "outputs": [
    {
     "data": {
      "image/png": "[encoded data removed]",
      "text/plain": [
       "<Figure size 640x480 with 1 Axes>"
      ]
     },
     "metadata": {},
     "output_type": "display_data"
    }
   ],
   "source": [
    "ax=sns.barplot(x='importance',y=feature_importances.iloc[0:10].index,data=feature_importances.iloc[0:10])"
   ]
  },
  {
   "cell_type": "markdown",
   "id": "72d19534",
   "metadata": {},
   "source": [
    "### Getting the Model Probabilities\n",
    "\n",
    "Calculating model predicted probabilities helps us understand how confident the model is in its predictions\n",
    "\n",
    "Allow us to evaluate the performance of the model, thus allow us to make better decisions."
   ]
  },
  {
   "cell_type": "code",
   "execution_count": 148,
   "id": "e12802db",
   "metadata": {},
   "outputs": [
    {
     "data": {
      "text/html": [
       "<div>\n",
       "<style scoped>\n",
       "    .dataframe tbody tr th:only-of-type {\n",
       "        vertical-align: middle;\n",
       "    }\n",
       "\n",
       "    .dataframe tbody tr th {\n",
       "        vertical-align: top;\n",
       "    }\n",
       "\n",
       "    .dataframe thead th {\n",
       "        text-align: right;\n",
       "    }\n",
       "</style>\n",
       "<table border=\"1\" class=\"dataframe\">\n",
       "  <thead>\n",
       "    <tr style=\"text-align: right;\">\n",
       "      <th></th>\n",
       "      <th>Year_Birth</th>\n",
       "      <th>Education</th>\n",
       "      <th>Marital_Status</th>\n",
       "      <th>Income</th>\n",
       "      <th>Kidhome</th>\n",
       "      <th>Teenhome</th>\n",
       "      <th>Dt_Customer</th>\n",
       "      <th>Recency</th>\n",
       "      <th>MntWines</th>\n",
       "      <th>MntFruits</th>\n",
       "      <th>MntMeatProducts</th>\n",
       "      <th>MntFishProducts</th>\n",
       "      <th>MntSweetProducts</th>\n",
       "      <th>MntGoldProds</th>\n",
       "      <th>NumDealsPurchases</th>\n",
       "      <th>NumWebPurchases</th>\n",
       "      <th>NumCatalogPurchases</th>\n",
       "      <th>NumStorePurchases</th>\n",
       "      <th>NumWebVisitsMonth</th>\n",
       "      <th>AcceptedCmp3</th>\n",
       "      <th>AcceptedCmp4</th>\n",
       "      <th>AcceptedCmp5</th>\n",
       "      <th>AcceptedCmp1</th>\n",
       "      <th>AcceptedCmp2</th>\n",
       "      <th>Complain</th>\n",
       "      <th>Z_CostContact</th>\n",
       "      <th>Z_Revenue</th>\n",
       "      <th>Response</th>\n",
       "      <th>pred_prob</th>\n",
       "    </tr>\n",
       "  </thead>\n",
       "  <tbody>\n",
       "    <tr>\n",
       "      <th>0</th>\n",
       "      <td>1957</td>\n",
       "      <td>Graduation</td>\n",
       "      <td>Single</td>\n",
       "      <td>58138.0</td>\n",
       "      <td>0</td>\n",
       "      <td>0</td>\n",
       "      <td>2012-09-04</td>\n",
       "      <td>58</td>\n",
       "      <td>635</td>\n",
       "      <td>88</td>\n",
       "      <td>546</td>\n",
       "      <td>172</td>\n",
       "      <td>88</td>\n",
       "      <td>88</td>\n",
       "      <td>3</td>\n",
       "      <td>8</td>\n",
       "      <td>10</td>\n",
       "      <td>4</td>\n",
       "      <td>7</td>\n",
       "      <td>0</td>\n",
       "      <td>0</td>\n",
       "      <td>0</td>\n",
       "      <td>0</td>\n",
       "      <td>0</td>\n",
       "      <td>0</td>\n",
       "      <td>3</td>\n",
       "      <td>11</td>\n",
       "      <td>1</td>\n",
       "      <td>0.795970</td>\n",
       "    </tr>\n",
       "    <tr>\n",
       "      <th>1</th>\n",
       "      <td>1954</td>\n",
       "      <td>Graduation</td>\n",
       "      <td>Single</td>\n",
       "      <td>46344.0</td>\n",
       "      <td>1</td>\n",
       "      <td>1</td>\n",
       "      <td>2014-03-08</td>\n",
       "      <td>38</td>\n",
       "      <td>11</td>\n",
       "      <td>1</td>\n",
       "      <td>6</td>\n",
       "      <td>2</td>\n",
       "      <td>1</td>\n",
       "      <td>6</td>\n",
       "      <td>2</td>\n",
       "      <td>1</td>\n",
       "      <td>1</td>\n",
       "      <td>2</td>\n",
       "      <td>5</td>\n",
       "      <td>0</td>\n",
       "      <td>0</td>\n",
       "      <td>0</td>\n",
       "      <td>0</td>\n",
       "      <td>0</td>\n",
       "      <td>0</td>\n",
       "      <td>3</td>\n",
       "      <td>11</td>\n",
       "      <td>0</td>\n",
       "      <td>0.015620</td>\n",
       "    </tr>\n",
       "    <tr>\n",
       "      <th>2</th>\n",
       "      <td>1965</td>\n",
       "      <td>Graduation</td>\n",
       "      <td>Together</td>\n",
       "      <td>71613.0</td>\n",
       "      <td>0</td>\n",
       "      <td>0</td>\n",
       "      <td>2013-08-21</td>\n",
       "      <td>26</td>\n",
       "      <td>426</td>\n",
       "      <td>49</td>\n",
       "      <td>127</td>\n",
       "      <td>111</td>\n",
       "      <td>21</td>\n",
       "      <td>42</td>\n",
       "      <td>1</td>\n",
       "      <td>8</td>\n",
       "      <td>2</td>\n",
       "      <td>10</td>\n",
       "      <td>4</td>\n",
       "      <td>0</td>\n",
       "      <td>0</td>\n",
       "      <td>0</td>\n",
       "      <td>0</td>\n",
       "      <td>0</td>\n",
       "      <td>0</td>\n",
       "      <td>3</td>\n",
       "      <td>11</td>\n",
       "      <td>0</td>\n",
       "      <td>0.043979</td>\n",
       "    </tr>\n",
       "    <tr>\n",
       "      <th>3</th>\n",
       "      <td>1984</td>\n",
       "      <td>Graduation</td>\n",
       "      <td>Together</td>\n",
       "      <td>26646.0</td>\n",
       "      <td>1</td>\n",
       "      <td>0</td>\n",
       "      <td>2014-02-10</td>\n",
       "      <td>26</td>\n",
       "      <td>11</td>\n",
       "      <td>4</td>\n",
       "      <td>20</td>\n",
       "      <td>10</td>\n",
       "      <td>3</td>\n",
       "      <td>5</td>\n",
       "      <td>2</td>\n",
       "      <td>2</td>\n",
       "      <td>0</td>\n",
       "      <td>4</td>\n",
       "      <td>6</td>\n",
       "      <td>0</td>\n",
       "      <td>0</td>\n",
       "      <td>0</td>\n",
       "      <td>0</td>\n",
       "      <td>0</td>\n",
       "      <td>0</td>\n",
       "      <td>3</td>\n",
       "      <td>11</td>\n",
       "      <td>0</td>\n",
       "      <td>0.015043</td>\n",
       "    </tr>\n",
       "    <tr>\n",
       "      <th>4</th>\n",
       "      <td>1981</td>\n",
       "      <td>PhD</td>\n",
       "      <td>Married</td>\n",
       "      <td>58293.0</td>\n",
       "      <td>1</td>\n",
       "      <td>0</td>\n",
       "      <td>2014-01-19</td>\n",
       "      <td>94</td>\n",
       "      <td>173</td>\n",
       "      <td>43</td>\n",
       "      <td>118</td>\n",
       "      <td>46</td>\n",
       "      <td>27</td>\n",
       "      <td>15</td>\n",
       "      <td>5</td>\n",
       "      <td>5</td>\n",
       "      <td>3</td>\n",
       "      <td>6</td>\n",
       "      <td>5</td>\n",
       "      <td>0</td>\n",
       "      <td>0</td>\n",
       "      <td>0</td>\n",
       "      <td>0</td>\n",
       "      <td>0</td>\n",
       "      <td>0</td>\n",
       "      <td>3</td>\n",
       "      <td>11</td>\n",
       "      <td>0</td>\n",
       "      <td>0.035929</td>\n",
       "    </tr>\n",
       "    <tr>\n",
       "      <th>...</th>\n",
       "      <td>...</td>\n",
       "      <td>...</td>\n",
       "      <td>...</td>\n",
       "      <td>...</td>\n",
       "      <td>...</td>\n",
       "      <td>...</td>\n",
       "      <td>...</td>\n",
       "      <td>...</td>\n",
       "      <td>...</td>\n",
       "      <td>...</td>\n",
       "      <td>...</td>\n",
       "      <td>...</td>\n",
       "      <td>...</td>\n",
       "      <td>...</td>\n",
       "      <td>...</td>\n",
       "      <td>...</td>\n",
       "      <td>...</td>\n",
       "      <td>...</td>\n",
       "      <td>...</td>\n",
       "      <td>...</td>\n",
       "      <td>...</td>\n",
       "      <td>...</td>\n",
       "      <td>...</td>\n",
       "      <td>...</td>\n",
       "      <td>...</td>\n",
       "      <td>...</td>\n",
       "      <td>...</td>\n",
       "      <td>...</td>\n",
       "      <td>...</td>\n",
       "    </tr>\n",
       "    <tr>\n",
       "      <th>2235</th>\n",
       "      <td>1967</td>\n",
       "      <td>Graduation</td>\n",
       "      <td>Married</td>\n",
       "      <td>61223.0</td>\n",
       "      <td>0</td>\n",
       "      <td>1</td>\n",
       "      <td>2013-06-13</td>\n",
       "      <td>46</td>\n",
       "      <td>709</td>\n",
       "      <td>43</td>\n",
       "      <td>182</td>\n",
       "      <td>42</td>\n",
       "      <td>118</td>\n",
       "      <td>247</td>\n",
       "      <td>2</td>\n",
       "      <td>9</td>\n",
       "      <td>3</td>\n",
       "      <td>4</td>\n",
       "      <td>5</td>\n",
       "      <td>0</td>\n",
       "      <td>0</td>\n",
       "      <td>0</td>\n",
       "      <td>0</td>\n",
       "      <td>0</td>\n",
       "      <td>0</td>\n",
       "      <td>3</td>\n",
       "      <td>11</td>\n",
       "      <td>0</td>\n",
       "      <td>0.018760</td>\n",
       "    </tr>\n",
       "    <tr>\n",
       "      <th>2236</th>\n",
       "      <td>1946</td>\n",
       "      <td>PhD</td>\n",
       "      <td>Together</td>\n",
       "      <td>64014.0</td>\n",
       "      <td>2</td>\n",
       "      <td>1</td>\n",
       "      <td>2014-06-10</td>\n",
       "      <td>56</td>\n",
       "      <td>406</td>\n",
       "      <td>0</td>\n",
       "      <td>30</td>\n",
       "      <td>0</td>\n",
       "      <td>0</td>\n",
       "      <td>8</td>\n",
       "      <td>7</td>\n",
       "      <td>8</td>\n",
       "      <td>2</td>\n",
       "      <td>5</td>\n",
       "      <td>7</td>\n",
       "      <td>0</td>\n",
       "      <td>0</td>\n",
       "      <td>0</td>\n",
       "      <td>1</td>\n",
       "      <td>0</td>\n",
       "      <td>0</td>\n",
       "      <td>3</td>\n",
       "      <td>11</td>\n",
       "      <td>0</td>\n",
       "      <td>0.014646</td>\n",
       "    </tr>\n",
       "    <tr>\n",
       "      <th>2237</th>\n",
       "      <td>1981</td>\n",
       "      <td>Graduation</td>\n",
       "      <td>Divorced</td>\n",
       "      <td>56981.0</td>\n",
       "      <td>0</td>\n",
       "      <td>0</td>\n",
       "      <td>2014-01-25</td>\n",
       "      <td>91</td>\n",
       "      <td>908</td>\n",
       "      <td>48</td>\n",
       "      <td>217</td>\n",
       "      <td>32</td>\n",
       "      <td>12</td>\n",
       "      <td>24</td>\n",
       "      <td>1</td>\n",
       "      <td>2</td>\n",
       "      <td>3</td>\n",
       "      <td>13</td>\n",
       "      <td>6</td>\n",
       "      <td>0</td>\n",
       "      <td>1</td>\n",
       "      <td>0</td>\n",
       "      <td>0</td>\n",
       "      <td>0</td>\n",
       "      <td>0</td>\n",
       "      <td>3</td>\n",
       "      <td>11</td>\n",
       "      <td>0</td>\n",
       "      <td>0.074925</td>\n",
       "    </tr>\n",
       "    <tr>\n",
       "      <th>2238</th>\n",
       "      <td>1956</td>\n",
       "      <td>Master</td>\n",
       "      <td>Together</td>\n",
       "      <td>69245.0</td>\n",
       "      <td>0</td>\n",
       "      <td>1</td>\n",
       "      <td>2014-01-24</td>\n",
       "      <td>8</td>\n",
       "      <td>428</td>\n",
       "      <td>30</td>\n",
       "      <td>214</td>\n",
       "      <td>80</td>\n",
       "      <td>30</td>\n",
       "      <td>61</td>\n",
       "      <td>2</td>\n",
       "      <td>6</td>\n",
       "      <td>5</td>\n",
       "      <td>10</td>\n",
       "      <td>3</td>\n",
       "      <td>0</td>\n",
       "      <td>0</td>\n",
       "      <td>0</td>\n",
       "      <td>0</td>\n",
       "      <td>0</td>\n",
       "      <td>0</td>\n",
       "      <td>3</td>\n",
       "      <td>11</td>\n",
       "      <td>0</td>\n",
       "      <td>0.017407</td>\n",
       "    </tr>\n",
       "    <tr>\n",
       "      <th>2239</th>\n",
       "      <td>1954</td>\n",
       "      <td>PhD</td>\n",
       "      <td>Married</td>\n",
       "      <td>52869.0</td>\n",
       "      <td>1</td>\n",
       "      <td>1</td>\n",
       "      <td>2012-10-15</td>\n",
       "      <td>40</td>\n",
       "      <td>84</td>\n",
       "      <td>3</td>\n",
       "      <td>61</td>\n",
       "      <td>2</td>\n",
       "      <td>1</td>\n",
       "      <td>21</td>\n",
       "      <td>3</td>\n",
       "      <td>3</td>\n",
       "      <td>1</td>\n",
       "      <td>4</td>\n",
       "      <td>7</td>\n",
       "      <td>0</td>\n",
       "      <td>0</td>\n",
       "      <td>0</td>\n",
       "      <td>0</td>\n",
       "      <td>0</td>\n",
       "      <td>0</td>\n",
       "      <td>3</td>\n",
       "      <td>11</td>\n",
       "      <td>1</td>\n",
       "      <td>0.244572</td>\n",
       "    </tr>\n",
       "  </tbody>\n",
       "</table>\n",
       "<p>2240 rows × 29 columns</p>\n",
       "</div>"
      ],
      "text/plain": [
       "      Year_Birth   Education Marital_Status   Income  Kidhome  Teenhome  \\\n",
       "0           1957  Graduation         Single  58138.0        0         0   \n",
       "1           1954  Graduation         Single  46344.0        1         1   \n",
       "2           1965  Graduation       Together  71613.0        0         0   \n",
       "3           1984  Graduation       Together  26646.0        1         0   \n",
       "4           1981         PhD        Married  58293.0        1         0   \n",
       "...          ...         ...            ...      ...      ...       ...   \n",
       "2235        1967  Graduation        Married  61223.0        0         1   \n",
       "2236        1946         PhD       Together  64014.0        2         1   \n",
       "2237        1981  Graduation       Divorced  56981.0        0         0   \n",
       "2238        1956      Master       Together  69245.0        0         1   \n",
       "2239        1954         PhD        Married  52869.0        1         1   \n",
       "\n",
       "     Dt_Customer  Recency  MntWines  MntFruits  MntMeatProducts  \\\n",
       "0     2012-09-04       58       635         88              546   \n",
       "1     2014-03-08       38        11          1                6   \n",
       "2     2013-08-21       26       426         49              127   \n",
       "3     2014-02-10       26        11          4               20   \n",
       "4     2014-01-19       94       173         43              118   \n",
       "...          ...      ...       ...        ...              ...   \n",
       "2235  2013-06-13       46       709         43              182   \n",
       "2236  2014-06-10       56       406          0               30   \n",
       "2237  2014-01-25       91       908         48              217   \n",
       "2238  2014-01-24        8       428         30              214   \n",
       "2239  2012-10-15       40        84          3               61   \n",
       "\n",
       "      MntFishProducts  MntSweetProducts  MntGoldProds  NumDealsPurchases  \\\n",
       "0                 172                88            88                  3   \n",
       "1                   2                 1             6                  2   \n",
       "2                 111                21            42                  1   \n",
       "3                  10                 3             5                  2   \n",
       "4                  46                27            15                  5   \n",
       "...               ...               ...           ...                ...   \n",
       "2235               42               118           247                  2   \n",
       "2236                0                 0             8                  7   \n",
       "2237               32                12            24                  1   \n",
       "2238               80                30            61                  2   \n",
       "2239                2                 1            21                  3   \n",
       "\n",
       "      NumWebPurchases  NumCatalogPurchases  NumStorePurchases  \\\n",
       "0                   8                   10                  4   \n",
       "1                   1                    1                  2   \n",
       "2                   8                    2                 10   \n",
       "3                   2                    0                  4   \n",
       "4                   5                    3                  6   \n",
       "...               ...                  ...                ...   \n",
       "2235                9                    3                  4   \n",
       "2236                8                    2                  5   \n",
       "2237                2                    3                 13   \n",
       "2238                6                    5                 10   \n",
       "2239                3                    1                  4   \n",
       "\n",
       "      NumWebVisitsMonth  AcceptedCmp3  AcceptedCmp4  AcceptedCmp5  \\\n",
       "0                     7             0             0             0   \n",
       "1                     5             0             0             0   \n",
       "2                     4             0             0             0   \n",
       "3                     6             0             0             0   \n",
       "4                     5             0             0             0   \n",
       "...                 ...           ...           ...           ...   \n",
       "2235                  5             0             0             0   \n",
       "2236                  7             0             0             0   \n",
       "2237                  6             0             1             0   \n",
       "2238                  3             0             0             0   \n",
       "2239                  7             0             0             0   \n",
       "\n",
       "      AcceptedCmp1  AcceptedCmp2  Complain  Z_CostContact  Z_Revenue  \\\n",
       "0                0             0         0              3         11   \n",
       "1                0             0         0              3         11   \n",
       "2                0             0         0              3         11   \n",
       "3                0             0         0              3         11   \n",
       "4                0             0         0              3         11   \n",
       "...            ...           ...       ...            ...        ...   \n",
       "2235             0             0         0              3         11   \n",
       "2236             1             0         0              3         11   \n",
       "2237             0             0         0              3         11   \n",
       "2238             0             0         0              3         11   \n",
       "2239             0             0         0              3         11   \n",
       "\n",
       "      Response  pred_prob  \n",
       "0            1   0.795970  \n",
       "1            0   0.015620  \n",
       "2            0   0.043979  \n",
       "3            0   0.015043  \n",
       "4            0   0.035929  \n",
       "...        ...        ...  \n",
       "2235         0   0.018760  \n",
       "2236         0   0.014646  \n",
       "2237         0   0.074925  \n",
       "2238         0   0.017407  \n",
       "2239         1   0.244572  \n",
       "\n",
       "[2240 rows x 29 columns]"
      ]
     },
     "execution_count": 148,
     "metadata": {},
     "output_type": "execute_result"
    }
   ],
   "source": [
    "y_pred_prob = gbm.predict_proba(X_all)[:, 1]  \n",
    "df['pred_prob']=pd.DataFrame(y_pred_prob)\n",
    "df"
   ]
  },
  {
   "cell_type": "markdown",
   "id": "14002b08",
   "metadata": {},
   "source": [
    "### Creating Rank based on the Model Probabilities\n",
    "Assign percentile ranks to the values in the 'pred_prob' column of a DataFrame and the resulting ranks are stored in a new column called 'P_Rank_gbm'.\n",
    "The purpose of this code is to create a new column, 'P_Rank_gbm', that represents the percentile rank of each 'pred_prob' value. This can be useful for further analysis, visualization, or grouping the data based on its predicted probabilities. The resulting column provides information about the relative position of each 'pred_prob' value within the distribution of the data.\n",
    "\n",
    "By using percentiles and dividing the data into equal-sized bins, this approach allows for a more balanced representation of the data, even if the distribution is skewed or has outliers."
   ]
  },
  {
   "cell_type": "code",
   "execution_count": 149,
   "id": "32d860cb",
   "metadata": {
    "scrolled": true
   },
   "outputs": [
    {
     "data": {
      "text/html": [
       "<div>\n",
       "<style scoped>\n",
       "    .dataframe tbody tr th:only-of-type {\n",
       "        vertical-align: middle;\n",
       "    }\n",
       "\n",
       "    .dataframe tbody tr th {\n",
       "        vertical-align: top;\n",
       "    }\n",
       "\n",
       "    .dataframe thead th {\n",
       "        text-align: right;\n",
       "    }\n",
       "</style>\n",
       "<table border=\"1\" class=\"dataframe\">\n",
       "  <thead>\n",
       "    <tr style=\"text-align: right;\">\n",
       "      <th></th>\n",
       "      <th>pred_prob</th>\n",
       "      <th>P_Rank_gbm</th>\n",
       "    </tr>\n",
       "  </thead>\n",
       "  <tbody>\n",
       "    <tr>\n",
       "      <th>0</th>\n",
       "      <td>0.795970</td>\n",
       "      <td>10</td>\n",
       "    </tr>\n",
       "    <tr>\n",
       "      <th>1</th>\n",
       "      <td>0.015620</td>\n",
       "      <td>2</td>\n",
       "    </tr>\n",
       "    <tr>\n",
       "      <th>2</th>\n",
       "      <td>0.043979</td>\n",
       "      <td>5</td>\n",
       "    </tr>\n",
       "    <tr>\n",
       "      <th>3</th>\n",
       "      <td>0.015043</td>\n",
       "      <td>2</td>\n",
       "    </tr>\n",
       "    <tr>\n",
       "      <th>4</th>\n",
       "      <td>0.035929</td>\n",
       "      <td>4</td>\n",
       "    </tr>\n",
       "  </tbody>\n",
       "</table>\n",
       "</div>"
      ],
      "text/plain": [
       "   pred_prob  P_Rank_gbm\n",
       "0   0.795970          10\n",
       "1   0.015620           2\n",
       "2   0.043979           5\n",
       "3   0.015043           2\n",
       "4   0.035929           4"
      ]
     },
     "execution_count": 149,
     "metadata": {},
     "output_type": "execute_result"
    }
   ],
   "source": [
    "df['P_Rank_gbm']=pd.qcut(df['pred_prob'].rank(method='first').values,10,duplicates='drop').codes+1 ##qcut as a “Quantile-based discretization function.” This basically means that qcut tries to divide up the underlying data into equal sized bins. The function defines the bins using percentiles based on the distribution of the data, not the actual numeric edges of the bins\n",
    "df[['pred_prob','P_Rank_gbm']].head()"
   ]
  },
  {
   "cell_type": "markdown",
   "id": "cfc75ccb",
   "metadata": {},
   "source": [
    "# Utlize APT framework to build a Machine Learning Driven Strategy"
   ]
  },
  {
   "cell_type": "markdown",
   "id": "f41afb51",
   "metadata": {},
   "source": [
    "# A - Audience (Who do we target?)\n",
    "\n",
    "We can categorize the predicted response ranks into two groups: \"Top 2\" for values with a percentile rank of 9 or higher, and \n",
    "\"Bottom 8\" for values with a percentile rank below 9. The resulting 'Predicted_Resp_Rank' column allows for easy identification and \n",
    "analysis of the top andbottom ranked predictions based on the 'P_Rank_gbm' values."
   ]
  },
  {
   "cell_type": "code",
   "execution_count": 151,
   "id": "6d1c9a16",
   "metadata": {},
   "outputs": [
    {
     "data": {
      "text/plain": [
       "Bottom 8    1792\n",
       "Top 2        448\n",
       "Name: Predicted_Resp_Rank, dtype: int64"
      ]
     },
     "execution_count": 151,
     "metadata": {},
     "output_type": "execute_result"
    }
   ],
   "source": [
    "df['Predicted_Resp_Rank']=np.where(df['P_Rank_gbm']>=9,\"Top 2\",\"Bottom 8\")\n",
    "df['Predicted_Resp_Rank'].value_counts()"
   ]
  },
  {
   "cell_type": "code",
   "execution_count": 153,
   "id": "c8591a6b",
   "metadata": {},
   "outputs": [
    {
     "data": {
      "text/html": [
       "<div>\n",
       "<style scoped>\n",
       "    .dataframe tbody tr th:only-of-type {\n",
       "        vertical-align: middle;\n",
       "    }\n",
       "\n",
       "    .dataframe tbody tr th {\n",
       "        vertical-align: top;\n",
       "    }\n",
       "\n",
       "    .dataframe thead th {\n",
       "        text-align: right;\n",
       "    }\n",
       "</style>\n",
       "<table border=\"1\" class=\"dataframe\">\n",
       "  <thead>\n",
       "    <tr style=\"text-align: right;\">\n",
       "      <th></th>\n",
       "      <th>Year_Birth</th>\n",
       "      <th>Education</th>\n",
       "      <th>Marital_Status</th>\n",
       "      <th>Income</th>\n",
       "      <th>Kidhome</th>\n",
       "      <th>Teenhome</th>\n",
       "      <th>Dt_Customer</th>\n",
       "      <th>Recency</th>\n",
       "      <th>MntWines</th>\n",
       "      <th>MntFruits</th>\n",
       "      <th>MntMeatProducts</th>\n",
       "      <th>MntFishProducts</th>\n",
       "      <th>MntSweetProducts</th>\n",
       "      <th>MntGoldProds</th>\n",
       "      <th>NumDealsPurchases</th>\n",
       "      <th>NumWebPurchases</th>\n",
       "      <th>NumCatalogPurchases</th>\n",
       "      <th>NumStorePurchases</th>\n",
       "      <th>NumWebVisitsMonth</th>\n",
       "      <th>AcceptedCmp3</th>\n",
       "      <th>AcceptedCmp4</th>\n",
       "      <th>AcceptedCmp5</th>\n",
       "      <th>AcceptedCmp1</th>\n",
       "      <th>AcceptedCmp2</th>\n",
       "      <th>Complain</th>\n",
       "      <th>Z_CostContact</th>\n",
       "      <th>Z_Revenue</th>\n",
       "      <th>Response</th>\n",
       "      <th>pred_prob</th>\n",
       "      <th>P_Rank_gbm</th>\n",
       "      <th>Predicted_Resp_Rank</th>\n",
       "    </tr>\n",
       "  </thead>\n",
       "  <tbody>\n",
       "    <tr>\n",
       "      <th>0</th>\n",
       "      <td>1957</td>\n",
       "      <td>Graduation</td>\n",
       "      <td>Single</td>\n",
       "      <td>58138.0</td>\n",
       "      <td>0</td>\n",
       "      <td>0</td>\n",
       "      <td>2012-09-04</td>\n",
       "      <td>58</td>\n",
       "      <td>635</td>\n",
       "      <td>88</td>\n",
       "      <td>546</td>\n",
       "      <td>172</td>\n",
       "      <td>88</td>\n",
       "      <td>88</td>\n",
       "      <td>3</td>\n",
       "      <td>8</td>\n",
       "      <td>10</td>\n",
       "      <td>4</td>\n",
       "      <td>7</td>\n",
       "      <td>0</td>\n",
       "      <td>0</td>\n",
       "      <td>0</td>\n",
       "      <td>0</td>\n",
       "      <td>0</td>\n",
       "      <td>0</td>\n",
       "      <td>3</td>\n",
       "      <td>11</td>\n",
       "      <td>1</td>\n",
       "      <td>0.795970</td>\n",
       "      <td>10</td>\n",
       "      <td>Top 2</td>\n",
       "    </tr>\n",
       "    <tr>\n",
       "      <th>12</th>\n",
       "      <td>1959</td>\n",
       "      <td>Graduation</td>\n",
       "      <td>Divorced</td>\n",
       "      <td>63033.0</td>\n",
       "      <td>0</td>\n",
       "      <td>0</td>\n",
       "      <td>2013-11-15</td>\n",
       "      <td>82</td>\n",
       "      <td>194</td>\n",
       "      <td>61</td>\n",
       "      <td>480</td>\n",
       "      <td>225</td>\n",
       "      <td>112</td>\n",
       "      <td>30</td>\n",
       "      <td>1</td>\n",
       "      <td>3</td>\n",
       "      <td>4</td>\n",
       "      <td>8</td>\n",
       "      <td>2</td>\n",
       "      <td>0</td>\n",
       "      <td>0</td>\n",
       "      <td>0</td>\n",
       "      <td>0</td>\n",
       "      <td>0</td>\n",
       "      <td>0</td>\n",
       "      <td>3</td>\n",
       "      <td>11</td>\n",
       "      <td>0</td>\n",
       "      <td>0.295401</td>\n",
       "      <td>9</td>\n",
       "      <td>Top 2</td>\n",
       "    </tr>\n",
       "    <tr>\n",
       "      <th>15</th>\n",
       "      <td>1946</td>\n",
       "      <td>PhD</td>\n",
       "      <td>Single</td>\n",
       "      <td>82800.0</td>\n",
       "      <td>0</td>\n",
       "      <td>0</td>\n",
       "      <td>2012-11-24</td>\n",
       "      <td>23</td>\n",
       "      <td>1006</td>\n",
       "      <td>22</td>\n",
       "      <td>115</td>\n",
       "      <td>59</td>\n",
       "      <td>68</td>\n",
       "      <td>45</td>\n",
       "      <td>1</td>\n",
       "      <td>7</td>\n",
       "      <td>6</td>\n",
       "      <td>12</td>\n",
       "      <td>3</td>\n",
       "      <td>0</td>\n",
       "      <td>0</td>\n",
       "      <td>1</td>\n",
       "      <td>1</td>\n",
       "      <td>0</td>\n",
       "      <td>0</td>\n",
       "      <td>3</td>\n",
       "      <td>11</td>\n",
       "      <td>1</td>\n",
       "      <td>0.924367</td>\n",
       "      <td>10</td>\n",
       "      <td>Top 2</td>\n",
       "    </tr>\n",
       "    <tr>\n",
       "      <th>18</th>\n",
       "      <td>1949</td>\n",
       "      <td>Master</td>\n",
       "      <td>Married</td>\n",
       "      <td>76995.0</td>\n",
       "      <td>0</td>\n",
       "      <td>1</td>\n",
       "      <td>2013-03-28</td>\n",
       "      <td>91</td>\n",
       "      <td>1012</td>\n",
       "      <td>80</td>\n",
       "      <td>498</td>\n",
       "      <td>0</td>\n",
       "      <td>16</td>\n",
       "      <td>176</td>\n",
       "      <td>2</td>\n",
       "      <td>11</td>\n",
       "      <td>4</td>\n",
       "      <td>9</td>\n",
       "      <td>5</td>\n",
       "      <td>0</td>\n",
       "      <td>0</td>\n",
       "      <td>0</td>\n",
       "      <td>1</td>\n",
       "      <td>0</td>\n",
       "      <td>0</td>\n",
       "      <td>3</td>\n",
       "      <td>11</td>\n",
       "      <td>0</td>\n",
       "      <td>0.449751</td>\n",
       "      <td>9</td>\n",
       "      <td>Top 2</td>\n",
       "    </tr>\n",
       "    <tr>\n",
       "      <th>19</th>\n",
       "      <td>1985</td>\n",
       "      <td>2n Cycle</td>\n",
       "      <td>Single</td>\n",
       "      <td>33812.0</td>\n",
       "      <td>1</td>\n",
       "      <td>0</td>\n",
       "      <td>2012-11-03</td>\n",
       "      <td>86</td>\n",
       "      <td>4</td>\n",
       "      <td>17</td>\n",
       "      <td>19</td>\n",
       "      <td>30</td>\n",
       "      <td>24</td>\n",
       "      <td>39</td>\n",
       "      <td>2</td>\n",
       "      <td>2</td>\n",
       "      <td>1</td>\n",
       "      <td>3</td>\n",
       "      <td>6</td>\n",
       "      <td>0</td>\n",
       "      <td>0</td>\n",
       "      <td>0</td>\n",
       "      <td>0</td>\n",
       "      <td>0</td>\n",
       "      <td>0</td>\n",
       "      <td>3</td>\n",
       "      <td>11</td>\n",
       "      <td>0</td>\n",
       "      <td>0.231008</td>\n",
       "      <td>9</td>\n",
       "      <td>Top 2</td>\n",
       "    </tr>\n",
       "  </tbody>\n",
       "</table>\n",
       "</div>"
      ],
      "text/plain": [
       "    Year_Birth   Education Marital_Status   Income  Kidhome  Teenhome  \\\n",
       "0         1957  Graduation         Single  58138.0        0         0   \n",
       "12        1959  Graduation       Divorced  63033.0        0         0   \n",
       "15        1946         PhD         Single  82800.0        0         0   \n",
       "18        1949      Master        Married  76995.0        0         1   \n",
       "19        1985    2n Cycle         Single  33812.0        1         0   \n",
       "\n",
       "   Dt_Customer  Recency  MntWines  MntFruits  MntMeatProducts  \\\n",
       "0   2012-09-04       58       635         88              546   \n",
       "12  2013-11-15       82       194         61              480   \n",
       "15  2012-11-24       23      1006         22              115   \n",
       "18  2013-03-28       91      1012         80              498   \n",
       "19  2012-11-03       86         4         17               19   \n",
       "\n",
       "    MntFishProducts  MntSweetProducts  MntGoldProds  NumDealsPurchases  \\\n",
       "0               172                88            88                  3   \n",
       "12              225               112            30                  1   \n",
       "15               59                68            45                  1   \n",
       "18                0                16           176                  2   \n",
       "19               30                24            39                  2   \n",
       "\n",
       "    NumWebPurchases  NumCatalogPurchases  NumStorePurchases  \\\n",
       "0                 8                   10                  4   \n",
       "12                3                    4                  8   \n",
       "15                7                    6                 12   \n",
       "18               11                    4                  9   \n",
       "19                2                    1                  3   \n",
       "\n",
       "    NumWebVisitsMonth  AcceptedCmp3  AcceptedCmp4  AcceptedCmp5  AcceptedCmp1  \\\n",
       "0                   7             0             0             0             0   \n",
       "12                  2             0             0             0             0   \n",
       "15                  3             0             0             1             1   \n",
       "18                  5             0             0             0             1   \n",
       "19                  6             0             0             0             0   \n",
       "\n",
       "    AcceptedCmp2  Complain  Z_CostContact  Z_Revenue  Response  pred_prob  \\\n",
       "0              0         0              3         11         1   0.795970   \n",
       "12             0         0              3         11         0   0.295401   \n",
       "15             0         0              3         11         1   0.924367   \n",
       "18             0         0              3         11         0   0.449751   \n",
       "19             0         0              3         11         0   0.231008   \n",
       "\n",
       "    P_Rank_gbm Predicted_Resp_Rank  \n",
       "0           10               Top 2  \n",
       "12           9               Top 2  \n",
       "15          10               Top 2  \n",
       "18           9               Top 2  \n",
       "19           9               Top 2  "
      ]
     },
     "execution_count": 153,
     "metadata": {},
     "output_type": "execute_result"
    }
   ],
   "source": [
    "df_top2=df.loc[df['Predicted_Resp_Rank']==\"Top 2\",:]\n",
    "df_top2.head()"
   ]
  },
  {
   "cell_type": "markdown",
   "id": "1ab42107",
   "metadata": {},
   "source": [
    "# P - Prioritization (Based on Business Value and Customer Engagement)"
   ]
  },
  {
   "cell_type": "code",
   "execution_count": 159,
   "id": "1335a38b",
   "metadata": {
    "scrolled": false
   },
   "outputs": [
    {
     "data": {
      "text/plain": [
       "count    448.000000\n",
       "mean       5.535714\n",
       "std        0.834690\n",
       "min        3.000000\n",
       "25%        5.000000\n",
       "50%        6.000000\n",
       "75%        6.000000\n",
       "max        6.000000\n",
       "Name: spend_cnt, dtype: float64"
      ]
     },
     "execution_count": 159,
     "metadata": {},
     "output_type": "execute_result"
    }
   ],
   "source": [
    "df_top2['spend_cnt']=np.count_nonzero(df_top2[['MntWines','MntFruits','MntMeatProducts','MntFishProducts','MntSweetProducts','MntGoldProds']],axis=1)\n",
    "df_top2['spend_cnt'].describe()"
   ]
  },
  {
   "cell_type": "code",
   "execution_count": 166,
   "id": "08695f22",
   "metadata": {},
   "outputs": [
    {
     "data": {
      "text/plain": [
       "High    314\n",
       "Low     134\n",
       "Name: Engagement, dtype: int64"
      ]
     },
     "execution_count": 166,
     "metadata": {},
     "output_type": "execute_result"
    }
   ],
   "source": [
    "df_top2['Engagement']=np.where(df_top2['spend_cnt']<df_top2['spend_cnt'].quantile(0.75),\"Low\",\"High\")\n",
    "df_top2['Engagement'].value_counts()"
   ]
  },
  {
   "cell_type": "code",
   "execution_count": 167,
   "id": "3e0576d0",
   "metadata": {},
   "outputs": [
    {
     "data": {
      "text/plain": [
       "count     448.000000\n",
       "mean     1047.765625\n",
       "std       706.894143\n",
       "min        18.000000\n",
       "25%       318.000000\n",
       "50%      1164.500000\n",
       "75%      1651.250000\n",
       "max      2525.000000\n",
       "Name: Total_Spend, dtype: float64"
      ]
     },
     "execution_count": 167,
     "metadata": {},
     "output_type": "execute_result"
    }
   ],
   "source": [
    "df_top2['Total_Spend']=df_top2['MntWines']+df_top2['MntFruits']+df_top2['MntMeatProducts']+df_top2['MntFishProducts']+df_top2['MntSweetProducts']+df_top2['MntGoldProds']\n",
    "df_top2['Total_Spend'].describe()"
   ]
  },
  {
   "cell_type": "code",
   "execution_count": 168,
   "id": "cb093131",
   "metadata": {},
   "outputs": [
    {
     "data": {
      "text/plain": [
       "Low Spend     336\n",
       "High Spend    112\n",
       "Name: spend_level, dtype: int64"
      ]
     },
     "execution_count": 168,
     "metadata": {},
     "output_type": "execute_result"
    }
   ],
   "source": [
    "df_top2['spend_level']=np.where(df_top2['Total_Spend']<df_top2['Total_Spend'].quantile(0.75),\"Low Spend\",\"High Spend\")\n",
    "df_top2['spend_level'].value_counts()"
   ]
  },
  {
   "cell_type": "code",
   "execution_count": 163,
   "id": "db10f1af",
   "metadata": {},
   "outputs": [
    {
     "data": {
      "text/html": [
       "<div>\n",
       "<style scoped>\n",
       "    .dataframe tbody tr th:only-of-type {\n",
       "        vertical-align: middle;\n",
       "    }\n",
       "\n",
       "    .dataframe tbody tr th {\n",
       "        vertical-align: top;\n",
       "    }\n",
       "\n",
       "    .dataframe thead th {\n",
       "        text-align: right;\n",
       "    }\n",
       "</style>\n",
       "<table border=\"1\" class=\"dataframe\">\n",
       "  <thead>\n",
       "    <tr style=\"text-align: right;\">\n",
       "      <th>Engagement</th>\n",
       "      <th>High</th>\n",
       "      <th>Low</th>\n",
       "    </tr>\n",
       "    <tr>\n",
       "      <th>spend_level</th>\n",
       "      <th></th>\n",
       "      <th></th>\n",
       "    </tr>\n",
       "  </thead>\n",
       "  <tbody>\n",
       "    <tr>\n",
       "      <th>High Spend</th>\n",
       "      <td>0.715909</td>\n",
       "      <td>0.625000</td>\n",
       "    </tr>\n",
       "    <tr>\n",
       "      <th>Low Spend</th>\n",
       "      <td>0.659292</td>\n",
       "      <td>0.527273</td>\n",
       "    </tr>\n",
       "  </tbody>\n",
       "</table>\n",
       "</div>"
      ],
      "text/plain": [
       "Engagement       High       Low\n",
       "spend_level                    \n",
       "High Spend   0.715909  0.625000\n",
       "Low Spend    0.659292  0.527273"
      ]
     },
     "execution_count": 163,
     "metadata": {},
     "output_type": "execute_result"
    }
   ],
   "source": [
    "pd.crosstab(index=df_top2['spend_level'], columns=df_top2['Engagement'],values=df_top2['Response'],aggfunc='mean')"
   ]
  },
  {
   "cell_type": "code",
   "execution_count": 164,
   "id": "b057cb99",
   "metadata": {},
   "outputs": [
    {
     "data": {
      "text/html": [
       "<div>\n",
       "<style scoped>\n",
       "    .dataframe tbody tr th:only-of-type {\n",
       "        vertical-align: middle;\n",
       "    }\n",
       "\n",
       "    .dataframe tbody tr th {\n",
       "        vertical-align: top;\n",
       "    }\n",
       "\n",
       "    .dataframe thead th {\n",
       "        text-align: right;\n",
       "    }\n",
       "</style>\n",
       "<table border=\"1\" class=\"dataframe\">\n",
       "  <thead>\n",
       "    <tr style=\"text-align: right;\">\n",
       "      <th>Engagement</th>\n",
       "      <th>High</th>\n",
       "      <th>Low</th>\n",
       "    </tr>\n",
       "    <tr>\n",
       "      <th>spend_level</th>\n",
       "      <th></th>\n",
       "      <th></th>\n",
       "    </tr>\n",
       "  </thead>\n",
       "  <tbody>\n",
       "    <tr>\n",
       "      <th>High Spend</th>\n",
       "      <td>88</td>\n",
       "      <td>24</td>\n",
       "    </tr>\n",
       "    <tr>\n",
       "      <th>Low Spend</th>\n",
       "      <td>226</td>\n",
       "      <td>110</td>\n",
       "    </tr>\n",
       "  </tbody>\n",
       "</table>\n",
       "</div>"
      ],
      "text/plain": [
       "Engagement   High  Low\n",
       "spend_level           \n",
       "High Spend     88   24\n",
       "Low Spend     226  110"
      ]
     },
     "execution_count": 164,
     "metadata": {},
     "output_type": "execute_result"
    }
   ],
   "source": [
    "pd.crosstab(index=df_top2['spend_level'], columns=df_top2['Engagement'],values=df_top2['Response'],aggfunc='count')"
   ]
  },
  {
   "cell_type": "code",
   "execution_count": 165,
   "id": "bb6d1a05",
   "metadata": {},
   "outputs": [
    {
     "data": {
      "text/plain": [
       "(24, 35)"
      ]
     },
     "execution_count": 165,
     "metadata": {},
     "output_type": "execute_result"
    }
   ],
   "source": [
    "df_priority_1=df_top2.loc[(df_top2['spend_level']=='High Spend') & (df_top2['Engagement']=='Low'),:]\n",
    "df_priority_1.shape"
   ]
  },
  {
   "cell_type": "markdown",
   "id": "d36782ac",
   "metadata": {},
   "source": [
    "The customers with high spend, can contribute significantly to the revenue of the supermarket and can make higher value purchases\n",
    "So, we are targeting such customers with high spend and low engagement to increase their engagement."
   ]
  },
  {
   "cell_type": "code",
   "execution_count": 169,
   "id": "48bc7570",
   "metadata": {},
   "outputs": [
    {
     "data": {
      "text/html": [
       "<div>\n",
       "<style scoped>\n",
       "    .dataframe tbody tr th:only-of-type {\n",
       "        vertical-align: middle;\n",
       "    }\n",
       "\n",
       "    .dataframe tbody tr th {\n",
       "        vertical-align: top;\n",
       "    }\n",
       "\n",
       "    .dataframe thead th {\n",
       "        text-align: right;\n",
       "    }\n",
       "</style>\n",
       "<table border=\"1\" class=\"dataframe\">\n",
       "  <thead>\n",
       "    <tr style=\"text-align: right;\">\n",
       "      <th></th>\n",
       "      <th>Year_Birth</th>\n",
       "      <th>Education</th>\n",
       "      <th>Marital_Status</th>\n",
       "      <th>Income</th>\n",
       "      <th>Kidhome</th>\n",
       "      <th>Teenhome</th>\n",
       "      <th>Dt_Customer</th>\n",
       "      <th>Recency</th>\n",
       "      <th>MntWines</th>\n",
       "      <th>MntFruits</th>\n",
       "      <th>MntMeatProducts</th>\n",
       "      <th>MntFishProducts</th>\n",
       "      <th>MntSweetProducts</th>\n",
       "      <th>MntGoldProds</th>\n",
       "      <th>NumDealsPurchases</th>\n",
       "      <th>NumWebPurchases</th>\n",
       "      <th>NumCatalogPurchases</th>\n",
       "      <th>NumStorePurchases</th>\n",
       "      <th>NumWebVisitsMonth</th>\n",
       "      <th>AcceptedCmp3</th>\n",
       "      <th>AcceptedCmp4</th>\n",
       "      <th>AcceptedCmp5</th>\n",
       "      <th>AcceptedCmp1</th>\n",
       "      <th>AcceptedCmp2</th>\n",
       "      <th>Complain</th>\n",
       "      <th>Z_CostContact</th>\n",
       "      <th>Z_Revenue</th>\n",
       "      <th>Response</th>\n",
       "      <th>pred_prob</th>\n",
       "      <th>P_Rank_gbm</th>\n",
       "      <th>Predicted_Resp_Rank</th>\n",
       "      <th>spend_cnt</th>\n",
       "      <th>Engagement</th>\n",
       "      <th>Total_Spend</th>\n",
       "      <th>spend_level</th>\n",
       "    </tr>\n",
       "  </thead>\n",
       "  <tbody>\n",
       "    <tr>\n",
       "      <th>18</th>\n",
       "      <td>1949</td>\n",
       "      <td>Master</td>\n",
       "      <td>Married</td>\n",
       "      <td>76995.0</td>\n",
       "      <td>0</td>\n",
       "      <td>1</td>\n",
       "      <td>2013-03-28</td>\n",
       "      <td>91</td>\n",
       "      <td>1012</td>\n",
       "      <td>80</td>\n",
       "      <td>498</td>\n",
       "      <td>0</td>\n",
       "      <td>16</td>\n",
       "      <td>176</td>\n",
       "      <td>2</td>\n",
       "      <td>11</td>\n",
       "      <td>4</td>\n",
       "      <td>9</td>\n",
       "      <td>5</td>\n",
       "      <td>0</td>\n",
       "      <td>0</td>\n",
       "      <td>0</td>\n",
       "      <td>1</td>\n",
       "      <td>0</td>\n",
       "      <td>0</td>\n",
       "      <td>3</td>\n",
       "      <td>11</td>\n",
       "      <td>0</td>\n",
       "      <td>0.449751</td>\n",
       "      <td>9</td>\n",
       "      <td>Top 2</td>\n",
       "      <td>5</td>\n",
       "      <td>Low</td>\n",
       "      <td>1782</td>\n",
       "      <td>High Spend</td>\n",
       "    </tr>\n",
       "    <tr>\n",
       "      <th>126</th>\n",
       "      <td>1984</td>\n",
       "      <td>Graduation</td>\n",
       "      <td>Single</td>\n",
       "      <td>79607.0</td>\n",
       "      <td>0</td>\n",
       "      <td>0</td>\n",
       "      <td>2013-04-21</td>\n",
       "      <td>37</td>\n",
       "      <td>450</td>\n",
       "      <td>133</td>\n",
       "      <td>951</td>\n",
       "      <td>173</td>\n",
       "      <td>0</td>\n",
       "      <td>216</td>\n",
       "      <td>1</td>\n",
       "      <td>3</td>\n",
       "      <td>6</td>\n",
       "      <td>6</td>\n",
       "      <td>1</td>\n",
       "      <td>0</td>\n",
       "      <td>0</td>\n",
       "      <td>0</td>\n",
       "      <td>0</td>\n",
       "      <td>0</td>\n",
       "      <td>0</td>\n",
       "      <td>3</td>\n",
       "      <td>11</td>\n",
       "      <td>1</td>\n",
       "      <td>0.754980</td>\n",
       "      <td>10</td>\n",
       "      <td>Top 2</td>\n",
       "      <td>5</td>\n",
       "      <td>Low</td>\n",
       "      <td>1923</td>\n",
       "      <td>High Spend</td>\n",
       "    </tr>\n",
       "    <tr>\n",
       "      <th>246</th>\n",
       "      <td>1972</td>\n",
       "      <td>Graduation</td>\n",
       "      <td>Married</td>\n",
       "      <td>80134.0</td>\n",
       "      <td>1</td>\n",
       "      <td>0</td>\n",
       "      <td>2013-05-20</td>\n",
       "      <td>40</td>\n",
       "      <td>1218</td>\n",
       "      <td>16</td>\n",
       "      <td>272</td>\n",
       "      <td>104</td>\n",
       "      <td>0</td>\n",
       "      <td>80</td>\n",
       "      <td>2</td>\n",
       "      <td>5</td>\n",
       "      <td>3</td>\n",
       "      <td>6</td>\n",
       "      <td>6</td>\n",
       "      <td>0</td>\n",
       "      <td>1</td>\n",
       "      <td>1</td>\n",
       "      <td>1</td>\n",
       "      <td>0</td>\n",
       "      <td>0</td>\n",
       "      <td>3</td>\n",
       "      <td>11</td>\n",
       "      <td>1</td>\n",
       "      <td>0.822806</td>\n",
       "      <td>10</td>\n",
       "      <td>Top 2</td>\n",
       "      <td>5</td>\n",
       "      <td>Low</td>\n",
       "      <td>1690</td>\n",
       "      <td>High Spend</td>\n",
       "    </tr>\n",
       "    <tr>\n",
       "      <th>424</th>\n",
       "      <td>1941</td>\n",
       "      <td>PhD</td>\n",
       "      <td>Married</td>\n",
       "      <td>93027.0</td>\n",
       "      <td>0</td>\n",
       "      <td>0</td>\n",
       "      <td>2013-04-13</td>\n",
       "      <td>77</td>\n",
       "      <td>1285</td>\n",
       "      <td>42</td>\n",
       "      <td>716</td>\n",
       "      <td>55</td>\n",
       "      <td>0</td>\n",
       "      <td>21</td>\n",
       "      <td>0</td>\n",
       "      <td>7</td>\n",
       "      <td>10</td>\n",
       "      <td>5</td>\n",
       "      <td>2</td>\n",
       "      <td>0</td>\n",
       "      <td>0</td>\n",
       "      <td>1</td>\n",
       "      <td>0</td>\n",
       "      <td>0</td>\n",
       "      <td>0</td>\n",
       "      <td>3</td>\n",
       "      <td>11</td>\n",
       "      <td>0</td>\n",
       "      <td>0.218375</td>\n",
       "      <td>9</td>\n",
       "      <td>Top 2</td>\n",
       "      <td>5</td>\n",
       "      <td>Low</td>\n",
       "      <td>2119</td>\n",
       "      <td>High Spend</td>\n",
       "    </tr>\n",
       "    <tr>\n",
       "      <th>519</th>\n",
       "      <td>1944</td>\n",
       "      <td>Master</td>\n",
       "      <td>Married</td>\n",
       "      <td>80184.0</td>\n",
       "      <td>0</td>\n",
       "      <td>0</td>\n",
       "      <td>2014-03-01</td>\n",
       "      <td>19</td>\n",
       "      <td>1035</td>\n",
       "      <td>134</td>\n",
       "      <td>670</td>\n",
       "      <td>25</td>\n",
       "      <td>38</td>\n",
       "      <td>0</td>\n",
       "      <td>1</td>\n",
       "      <td>6</td>\n",
       "      <td>3</td>\n",
       "      <td>10</td>\n",
       "      <td>3</td>\n",
       "      <td>0</td>\n",
       "      <td>0</td>\n",
       "      <td>1</td>\n",
       "      <td>1</td>\n",
       "      <td>0</td>\n",
       "      <td>0</td>\n",
       "      <td>3</td>\n",
       "      <td>11</td>\n",
       "      <td>0</td>\n",
       "      <td>0.340111</td>\n",
       "      <td>9</td>\n",
       "      <td>Top 2</td>\n",
       "      <td>5</td>\n",
       "      <td>Low</td>\n",
       "      <td>1902</td>\n",
       "      <td>High Spend</td>\n",
       "    </tr>\n",
       "    <tr>\n",
       "      <th>523</th>\n",
       "      <td>1953</td>\n",
       "      <td>Graduation</td>\n",
       "      <td>Married</td>\n",
       "      <td>70503.0</td>\n",
       "      <td>0</td>\n",
       "      <td>0</td>\n",
       "      <td>2012-09-30</td>\n",
       "      <td>73</td>\n",
       "      <td>1379</td>\n",
       "      <td>33</td>\n",
       "      <td>216</td>\n",
       "      <td>0</td>\n",
       "      <td>33</td>\n",
       "      <td>66</td>\n",
       "      <td>1</td>\n",
       "      <td>2</td>\n",
       "      <td>4</td>\n",
       "      <td>9</td>\n",
       "      <td>6</td>\n",
       "      <td>0</td>\n",
       "      <td>1</td>\n",
       "      <td>1</td>\n",
       "      <td>0</td>\n",
       "      <td>0</td>\n",
       "      <td>0</td>\n",
       "      <td>3</td>\n",
       "      <td>11</td>\n",
       "      <td>0</td>\n",
       "      <td>0.287055</td>\n",
       "      <td>9</td>\n",
       "      <td>Top 2</td>\n",
       "      <td>5</td>\n",
       "      <td>Low</td>\n",
       "      <td>1727</td>\n",
       "      <td>High Spend</td>\n",
       "    </tr>\n",
       "    <tr>\n",
       "      <th>543</th>\n",
       "      <td>1982</td>\n",
       "      <td>PhD</td>\n",
       "      <td>Married</td>\n",
       "      <td>84169.0</td>\n",
       "      <td>0</td>\n",
       "      <td>0</td>\n",
       "      <td>2013-08-07</td>\n",
       "      <td>9</td>\n",
       "      <td>1478</td>\n",
       "      <td>19</td>\n",
       "      <td>403</td>\n",
       "      <td>0</td>\n",
       "      <td>19</td>\n",
       "      <td>0</td>\n",
       "      <td>1</td>\n",
       "      <td>7</td>\n",
       "      <td>6</td>\n",
       "      <td>6</td>\n",
       "      <td>3</td>\n",
       "      <td>0</td>\n",
       "      <td>1</td>\n",
       "      <td>1</td>\n",
       "      <td>0</td>\n",
       "      <td>0</td>\n",
       "      <td>0</td>\n",
       "      <td>3</td>\n",
       "      <td>11</td>\n",
       "      <td>1</td>\n",
       "      <td>0.815661</td>\n",
       "      <td>10</td>\n",
       "      <td>Top 2</td>\n",
       "      <td>4</td>\n",
       "      <td>Low</td>\n",
       "      <td>1919</td>\n",
       "      <td>High Spend</td>\n",
       "    </tr>\n",
       "    <tr>\n",
       "      <th>586</th>\n",
       "      <td>1955</td>\n",
       "      <td>Graduation</td>\n",
       "      <td>Widow</td>\n",
       "      <td>79800.0</td>\n",
       "      <td>0</td>\n",
       "      <td>0</td>\n",
       "      <td>2012-09-23</td>\n",
       "      <td>65</td>\n",
       "      <td>1060</td>\n",
       "      <td>21</td>\n",
       "      <td>530</td>\n",
       "      <td>32</td>\n",
       "      <td>0</td>\n",
       "      <td>224</td>\n",
       "      <td>1</td>\n",
       "      <td>5</td>\n",
       "      <td>11</td>\n",
       "      <td>5</td>\n",
       "      <td>3</td>\n",
       "      <td>1</td>\n",
       "      <td>0</td>\n",
       "      <td>1</td>\n",
       "      <td>1</td>\n",
       "      <td>0</td>\n",
       "      <td>0</td>\n",
       "      <td>3</td>\n",
       "      <td>11</td>\n",
       "      <td>1</td>\n",
       "      <td>0.974178</td>\n",
       "      <td>10</td>\n",
       "      <td>Top 2</td>\n",
       "      <td>5</td>\n",
       "      <td>Low</td>\n",
       "      <td>1867</td>\n",
       "      <td>High Spend</td>\n",
       "    </tr>\n",
       "    <tr>\n",
       "      <th>644</th>\n",
       "      <td>1947</td>\n",
       "      <td>Master</td>\n",
       "      <td>Together</td>\n",
       "      <td>77632.0</td>\n",
       "      <td>0</td>\n",
       "      <td>0</td>\n",
       "      <td>2013-03-10</td>\n",
       "      <td>73</td>\n",
       "      <td>1200</td>\n",
       "      <td>105</td>\n",
       "      <td>758</td>\n",
       "      <td>0</td>\n",
       "      <td>42</td>\n",
       "      <td>147</td>\n",
       "      <td>1</td>\n",
       "      <td>4</td>\n",
       "      <td>2</td>\n",
       "      <td>6</td>\n",
       "      <td>2</td>\n",
       "      <td>0</td>\n",
       "      <td>1</td>\n",
       "      <td>1</td>\n",
       "      <td>0</td>\n",
       "      <td>0</td>\n",
       "      <td>0</td>\n",
       "      <td>3</td>\n",
       "      <td>11</td>\n",
       "      <td>1</td>\n",
       "      <td>0.784164</td>\n",
       "      <td>10</td>\n",
       "      <td>Top 2</td>\n",
       "      <td>5</td>\n",
       "      <td>Low</td>\n",
       "      <td>2252</td>\n",
       "      <td>High Spend</td>\n",
       "    </tr>\n",
       "    <tr>\n",
       "      <th>735</th>\n",
       "      <td>1949</td>\n",
       "      <td>Graduation</td>\n",
       "      <td>Married</td>\n",
       "      <td>72025.0</td>\n",
       "      <td>0</td>\n",
       "      <td>0</td>\n",
       "      <td>2014-04-29</td>\n",
       "      <td>46</td>\n",
       "      <td>967</td>\n",
       "      <td>0</td>\n",
       "      <td>617</td>\n",
       "      <td>43</td>\n",
       "      <td>50</td>\n",
       "      <td>0</td>\n",
       "      <td>1</td>\n",
       "      <td>4</td>\n",
       "      <td>8</td>\n",
       "      <td>13</td>\n",
       "      <td>2</td>\n",
       "      <td>0</td>\n",
       "      <td>1</td>\n",
       "      <td>1</td>\n",
       "      <td>1</td>\n",
       "      <td>0</td>\n",
       "      <td>0</td>\n",
       "      <td>3</td>\n",
       "      <td>11</td>\n",
       "      <td>1</td>\n",
       "      <td>0.781324</td>\n",
       "      <td>10</td>\n",
       "      <td>Top 2</td>\n",
       "      <td>4</td>\n",
       "      <td>Low</td>\n",
       "      <td>1677</td>\n",
       "      <td>High Spend</td>\n",
       "    </tr>\n",
       "    <tr>\n",
       "      <th>766</th>\n",
       "      <td>1977</td>\n",
       "      <td>Graduation</td>\n",
       "      <td>Married</td>\n",
       "      <td>74985.0</td>\n",
       "      <td>0</td>\n",
       "      <td>0</td>\n",
       "      <td>2012-09-11</td>\n",
       "      <td>8</td>\n",
       "      <td>587</td>\n",
       "      <td>51</td>\n",
       "      <td>898</td>\n",
       "      <td>247</td>\n",
       "      <td>0</td>\n",
       "      <td>86</td>\n",
       "      <td>1</td>\n",
       "      <td>3</td>\n",
       "      <td>6</td>\n",
       "      <td>7</td>\n",
       "      <td>2</td>\n",
       "      <td>0</td>\n",
       "      <td>0</td>\n",
       "      <td>0</td>\n",
       "      <td>0</td>\n",
       "      <td>0</td>\n",
       "      <td>0</td>\n",
       "      <td>3</td>\n",
       "      <td>11</td>\n",
       "      <td>0</td>\n",
       "      <td>0.243082</td>\n",
       "      <td>9</td>\n",
       "      <td>Top 2</td>\n",
       "      <td>5</td>\n",
       "      <td>Low</td>\n",
       "      <td>1869</td>\n",
       "      <td>High Spend</td>\n",
       "    </tr>\n",
       "    <tr>\n",
       "      <th>870</th>\n",
       "      <td>1983</td>\n",
       "      <td>PhD</td>\n",
       "      <td>Together</td>\n",
       "      <td>70123.0</td>\n",
       "      <td>0</td>\n",
       "      <td>0</td>\n",
       "      <td>2013-09-28</td>\n",
       "      <td>27</td>\n",
       "      <td>1308</td>\n",
       "      <td>0</td>\n",
       "      <td>396</td>\n",
       "      <td>23</td>\n",
       "      <td>0</td>\n",
       "      <td>0</td>\n",
       "      <td>1</td>\n",
       "      <td>5</td>\n",
       "      <td>7</td>\n",
       "      <td>4</td>\n",
       "      <td>3</td>\n",
       "      <td>0</td>\n",
       "      <td>1</td>\n",
       "      <td>0</td>\n",
       "      <td>0</td>\n",
       "      <td>1</td>\n",
       "      <td>0</td>\n",
       "      <td>3</td>\n",
       "      <td>11</td>\n",
       "      <td>0</td>\n",
       "      <td>0.277505</td>\n",
       "      <td>9</td>\n",
       "      <td>Top 2</td>\n",
       "      <td>3</td>\n",
       "      <td>Low</td>\n",
       "      <td>1727</td>\n",
       "      <td>High Spend</td>\n",
       "    </tr>\n",
       "    <tr>\n",
       "      <th>917</th>\n",
       "      <td>1982</td>\n",
       "      <td>PhD</td>\n",
       "      <td>Married</td>\n",
       "      <td>84169.0</td>\n",
       "      <td>0</td>\n",
       "      <td>0</td>\n",
       "      <td>2013-08-07</td>\n",
       "      <td>9</td>\n",
       "      <td>1478</td>\n",
       "      <td>19</td>\n",
       "      <td>403</td>\n",
       "      <td>0</td>\n",
       "      <td>19</td>\n",
       "      <td>0</td>\n",
       "      <td>1</td>\n",
       "      <td>7</td>\n",
       "      <td>6</td>\n",
       "      <td>6</td>\n",
       "      <td>3</td>\n",
       "      <td>0</td>\n",
       "      <td>1</td>\n",
       "      <td>1</td>\n",
       "      <td>0</td>\n",
       "      <td>0</td>\n",
       "      <td>0</td>\n",
       "      <td>3</td>\n",
       "      <td>11</td>\n",
       "      <td>1</td>\n",
       "      <td>0.815661</td>\n",
       "      <td>10</td>\n",
       "      <td>Top 2</td>\n",
       "      <td>4</td>\n",
       "      <td>Low</td>\n",
       "      <td>1919</td>\n",
       "      <td>High Spend</td>\n",
       "    </tr>\n",
       "    <tr>\n",
       "      <th>1010</th>\n",
       "      <td>1979</td>\n",
       "      <td>Graduation</td>\n",
       "      <td>Together</td>\n",
       "      <td>77568.0</td>\n",
       "      <td>0</td>\n",
       "      <td>1</td>\n",
       "      <td>2012-08-25</td>\n",
       "      <td>30</td>\n",
       "      <td>1230</td>\n",
       "      <td>0</td>\n",
       "      <td>396</td>\n",
       "      <td>232</td>\n",
       "      <td>178</td>\n",
       "      <td>158</td>\n",
       "      <td>1</td>\n",
       "      <td>10</td>\n",
       "      <td>2</td>\n",
       "      <td>8</td>\n",
       "      <td>5</td>\n",
       "      <td>0</td>\n",
       "      <td>1</td>\n",
       "      <td>1</td>\n",
       "      <td>1</td>\n",
       "      <td>0</td>\n",
       "      <td>0</td>\n",
       "      <td>3</td>\n",
       "      <td>11</td>\n",
       "      <td>0</td>\n",
       "      <td>0.216590</td>\n",
       "      <td>9</td>\n",
       "      <td>Top 2</td>\n",
       "      <td>5</td>\n",
       "      <td>Low</td>\n",
       "      <td>2194</td>\n",
       "      <td>High Spend</td>\n",
       "    </tr>\n",
       "    <tr>\n",
       "      <th>1134</th>\n",
       "      <td>1985</td>\n",
       "      <td>Graduation</td>\n",
       "      <td>Single</td>\n",
       "      <td>72903.0</td>\n",
       "      <td>0</td>\n",
       "      <td>0</td>\n",
       "      <td>2013-10-29</td>\n",
       "      <td>74</td>\n",
       "      <td>1067</td>\n",
       "      <td>138</td>\n",
       "      <td>750</td>\n",
       "      <td>0</td>\n",
       "      <td>19</td>\n",
       "      <td>39</td>\n",
       "      <td>1</td>\n",
       "      <td>7</td>\n",
       "      <td>5</td>\n",
       "      <td>8</td>\n",
       "      <td>4</td>\n",
       "      <td>0</td>\n",
       "      <td>1</td>\n",
       "      <td>1</td>\n",
       "      <td>1</td>\n",
       "      <td>0</td>\n",
       "      <td>0</td>\n",
       "      <td>3</td>\n",
       "      <td>11</td>\n",
       "      <td>1</td>\n",
       "      <td>0.966180</td>\n",
       "      <td>10</td>\n",
       "      <td>Top 2</td>\n",
       "      <td>5</td>\n",
       "      <td>Low</td>\n",
       "      <td>2013</td>\n",
       "      <td>High Spend</td>\n",
       "    </tr>\n",
       "    <tr>\n",
       "      <th>1325</th>\n",
       "      <td>1962</td>\n",
       "      <td>Master</td>\n",
       "      <td>Married</td>\n",
       "      <td>72828.0</td>\n",
       "      <td>0</td>\n",
       "      <td>1</td>\n",
       "      <td>2013-02-14</td>\n",
       "      <td>17</td>\n",
       "      <td>1205</td>\n",
       "      <td>0</td>\n",
       "      <td>235</td>\n",
       "      <td>19</td>\n",
       "      <td>14</td>\n",
       "      <td>205</td>\n",
       "      <td>6</td>\n",
       "      <td>6</td>\n",
       "      <td>3</td>\n",
       "      <td>13</td>\n",
       "      <td>7</td>\n",
       "      <td>0</td>\n",
       "      <td>0</td>\n",
       "      <td>0</td>\n",
       "      <td>0</td>\n",
       "      <td>0</td>\n",
       "      <td>0</td>\n",
       "      <td>3</td>\n",
       "      <td>11</td>\n",
       "      <td>0</td>\n",
       "      <td>0.211701</td>\n",
       "      <td>9</td>\n",
       "      <td>Top 2</td>\n",
       "      <td>5</td>\n",
       "      <td>Low</td>\n",
       "      <td>1678</td>\n",
       "      <td>High Spend</td>\n",
       "    </tr>\n",
       "    <tr>\n",
       "      <th>1411</th>\n",
       "      <td>1972</td>\n",
       "      <td>Graduation</td>\n",
       "      <td>Married</td>\n",
       "      <td>80134.0</td>\n",
       "      <td>1</td>\n",
       "      <td>0</td>\n",
       "      <td>2013-05-20</td>\n",
       "      <td>40</td>\n",
       "      <td>1218</td>\n",
       "      <td>16</td>\n",
       "      <td>272</td>\n",
       "      <td>104</td>\n",
       "      <td>0</td>\n",
       "      <td>80</td>\n",
       "      <td>2</td>\n",
       "      <td>5</td>\n",
       "      <td>3</td>\n",
       "      <td>6</td>\n",
       "      <td>6</td>\n",
       "      <td>0</td>\n",
       "      <td>1</td>\n",
       "      <td>1</td>\n",
       "      <td>1</td>\n",
       "      <td>0</td>\n",
       "      <td>0</td>\n",
       "      <td>3</td>\n",
       "      <td>11</td>\n",
       "      <td>1</td>\n",
       "      <td>0.822806</td>\n",
       "      <td>10</td>\n",
       "      <td>Top 2</td>\n",
       "      <td>5</td>\n",
       "      <td>Low</td>\n",
       "      <td>1690</td>\n",
       "      <td>High Spend</td>\n",
       "    </tr>\n",
       "    <tr>\n",
       "      <th>1577</th>\n",
       "      <td>1947</td>\n",
       "      <td>PhD</td>\n",
       "      <td>Together</td>\n",
       "      <td>81574.0</td>\n",
       "      <td>0</td>\n",
       "      <td>0</td>\n",
       "      <td>2014-04-28</td>\n",
       "      <td>89</td>\n",
       "      <td>1252</td>\n",
       "      <td>0</td>\n",
       "      <td>465</td>\n",
       "      <td>46</td>\n",
       "      <td>35</td>\n",
       "      <td>0</td>\n",
       "      <td>1</td>\n",
       "      <td>4</td>\n",
       "      <td>5</td>\n",
       "      <td>8</td>\n",
       "      <td>1</td>\n",
       "      <td>0</td>\n",
       "      <td>1</td>\n",
       "      <td>1</td>\n",
       "      <td>0</td>\n",
       "      <td>0</td>\n",
       "      <td>0</td>\n",
       "      <td>3</td>\n",
       "      <td>11</td>\n",
       "      <td>0</td>\n",
       "      <td>0.459965</td>\n",
       "      <td>9</td>\n",
       "      <td>Top 2</td>\n",
       "      <td>4</td>\n",
       "      <td>Low</td>\n",
       "      <td>1798</td>\n",
       "      <td>High Spend</td>\n",
       "    </tr>\n",
       "    <tr>\n",
       "      <th>1641</th>\n",
       "      <td>1964</td>\n",
       "      <td>PhD</td>\n",
       "      <td>Divorced</td>\n",
       "      <td>64140.0</td>\n",
       "      <td>0</td>\n",
       "      <td>2</td>\n",
       "      <td>2013-09-23</td>\n",
       "      <td>71</td>\n",
       "      <td>1459</td>\n",
       "      <td>0</td>\n",
       "      <td>61</td>\n",
       "      <td>0</td>\n",
       "      <td>15</td>\n",
       "      <td>215</td>\n",
       "      <td>5</td>\n",
       "      <td>2</td>\n",
       "      <td>5</td>\n",
       "      <td>6</td>\n",
       "      <td>5</td>\n",
       "      <td>1</td>\n",
       "      <td>0</td>\n",
       "      <td>1</td>\n",
       "      <td>0</td>\n",
       "      <td>1</td>\n",
       "      <td>0</td>\n",
       "      <td>3</td>\n",
       "      <td>11</td>\n",
       "      <td>1</td>\n",
       "      <td>0.905000</td>\n",
       "      <td>10</td>\n",
       "      <td>Top 2</td>\n",
       "      <td>4</td>\n",
       "      <td>Low</td>\n",
       "      <td>1750</td>\n",
       "      <td>High Spend</td>\n",
       "    </tr>\n",
       "    <tr>\n",
       "      <th>1953</th>\n",
       "      <td>1976</td>\n",
       "      <td>PhD</td>\n",
       "      <td>Together</td>\n",
       "      <td>72335.0</td>\n",
       "      <td>0</td>\n",
       "      <td>0</td>\n",
       "      <td>2012-08-13</td>\n",
       "      <td>2</td>\n",
       "      <td>1285</td>\n",
       "      <td>105</td>\n",
       "      <td>653</td>\n",
       "      <td>28</td>\n",
       "      <td>21</td>\n",
       "      <td>0</td>\n",
       "      <td>1</td>\n",
       "      <td>10</td>\n",
       "      <td>4</td>\n",
       "      <td>8</td>\n",
       "      <td>8</td>\n",
       "      <td>0</td>\n",
       "      <td>0</td>\n",
       "      <td>0</td>\n",
       "      <td>0</td>\n",
       "      <td>0</td>\n",
       "      <td>0</td>\n",
       "      <td>3</td>\n",
       "      <td>11</td>\n",
       "      <td>1</td>\n",
       "      <td>0.732262</td>\n",
       "      <td>10</td>\n",
       "      <td>Top 2</td>\n",
       "      <td>5</td>\n",
       "      <td>Low</td>\n",
       "      <td>2092</td>\n",
       "      <td>High Spend</td>\n",
       "    </tr>\n",
       "    <tr>\n",
       "      <th>1961</th>\n",
       "      <td>1962</td>\n",
       "      <td>PhD</td>\n",
       "      <td>Widow</td>\n",
       "      <td>71670.0</td>\n",
       "      <td>0</td>\n",
       "      <td>0</td>\n",
       "      <td>2013-07-09</td>\n",
       "      <td>8</td>\n",
       "      <td>1462</td>\n",
       "      <td>16</td>\n",
       "      <td>128</td>\n",
       "      <td>0</td>\n",
       "      <td>0</td>\n",
       "      <td>160</td>\n",
       "      <td>1</td>\n",
       "      <td>5</td>\n",
       "      <td>3</td>\n",
       "      <td>6</td>\n",
       "      <td>6</td>\n",
       "      <td>0</td>\n",
       "      <td>1</td>\n",
       "      <td>1</td>\n",
       "      <td>0</td>\n",
       "      <td>1</td>\n",
       "      <td>0</td>\n",
       "      <td>3</td>\n",
       "      <td>11</td>\n",
       "      <td>1</td>\n",
       "      <td>0.874737</td>\n",
       "      <td>10</td>\n",
       "      <td>Top 2</td>\n",
       "      <td>4</td>\n",
       "      <td>Low</td>\n",
       "      <td>1766</td>\n",
       "      <td>High Spend</td>\n",
       "    </tr>\n",
       "    <tr>\n",
       "      <th>2098</th>\n",
       "      <td>1976</td>\n",
       "      <td>Master</td>\n",
       "      <td>Married</td>\n",
       "      <td>81929.0</td>\n",
       "      <td>1</td>\n",
       "      <td>0</td>\n",
       "      <td>2012-09-29</td>\n",
       "      <td>60</td>\n",
       "      <td>1486</td>\n",
       "      <td>55</td>\n",
       "      <td>278</td>\n",
       "      <td>49</td>\n",
       "      <td>0</td>\n",
       "      <td>185</td>\n",
       "      <td>2</td>\n",
       "      <td>4</td>\n",
       "      <td>4</td>\n",
       "      <td>10</td>\n",
       "      <td>6</td>\n",
       "      <td>1</td>\n",
       "      <td>0</td>\n",
       "      <td>1</td>\n",
       "      <td>0</td>\n",
       "      <td>0</td>\n",
       "      <td>0</td>\n",
       "      <td>3</td>\n",
       "      <td>11</td>\n",
       "      <td>1</td>\n",
       "      <td>0.889205</td>\n",
       "      <td>10</td>\n",
       "      <td>Top 2</td>\n",
       "      <td>5</td>\n",
       "      <td>Low</td>\n",
       "      <td>2053</td>\n",
       "      <td>High Spend</td>\n",
       "    </tr>\n",
       "    <tr>\n",
       "      <th>2127</th>\n",
       "      <td>1986</td>\n",
       "      <td>PhD</td>\n",
       "      <td>Married</td>\n",
       "      <td>82333.0</td>\n",
       "      <td>0</td>\n",
       "      <td>0</td>\n",
       "      <td>2013-03-30</td>\n",
       "      <td>60</td>\n",
       "      <td>1311</td>\n",
       "      <td>0</td>\n",
       "      <td>359</td>\n",
       "      <td>46</td>\n",
       "      <td>89</td>\n",
       "      <td>17</td>\n",
       "      <td>1</td>\n",
       "      <td>4</td>\n",
       "      <td>3</td>\n",
       "      <td>10</td>\n",
       "      <td>2</td>\n",
       "      <td>0</td>\n",
       "      <td>0</td>\n",
       "      <td>1</td>\n",
       "      <td>0</td>\n",
       "      <td>0</td>\n",
       "      <td>0</td>\n",
       "      <td>3</td>\n",
       "      <td>11</td>\n",
       "      <td>1</td>\n",
       "      <td>0.524438</td>\n",
       "      <td>10</td>\n",
       "      <td>Top 2</td>\n",
       "      <td>5</td>\n",
       "      <td>Low</td>\n",
       "      <td>1822</td>\n",
       "      <td>High Spend</td>\n",
       "    </tr>\n",
       "    <tr>\n",
       "      <th>2131</th>\n",
       "      <td>1976</td>\n",
       "      <td>Master</td>\n",
       "      <td>Single</td>\n",
       "      <td>72309.0</td>\n",
       "      <td>0</td>\n",
       "      <td>0</td>\n",
       "      <td>2013-03-11</td>\n",
       "      <td>64</td>\n",
       "      <td>960</td>\n",
       "      <td>0</td>\n",
       "      <td>883</td>\n",
       "      <td>50</td>\n",
       "      <td>38</td>\n",
       "      <td>0</td>\n",
       "      <td>1</td>\n",
       "      <td>5</td>\n",
       "      <td>6</td>\n",
       "      <td>8</td>\n",
       "      <td>3</td>\n",
       "      <td>0</td>\n",
       "      <td>0</td>\n",
       "      <td>0</td>\n",
       "      <td>1</td>\n",
       "      <td>0</td>\n",
       "      <td>0</td>\n",
       "      <td>3</td>\n",
       "      <td>11</td>\n",
       "      <td>1</td>\n",
       "      <td>0.954480</td>\n",
       "      <td>10</td>\n",
       "      <td>Top 2</td>\n",
       "      <td>4</td>\n",
       "      <td>Low</td>\n",
       "      <td>1931</td>\n",
       "      <td>High Spend</td>\n",
       "    </tr>\n",
       "  </tbody>\n",
       "</table>\n",
       "</div>"
      ],
      "text/plain": [
       "      Year_Birth   Education Marital_Status   Income  Kidhome  Teenhome  \\\n",
       "18          1949      Master        Married  76995.0        0         1   \n",
       "126         1984  Graduation         Single  79607.0        0         0   \n",
       "246         1972  Graduation        Married  80134.0        1         0   \n",
       "424         1941         PhD        Married  93027.0        0         0   \n",
       "519         1944      Master        Married  80184.0        0         0   \n",
       "523         1953  Graduation        Married  70503.0        0         0   \n",
       "543         1982         PhD        Married  84169.0        0         0   \n",
       "586         1955  Graduation          Widow  79800.0        0         0   \n",
       "644         1947      Master       Together  77632.0        0         0   \n",
       "735         1949  Graduation        Married  72025.0        0         0   \n",
       "766         1977  Graduation        Married  74985.0        0         0   \n",
       "870         1983         PhD       Together  70123.0        0         0   \n",
       "917         1982         PhD        Married  84169.0        0         0   \n",
       "1010        1979  Graduation       Together  77568.0        0         1   \n",
       "1134        1985  Graduation         Single  72903.0        0         0   \n",
       "1325        1962      Master        Married  72828.0        0         1   \n",
       "1411        1972  Graduation        Married  80134.0        1         0   \n",
       "1577        1947         PhD       Together  81574.0        0         0   \n",
       "1641        1964         PhD       Divorced  64140.0        0         2   \n",
       "1953        1976         PhD       Together  72335.0        0         0   \n",
       "1961        1962         PhD          Widow  71670.0        0         0   \n",
       "2098        1976      Master        Married  81929.0        1         0   \n",
       "2127        1986         PhD        Married  82333.0        0         0   \n",
       "2131        1976      Master         Single  72309.0        0         0   \n",
       "\n",
       "     Dt_Customer  Recency  MntWines  MntFruits  MntMeatProducts  \\\n",
       "18    2013-03-28       91      1012         80              498   \n",
       "126   2013-04-21       37       450        133              951   \n",
       "246   2013-05-20       40      1218         16              272   \n",
       "424   2013-04-13       77      1285         42              716   \n",
       "519   2014-03-01       19      1035        134              670   \n",
       "523   2012-09-30       73      1379         33              216   \n",
       "543   2013-08-07        9      1478         19              403   \n",
       "586   2012-09-23       65      1060         21              530   \n",
       "644   2013-03-10       73      1200        105              758   \n",
       "735   2014-04-29       46       967          0              617   \n",
       "766   2012-09-11        8       587         51              898   \n",
       "870   2013-09-28       27      1308          0              396   \n",
       "917   2013-08-07        9      1478         19              403   \n",
       "1010  2012-08-25       30      1230          0              396   \n",
       "1134  2013-10-29       74      1067        138              750   \n",
       "1325  2013-02-14       17      1205          0              235   \n",
       "1411  2013-05-20       40      1218         16              272   \n",
       "1577  2014-04-28       89      1252          0              465   \n",
       "1641  2013-09-23       71      1459          0               61   \n",
       "1953  2012-08-13        2      1285        105              653   \n",
       "1961  2013-07-09        8      1462         16              128   \n",
       "2098  2012-09-29       60      1486         55              278   \n",
       "2127  2013-03-30       60      1311          0              359   \n",
       "2131  2013-03-11       64       960          0              883   \n",
       "\n",
       "      MntFishProducts  MntSweetProducts  MntGoldProds  NumDealsPurchases  \\\n",
       "18                  0                16           176                  2   \n",
       "126               173                 0           216                  1   \n",
       "246               104                 0            80                  2   \n",
       "424                55                 0            21                  0   \n",
       "519                25                38             0                  1   \n",
       "523                 0                33            66                  1   \n",
       "543                 0                19             0                  1   \n",
       "586                32                 0           224                  1   \n",
       "644                 0                42           147                  1   \n",
       "735                43                50             0                  1   \n",
       "766               247                 0            86                  1   \n",
       "870                23                 0             0                  1   \n",
       "917                 0                19             0                  1   \n",
       "1010              232               178           158                  1   \n",
       "1134                0                19            39                  1   \n",
       "1325               19                14           205                  6   \n",
       "1411              104                 0            80                  2   \n",
       "1577               46                35             0                  1   \n",
       "1641                0                15           215                  5   \n",
       "1953               28                21             0                  1   \n",
       "1961                0                 0           160                  1   \n",
       "2098               49                 0           185                  2   \n",
       "2127               46                89            17                  1   \n",
       "2131               50                38             0                  1   \n",
       "\n",
       "      NumWebPurchases  NumCatalogPurchases  NumStorePurchases  \\\n",
       "18                 11                    4                  9   \n",
       "126                 3                    6                  6   \n",
       "246                 5                    3                  6   \n",
       "424                 7                   10                  5   \n",
       "519                 6                    3                 10   \n",
       "523                 2                    4                  9   \n",
       "543                 7                    6                  6   \n",
       "586                 5                   11                  5   \n",
       "644                 4                    2                  6   \n",
       "735                 4                    8                 13   \n",
       "766                 3                    6                  7   \n",
       "870                 5                    7                  4   \n",
       "917                 7                    6                  6   \n",
       "1010               10                    2                  8   \n",
       "1134                7                    5                  8   \n",
       "1325                6                    3                 13   \n",
       "1411                5                    3                  6   \n",
       "1577                4                    5                  8   \n",
       "1641                2                    5                  6   \n",
       "1953               10                    4                  8   \n",
       "1961                5                    3                  6   \n",
       "2098                4                    4                 10   \n",
       "2127                4                    3                 10   \n",
       "2131                5                    6                  8   \n",
       "\n",
       "      NumWebVisitsMonth  AcceptedCmp3  AcceptedCmp4  AcceptedCmp5  \\\n",
       "18                    5             0             0             0   \n",
       "126                   1             0             0             0   \n",
       "246                   6             0             1             1   \n",
       "424                   2             0             0             1   \n",
       "519                   3             0             0             1   \n",
       "523                   6             0             1             1   \n",
       "543                   3             0             1             1   \n",
       "586                   3             1             0             1   \n",
       "644                   2             0             1             1   \n",
       "735                   2             0             1             1   \n",
       "766                   2             0             0             0   \n",
       "870                   3             0             1             0   \n",
       "917                   3             0             1             1   \n",
       "1010                  5             0             1             1   \n",
       "1134                  4             0             1             1   \n",
       "1325                  7             0             0             0   \n",
       "1411                  6             0             1             1   \n",
       "1577                  1             0             1             1   \n",
       "1641                  5             1             0             1   \n",
       "1953                  8             0             0             0   \n",
       "1961                  6             0             1             1   \n",
       "2098                  6             1             0             1   \n",
       "2127                  2             0             0             1   \n",
       "2131                  3             0             0             0   \n",
       "\n",
       "      AcceptedCmp1  AcceptedCmp2  Complain  Z_CostContact  Z_Revenue  \\\n",
       "18               1             0         0              3         11   \n",
       "126              0             0         0              3         11   \n",
       "246              1             0         0              3         11   \n",
       "424              0             0         0              3         11   \n",
       "519              1             0         0              3         11   \n",
       "523              0             0         0              3         11   \n",
       "543              0             0         0              3         11   \n",
       "586              1             0         0              3         11   \n",
       "644              0             0         0              3         11   \n",
       "735              1             0         0              3         11   \n",
       "766              0             0         0              3         11   \n",
       "870              0             1         0              3         11   \n",
       "917              0             0         0              3         11   \n",
       "1010             1             0         0              3         11   \n",
       "1134             1             0         0              3         11   \n",
       "1325             0             0         0              3         11   \n",
       "1411             1             0         0              3         11   \n",
       "1577             0             0         0              3         11   \n",
       "1641             0             1         0              3         11   \n",
       "1953             0             0         0              3         11   \n",
       "1961             0             1         0              3         11   \n",
       "2098             0             0         0              3         11   \n",
       "2127             0             0         0              3         11   \n",
       "2131             1             0         0              3         11   \n",
       "\n",
       "      Response  pred_prob  P_Rank_gbm Predicted_Resp_Rank  spend_cnt  \\\n",
       "18           0   0.449751           9               Top 2          5   \n",
       "126          1   0.754980          10               Top 2          5   \n",
       "246          1   0.822806          10               Top 2          5   \n",
       "424          0   0.218375           9               Top 2          5   \n",
       "519          0   0.340111           9               Top 2          5   \n",
       "523          0   0.287055           9               Top 2          5   \n",
       "543          1   0.815661          10               Top 2          4   \n",
       "586          1   0.974178          10               Top 2          5   \n",
       "644          1   0.784164          10               Top 2          5   \n",
       "735          1   0.781324          10               Top 2          4   \n",
       "766          0   0.243082           9               Top 2          5   \n",
       "870          0   0.277505           9               Top 2          3   \n",
       "917          1   0.815661          10               Top 2          4   \n",
       "1010         0   0.216590           9               Top 2          5   \n",
       "1134         1   0.966180          10               Top 2          5   \n",
       "1325         0   0.211701           9               Top 2          5   \n",
       "1411         1   0.822806          10               Top 2          5   \n",
       "1577         0   0.459965           9               Top 2          4   \n",
       "1641         1   0.905000          10               Top 2          4   \n",
       "1953         1   0.732262          10               Top 2          5   \n",
       "1961         1   0.874737          10               Top 2          4   \n",
       "2098         1   0.889205          10               Top 2          5   \n",
       "2127         1   0.524438          10               Top 2          5   \n",
       "2131         1   0.954480          10               Top 2          4   \n",
       "\n",
       "     Engagement  Total_Spend spend_level  \n",
       "18          Low         1782  High Spend  \n",
       "126         Low         1923  High Spend  \n",
       "246         Low         1690  High Spend  \n",
       "424         Low         2119  High Spend  \n",
       "519         Low         1902  High Spend  \n",
       "523         Low         1727  High Spend  \n",
       "543         Low         1919  High Spend  \n",
       "586         Low         1867  High Spend  \n",
       "644         Low         2252  High Spend  \n",
       "735         Low         1677  High Spend  \n",
       "766         Low         1869  High Spend  \n",
       "870         Low         1727  High Spend  \n",
       "917         Low         1919  High Spend  \n",
       "1010        Low         2194  High Spend  \n",
       "1134        Low         2013  High Spend  \n",
       "1325        Low         1678  High Spend  \n",
       "1411        Low         1690  High Spend  \n",
       "1577        Low         1798  High Spend  \n",
       "1641        Low         1750  High Spend  \n",
       "1953        Low         2092  High Spend  \n",
       "1961        Low         1766  High Spend  \n",
       "2098        Low         2053  High Spend  \n",
       "2127        Low         1822  High Spend  \n",
       "2131        Low         1931  High Spend  "
      ]
     },
     "execution_count": 169,
     "metadata": {},
     "output_type": "execute_result"
    }
   ],
   "source": [
    "df_priority_1"
   ]
  },
  {
   "cell_type": "code",
   "execution_count": 170,
   "id": "825fd149",
   "metadata": {},
   "outputs": [
    {
     "data": {
      "text/plain": [
       "(88, 35)"
      ]
     },
     "execution_count": 170,
     "metadata": {},
     "output_type": "execute_result"
    }
   ],
   "source": [
    "df_priority_2=df_top2.loc[(df_top2['spend_level']=='High Spend') & (df_top2['Engagement']=='High'),:]\n",
    "df_priority_2.shape"
   ]
  },
  {
   "cell_type": "code",
   "execution_count": 171,
   "id": "24c96516",
   "metadata": {},
   "outputs": [
    {
     "data": {
      "text/plain": [
       "(226, 35)"
      ]
     },
     "execution_count": 171,
     "metadata": {},
     "output_type": "execute_result"
    }
   ],
   "source": [
    "df_priority_3=df_top2.loc[(df_top2['spend_level']=='Low Spend') & (df_top2['Engagement']=='High'),:]\n",
    "df_priority_3.shape"
   ]
  },
  {
   "cell_type": "code",
   "execution_count": 172,
   "id": "97176b90",
   "metadata": {},
   "outputs": [
    {
     "data": {
      "text/plain": [
       "(110, 35)"
      ]
     },
     "execution_count": 172,
     "metadata": {},
     "output_type": "execute_result"
    }
   ],
   "source": [
    "df_priority_4=df_top2.loc[(df_top2['spend_level']=='Low Spend') & (df_top2['Engagement']=='Low'),:]\n",
    "df_priority_4.shape"
   ]
  },
  {
   "cell_type": "markdown",
   "id": "aab8bb33",
   "metadata": {},
   "source": [
    "# T - Treatment (Identify Service/Product Preferences of each Priority Segment)"
   ]
  },
  {
   "cell_type": "code",
   "execution_count": 175,
   "id": "445f0167",
   "metadata": {},
   "outputs": [],
   "source": [
    "spend_cat_priority1=df_priority_1[['MntWines','MntFruits','MntMeatProducts','MntFishProducts','MntSweetProducts','MntGoldProds']]"
   ]
  },
  {
   "cell_type": "code",
   "execution_count": 176,
   "id": "d1798e47",
   "metadata": {},
   "outputs": [
    {
     "data": {
      "text/plain": [
       "MntWines            1183.000000\n",
       "MntMeatProducts      492.000000\n",
       "MntGoldProds          86.458333\n",
       "MntFishProducts       53.166667\n",
       "MntFruits             40.958333\n",
       "MntSweetProducts      26.083333\n",
       "dtype: float64"
      ]
     },
     "execution_count": 176,
     "metadata": {},
     "output_type": "execute_result"
    }
   ],
   "source": [
    "spend_avg = spend_cat_priority1.mean(axis=0).sort_values(ascending=False)\n",
    "spend_avg"
   ]
  },
  {
   "cell_type": "code",
   "execution_count": 178,
   "id": "67735092",
   "metadata": {},
   "outputs": [],
   "source": [
    "spend_cat_priority2=df_priority_2[['MntWines','MntFruits','MntMeatProducts','MntFishProducts','MntSweetProducts','MntGoldProds']]"
   ]
  },
  {
   "cell_type": "code",
   "execution_count": 179,
   "id": "5dbe4d65",
   "metadata": {},
   "outputs": [
    {
     "data": {
      "text/plain": [
       "MntWines            926.352273\n",
       "MntMeatProducts     676.806818\n",
       "MntFishProducts     106.329545\n",
       "MntGoldProds         80.340909\n",
       "MntSweetProducts     77.897727\n",
       "MntFruits            74.977273\n",
       "dtype: float64"
      ]
     },
     "execution_count": 179,
     "metadata": {},
     "output_type": "execute_result"
    }
   ],
   "source": [
    "spend_avg = spend_cat_priority2.mean(axis=0).sort_values(ascending=False)\n",
    "spend_avg"
   ]
  },
  {
   "cell_type": "code",
   "execution_count": 180,
   "id": "6839c405",
   "metadata": {},
   "outputs": [],
   "source": [
    "spend_cat_priority3=df_priority_3[['MntWines','MntFruits','MntMeatProducts','MntFishProducts','MntSweetProducts','MntGoldProds']]"
   ]
  },
  {
   "cell_type": "code",
   "execution_count": 181,
   "id": "0f816225",
   "metadata": {},
   "outputs": [
    {
     "data": {
      "text/plain": [
       "MntWines            358.345133\n",
       "MntMeatProducts     234.398230\n",
       "MntGoldProds         60.946903\n",
       "MntFishProducts      51.415929\n",
       "MntSweetProducts     41.123894\n",
       "MntFruits            37.876106\n",
       "dtype: float64"
      ]
     },
     "execution_count": 181,
     "metadata": {},
     "output_type": "execute_result"
    }
   ],
   "source": [
    "spend_avg = spend_cat_priority3.mean(axis=0).sort_values(ascending=False)\n",
    "spend_avg"
   ]
  },
  {
   "cell_type": "code",
   "execution_count": 182,
   "id": "1fdc7efc",
   "metadata": {},
   "outputs": [],
   "source": [
    "spend_cat_priority4=df_priority_4[['MntWines','MntFruits','MntMeatProducts','MntFishProducts','MntSweetProducts','MntGoldProds']]"
   ]
  },
  {
   "cell_type": "code",
   "execution_count": 183,
   "id": "a592217a",
   "metadata": {},
   "outputs": [
    {
     "data": {
      "text/plain": [
       "MntWines            457.327273\n",
       "MntMeatProducts     147.445455\n",
       "MntGoldProds         45.554545\n",
       "MntFishProducts      16.172727\n",
       "MntFruits            14.000000\n",
       "MntSweetProducts     11.072727\n",
       "dtype: float64"
      ]
     },
     "execution_count": 183,
     "metadata": {},
     "output_type": "execute_result"
    }
   ],
   "source": [
    "spend_avg = spend_cat_priority4.mean(axis=0).sort_values(ascending=False)\n",
    "spend_avg"
   ]
  },
  {
   "cell_type": "markdown",
   "id": "73632e83",
   "metadata": {},
   "source": [
    "# Strategy build for creating the campaign :\n",
    "\n",
    "1) Audience should be the top 20% of the people as per the ranked data. This would lead to 80% reduction in Marketing cost and higher response rate.\n",
    "\n",
    "2) 1st Priority : People with Low Engagement and High Spend\n",
    "\n",
    "   2nd Priority : People with High Engagement and High Spend\n",
    "    \n",
    "   3rd Priority : People with High Engagement and Low Spend\n",
    "    \n",
    "   4th Proirity : People with Low Engagement and Low Spend\n",
    "    \n",
    "3) The best offers should be provided on the following products:\n",
    "   Wines/Fish/Meat/Gold\n",
    "\n",
    "    \n"
   ]
  },
  {
   "cell_type": "markdown",
   "id": "9726fe65",
   "metadata": {},
   "source": [
    "# Objective of the Project\n",
    "Leverage the spend behavior and past campaign responses to build a response model that can\n",
    "be used to devise a strategy that enhances the response rates and improves profitability of marketing campaigns"
   ]
  },
  {
   "cell_type": "markdown",
   "id": "645133d9",
   "metadata": {},
   "source": [
    "# Algorithms Used :\n",
    "In this project we have used Logistic Regression, Decision Trees, Random Forests and Gradient Boosting Algorithms"
   ]
  },
  {
   "cell_type": "markdown",
   "id": "e0448263",
   "metadata": {},
   "source": [
    "# Final Model Algorithm\n",
    "Among the models that we tried building the GBM Algorithm performed the best in terms of F1_Score\n",
    "\n",
    "Therefore we have kept GBM as the final model algorithm"
   ]
  },
  {
   "cell_type": "markdown",
   "id": "bf138530",
   "metadata": {},
   "source": [
    "# Grid Search CV parameters\n",
    "Maximum Depth of Tree - 5\n",
    "\n",
    "Minimum Sample Size for Nodes to be Split - 75 Observations"
   ]
  },
  {
   "cell_type": "markdown",
   "id": "21c5832c",
   "metadata": {},
   "source": [
    "# Model Performance Measures\n",
    "Accuracy from GBM Model : 0.86\n",
    "\n",
    "\n",
    "Precision from GBM Model : 0.58\n",
    "\n",
    "\n",
    "Recall from GBM Model : 0.25\n",
    "\n",
    "\n",
    "f1_score from GBM Model : 0.35\n"
   ]
  },
  {
   "cell_type": "code",
   "execution_count": null,
   "id": "a53a7bb7",
   "metadata": {},
   "outputs": [],
   "source": []
  },
  {
   "cell_type": "code",
   "execution_count": null,
   "id": "2231653f",
   "metadata": {},
   "outputs": [],
   "source": []
  },
  {
   "cell_type": "code",
   "execution_count": null,
   "id": "529fbd18",
   "metadata": {},
   "outputs": [],
   "source": []
  },
  {
   "cell_type": "code",
   "execution_count": null,
   "id": "13ec8eda",
   "metadata": {},
   "outputs": [],
   "source": []
  }
 ],
 "metadata": {
  "kernelspec": {
   "display_name": "Python 3 (ipykernel)",
   "language": "python",
   "name": "python3"
  },
  "language_info": {
   "codemirror_mode": {
    "name": "ipython",
    "version": 3
   },
   "file_extension": ".py",
   "mimetype": "text/x-python",
   "name": "python",
   "nbconvert_exporter": "python",
   "pygments_lexer": "ipython3",
   "version": "3.9.13"
  }
 },
 "nbformat": 4,
 "nbformat_minor": 5
}
